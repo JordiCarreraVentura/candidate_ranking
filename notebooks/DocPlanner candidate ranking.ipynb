{
 "cells": [
  {
   "cell_type": "markdown",
   "id": "a368850d-4211-4ec4-9422-a78c8cd4465e",
   "metadata": {},
   "source": [
    "# Summary\n",
    "\n",
    "This notebook outlines an error detection pipeline that can help find and sort valuable text samples for manual review.\n"
   ]
  },
  {
   "cell_type": "markdown",
   "id": "d184c87b-bcd9-47b5-92b5-316cc8795782",
   "metadata": {},
   "source": [
    "## Problem description\n",
    "\n",
    "The need arises in the context of an **automatic speech recognition*** and transcription system (ASR for short) used in the medical domain. The transcriptions currently contain a number of errors big enough to be problematic, most likely due to the significant disparity between the **target domain (healthcare)** and the domain composition of the datasets used for training the base ASR system (most likely not focused exclusively on healthcare).\n",
    "\n",
    "In order to improve the ASR's performance, these errors should be detected, so that they can be characterized, the effort of fixing them can then be adequately quantified, the impact and trade-off of doing so can thus be estimated (so that each error type can be prioritized effectively) and, finally, so that corrected versions of the ideal transcription can be produced (and added as regression tests and/or further training data to mitigate the model's underfitting).\n",
    "\n",
    "The core task of transcription error detection can be framed, to at least some extent, as the more general **spellcehcking/error detection** task. Our proposed solution in this spirit is outlined throughout the rest of this notebook.\n",
    "\n",
    "However, it's worth also noting that a purely binary objective function (_error_ or _no error_) would not be optimal in our case, though, as not all errors are equally damaging for the proper understanding of a transcription (more damaging errors should be assigning higher scores, and prioritized accordingly) and, similarly, not all transcriptions contain the same amount of errors (we'd expect transcriptions containing many errors to be ranked higher than those containing fewer errors). Ideally, this objective calls for a probabilistic score that can reflect these quantitative nuances.\n",
    "\n",
    "This becomes particularly more important in the context of an annotation task where a limited-size team of annotators is required to annotate as effectively as possible within a constrained annotation budget in terms of person hours. In order to scale the annotation process and ensure that the annotators, whichever their number, can be as productive as possible, we should have them look at samples with a higher error density first, in order to highlight recurrent patterns and/or particularly serious ASR errors."
   ]
  },
  {
   "cell_type": "markdown",
   "id": "43382bf1-cdb3-43d4-9f53-4f20dde976ad",
   "metadata": {},
   "source": [
    "## Proposed solution\n",
    "\n",
    "To ensure the domain relevance of the prototype presented here, we leverage the English translation of the [CodiEsp corpus](https://zenodo.org/records/3693570#.X3rm8C8RrOR) of clinical cases (general medicine) as our **dataset**. File `src/codiesp.py` contains the Python data loaders for the dataset and exposes as constants two pandas DataFrames (`CODIESP`, `TEST`) with the expected data schema. Please note that this module presupposes the existence of the sibling folder `data`, under which the CodiEsp dataset raw data files must have been placed:\n",
    "\n",
    "```\n",
    ".\n",
    "├── data                                   # generic data folder\n",
    "│   └── final_dataset_v2_to_publish             # RAW DATASET FILES\n",
    "├── notebooks\n",
    "│   ├── DocPlanner candidate ranking.ipynb              # (this notebook)\n",
    "├── requirements.txt\n",
    "└── src\n",
    "    ├── __init__.py\n",
    "    ├── __pycache__\n",
    "    ├── codiesp.py                            # dataset loaders\n",
    "    ├── error_injector.py\n",
    "    ├── language_model.py\n",
    "    └── utils.py\n",
    "```\n",
    "\n",
    "> **CodiEsp corpus: Spanish clinical cases coded in ICD10 (CIE10) - eHealth CLEF2020**\n",
    "> The CodiEsp corpus contains manually coded clinical cases. All documents are in Spanish language and CIE10 is the coding terminology (it is the Spanish version of ICD10-CM and ICD10-PCS). The CodiEsp corpus has been randomly sampled into three subsets: the train, the development, and the test set. The train set contains 500 clinical cases, and the development and test set 250 clinical cases each.\n",
    "\n",
    "In the same vein, as the **base model** for detection will be using [Bio-ClinicalBERT](https://huggingface.co/emilyalsentzer/Bio_ClinicalBERT), a transformer fine-tuned for the healthcare domain:\n",
    "\n",
    "> This model card describes the **Bio+Clinical BERT** model, which was initialized from **BioBERT** & trained on all **MIMIC** notes.\n",
    "> \n",
    "> 1. **BioBERT** (BioBERT-Base v1.0 + PubMed 200K + PMC 270K)\n",
    "> 2. The Bio_ClinicalBERT model was trained on all notes from **MIMIC** III, a database containing electronic health records from ICU patients at the Beth Israel Hospital in Boston, MA. For more details on MIMIC, see here. All notes from the NOTEEVENTS table were included (~880M words).\n",
    "\n",
    "For our task, we will\n",
    "1. fine-tune Bio-ClinicalBERT on\n",
    "   1. the training portion of CodiEsp as the negative examples (_no error_)\n",
    "   2. and a corrupted version of it as the positive cases (_error_) that we will **synthesize programmatically**;\n",
    "2. evaluate the fine-tuned model on\n",
    "   1. a random subset of 1000 sentences from CodiEsp's test set again as the negative class\n",
    "   2. their corrupted counterparts as the positive class.\n",
    "\n",
    "Note that CodiEsp contains full clinical cases but that our samples have been segmented at the **sentence level**.\n",
    "\n",
    "The code used to **synthesize errors** from real samples is implemented in module `src/error_injector`. In addition, module `src/language_model` implements a wrapper for easier handling of the **model, its tokenizer and its parameters**, for convenience. Lastly, module `src/utils` contains **miscellaneous functions** to avoid overloading this notebook with code."
   ]
  },
  {
   "cell_type": "markdown",
   "id": "abe7e298-a861-43b7-88e2-e71ad87ae552",
   "metadata": {},
   "source": [
    "# References\n",
    "\n",
    "1. [Pre-trained model: Bio-ClinicalBERT (link to HuggingFace)](https://huggingface.co/emilyalsentzer/Bio_ClinicalBERT)\n",
    "2. [Clinical cases dataset](https://zenodo.org/records/3693570#.X3rm8C8RrOR)"
   ]
  },
  {
   "cell_type": "markdown",
   "id": "e280a46a-832d-4cb6-9ab5-9961219cf6ae",
   "metadata": {},
   "source": [
    "# About this notebook\n",
    "\n",
    "The rest of this notebook details the prototype pipeline implementing the 1) dataset synthesis, 2) model fine-tuning, 3) model evaluation workflow introduced in the previous section. \n",
    "\n",
    "1. It first installs the dependencies from the associated `requirements.txt` file.\n",
    "2. It then initializes the dependencies and related artifacts.\n",
    "3. Next, synthetic errors are added to both the training and test sets.\n",
    "4. The training set is then used to fine-tune Bio-ClinicalBERT.\n",
    "5. Once the model has been fine-tuned, it is concept-proven on a single sample.\n",
    "6. After this initial smoke test, the fine-tune model is ran on the full test set and the final metric is computed.\n",
    "7. The result is a 92% accuracy"
   ]
  },
  {
   "cell_type": "markdown",
   "id": "00f5bb85-9bc4-46b6-9aff-41a99db21bfb",
   "metadata": {},
   "source": [
    "# Prototype pipeline"
   ]
  },
  {
   "cell_type": "markdown",
   "id": "12f20d86-57d8-4075-88c3-f5f86a4ce36c",
   "metadata": {},
   "source": [
    "## Install project dependencies"
   ]
  },
  {
   "cell_type": "code",
   "execution_count": 98,
   "id": "9e6e657f-ad97-4172-809b-c7cabf11cb43",
   "metadata": {
    "scrolled": true
   },
   "outputs": [
    {
     "name": "stdout",
     "output_type": "stream",
     "text": [
      "Requirement already satisfied: accelerate>=0.26.0 in /Library/Frameworks/Python.framework/Versions/3.11/lib/python3.11/site-packages (from -r ../requirements.txt (line 1)) (1.2.1)\n",
      "Requirement already satisfied: datasets==3.3.2 in /Library/Frameworks/Python.framework/Versions/3.11/lib/python3.11/site-packages (from -r ../requirements.txt (line 2)) (3.3.2)\n",
      "Requirement already satisfied: fuzzyset2==0.2.5 in /Library/Frameworks/Python.framework/Versions/3.11/lib/python3.11/site-packages (from -r ../requirements.txt (line 3)) (0.2.5)\n",
      "Requirement already satisfied: itables==2.2.4 in /Library/Frameworks/Python.framework/Versions/3.11/lib/python3.11/site-packages (from -r ../requirements.txt (line 4)) (2.2.4)\n",
      "Requirement already satisfied: jupyter==1.1.1 in /Library/Frameworks/Python.framework/Versions/3.11/lib/python3.11/site-packages (from -r ../requirements.txt (line 5)) (1.1.1)\n",
      "Requirement already satisfied: magentic==0.38.1 in /Library/Frameworks/Python.framework/Versions/3.11/lib/python3.11/site-packages (from -r ../requirements.txt (line 6)) (0.38.1)\n",
      "Requirement already satisfied: matplotlib==3.10.0 in /Library/Frameworks/Python.framework/Versions/3.11/lib/python3.11/site-packages (from -r ../requirements.txt (line 7)) (3.10.0)\n",
      "Requirement already satisfied: nltk==3.9.1 in /Library/Frameworks/Python.framework/Versions/3.11/lib/python3.11/site-packages (from -r ../requirements.txt (line 8)) (3.9.1)\n",
      "Requirement already satisfied: numpy==2.2.3 in /Library/Frameworks/Python.framework/Versions/3.11/lib/python3.11/site-packages (from -r ../requirements.txt (line 9)) (2.2.3)\n",
      "Requirement already satisfied: openpyxl==3.1.5 in /Users/jordi/Library/Python/3.11/lib/python/site-packages (from -r ../requirements.txt (line 10)) (3.1.5)\n",
      "Requirement already satisfied: pandas==2.2.3 in /Library/Frameworks/Python.framework/Versions/3.11/lib/python3.11/site-packages (from -r ../requirements.txt (line 11)) (2.2.3)\n",
      "Requirement already satisfied: protobuf==5.29.3 in /Library/Frameworks/Python.framework/Versions/3.11/lib/python3.11/site-packages (from -r ../requirements.txt (line 12)) (5.29.3)\n",
      "Requirement already satisfied: pydantic==2.10.6 in /Library/Frameworks/Python.framework/Versions/3.11/lib/python3.11/site-packages (from -r ../requirements.txt (line 13)) (2.10.6)\n",
      "Requirement already satisfied: python-dotenv==1.0.1 in /Library/Frameworks/Python.framework/Versions/3.11/lib/python3.11/site-packages (from -r ../requirements.txt (line 14)) (1.0.1)\n",
      "Requirement already satisfied: scikit-learn==1.6.1 in /Library/Frameworks/Python.framework/Versions/3.11/lib/python3.11/site-packages (from -r ../requirements.txt (line 15)) (1.6.1)\n",
      "Requirement already satisfied: seaborn==0.13.2 in /Library/Frameworks/Python.framework/Versions/3.11/lib/python3.11/site-packages (from -r ../requirements.txt (line 16)) (0.13.2)\n",
      "Requirement already satisfied: sentencepiece==0.2.0 in /Library/Frameworks/Python.framework/Versions/3.11/lib/python3.11/site-packages (from -r ../requirements.txt (line 17)) (0.2.0)\n",
      "Requirement already satisfied: sentence-transformers==3.4.1 in /Library/Frameworks/Python.framework/Versions/3.11/lib/python3.11/site-packages (from -r ../requirements.txt (line 18)) (3.4.1)\n",
      "Requirement already satisfied: skimpy==0.0.18 in /Library/Frameworks/Python.framework/Versions/3.11/lib/python3.11/site-packages (from -r ../requirements.txt (line 19)) (0.0.18)\n",
      "Requirement already satisfied: tabulate==0.9.0 in /Users/jordi/Library/Python/3.11/lib/python/site-packages (from -r ../requirements.txt (line 20)) (0.9.0)\n",
      "Requirement already satisfied: textblob==0.19.0 in /Library/Frameworks/Python.framework/Versions/3.11/lib/python3.11/site-packages (from -r ../requirements.txt (line 21)) (0.19.0)\n",
      "Requirement already satisfied: transformers==4.48.3 in /Library/Frameworks/Python.framework/Versions/3.11/lib/python3.11/site-packages (from -r ../requirements.txt (line 22)) (4.48.3)\n",
      "Requirement already satisfied: xgboost==2.1.4 in /Library/Frameworks/Python.framework/Versions/3.11/lib/python3.11/site-packages (from -r ../requirements.txt (line 23)) (2.1.4)\n",
      "Requirement already satisfied: filelock in /Library/Frameworks/Python.framework/Versions/3.11/lib/python3.11/site-packages (from datasets==3.3.2->-r ../requirements.txt (line 2)) (3.16.1)\n",
      "Requirement already satisfied: pyarrow>=15.0.0 in /Library/Frameworks/Python.framework/Versions/3.11/lib/python3.11/site-packages (from datasets==3.3.2->-r ../requirements.txt (line 2)) (18.1.0)\n",
      "Requirement already satisfied: dill<0.3.9,>=0.3.0 in /Library/Frameworks/Python.framework/Versions/3.11/lib/python3.11/site-packages (from datasets==3.3.2->-r ../requirements.txt (line 2)) (0.3.8)\n",
      "Requirement already satisfied: requests>=2.32.2 in /Library/Frameworks/Python.framework/Versions/3.11/lib/python3.11/site-packages (from datasets==3.3.2->-r ../requirements.txt (line 2)) (2.32.3)\n",
      "Requirement already satisfied: tqdm>=4.66.3 in /Library/Frameworks/Python.framework/Versions/3.11/lib/python3.11/site-packages (from datasets==3.3.2->-r ../requirements.txt (line 2)) (4.66.6)\n",
      "Requirement already satisfied: xxhash in /Library/Frameworks/Python.framework/Versions/3.11/lib/python3.11/site-packages (from datasets==3.3.2->-r ../requirements.txt (line 2)) (3.5.0)\n",
      "Requirement already satisfied: multiprocess<0.70.17 in /Library/Frameworks/Python.framework/Versions/3.11/lib/python3.11/site-packages (from datasets==3.3.2->-r ../requirements.txt (line 2)) (0.70.16)\n",
      "Requirement already satisfied: fsspec<=2024.12.0,>=2023.1.0 in /Library/Frameworks/Python.framework/Versions/3.11/lib/python3.11/site-packages (from fsspec[http]<=2024.12.0,>=2023.1.0->datasets==3.3.2->-r ../requirements.txt (line 2)) (2024.9.0)\n",
      "Requirement already satisfied: aiohttp in /Library/Frameworks/Python.framework/Versions/3.11/lib/python3.11/site-packages (from datasets==3.3.2->-r ../requirements.txt (line 2)) (3.11.11)\n",
      "Requirement already satisfied: huggingface-hub>=0.24.0 in /Library/Frameworks/Python.framework/Versions/3.11/lib/python3.11/site-packages (from datasets==3.3.2->-r ../requirements.txt (line 2)) (0.27.1)\n",
      "Requirement already satisfied: packaging in /Library/Frameworks/Python.framework/Versions/3.11/lib/python3.11/site-packages (from datasets==3.3.2->-r ../requirements.txt (line 2)) (24.2)\n",
      "Requirement already satisfied: pyyaml>=5.1 in /Library/Frameworks/Python.framework/Versions/3.11/lib/python3.11/site-packages (from datasets==3.3.2->-r ../requirements.txt (line 2)) (6.0.2)\n",
      "Requirement already satisfied: rapidfuzz>=2.0 in /Library/Frameworks/Python.framework/Versions/3.11/lib/python3.11/site-packages (from fuzzyset2==0.2.5->-r ../requirements.txt (line 3)) (3.10.1)\n",
      "Requirement already satisfied: ipython in /Library/Frameworks/Python.framework/Versions/3.11/lib/python3.11/site-packages (from itables==2.2.4->-r ../requirements.txt (line 4)) (8.29.0)\n",
      "Requirement already satisfied: notebook in /Library/Frameworks/Python.framework/Versions/3.11/lib/python3.11/site-packages (from jupyter==1.1.1->-r ../requirements.txt (line 5)) (7.2.2)\n",
      "Requirement already satisfied: jupyter-console in /Library/Frameworks/Python.framework/Versions/3.11/lib/python3.11/site-packages (from jupyter==1.1.1->-r ../requirements.txt (line 5)) (6.6.3)\n",
      "Requirement already satisfied: nbconvert in /Library/Frameworks/Python.framework/Versions/3.11/lib/python3.11/site-packages (from jupyter==1.1.1->-r ../requirements.txt (line 5)) (7.16.4)\n",
      "Requirement already satisfied: ipykernel in /Library/Frameworks/Python.framework/Versions/3.11/lib/python3.11/site-packages (from jupyter==1.1.1->-r ../requirements.txt (line 5)) (6.29.5)\n",
      "Requirement already satisfied: ipywidgets in /Library/Frameworks/Python.framework/Versions/3.11/lib/python3.11/site-packages (from jupyter==1.1.1->-r ../requirements.txt (line 5)) (8.1.5)\n",
      "Requirement already satisfied: jupyterlab in /Library/Frameworks/Python.framework/Versions/3.11/lib/python3.11/site-packages (from jupyter==1.1.1->-r ../requirements.txt (line 5)) (4.2.6)\n",
      "Requirement already satisfied: filetype>=1.2.0 in /Library/Frameworks/Python.framework/Versions/3.11/lib/python3.11/site-packages (from magentic==0.38.1->-r ../requirements.txt (line 6)) (1.2.0)\n",
      "Requirement already satisfied: logfire-api>=0.1.0 in /Library/Frameworks/Python.framework/Versions/3.11/lib/python3.11/site-packages (from magentic==0.38.1->-r ../requirements.txt (line 6)) (3.6.2)\n",
      "Requirement already satisfied: openai>=1.56.0 in /Library/Frameworks/Python.framework/Versions/3.11/lib/python3.11/site-packages (from magentic==0.38.1->-r ../requirements.txt (line 6)) (1.60.1)\n",
      "Requirement already satisfied: pydantic-settings>=2.0.0 in /Library/Frameworks/Python.framework/Versions/3.11/lib/python3.11/site-packages (from magentic==0.38.1->-r ../requirements.txt (line 6)) (2.8.0)\n",
      "Requirement already satisfied: typing-extensions>=4.5.0 in /Library/Frameworks/Python.framework/Versions/3.11/lib/python3.11/site-packages (from magentic==0.38.1->-r ../requirements.txt (line 6)) (4.12.2)\n",
      "Requirement already satisfied: contourpy>=1.0.1 in /Library/Frameworks/Python.framework/Versions/3.11/lib/python3.11/site-packages (from matplotlib==3.10.0->-r ../requirements.txt (line 7)) (1.3.1)\n",
      "Requirement already satisfied: cycler>=0.10 in /Library/Frameworks/Python.framework/Versions/3.11/lib/python3.11/site-packages (from matplotlib==3.10.0->-r ../requirements.txt (line 7)) (0.12.1)\n",
      "Requirement already satisfied: fonttools>=4.22.0 in /Library/Frameworks/Python.framework/Versions/3.11/lib/python3.11/site-packages (from matplotlib==3.10.0->-r ../requirements.txt (line 7)) (4.55.3)\n",
      "Requirement already satisfied: kiwisolver>=1.3.1 in /Library/Frameworks/Python.framework/Versions/3.11/lib/python3.11/site-packages (from matplotlib==3.10.0->-r ../requirements.txt (line 7)) (1.4.8)\n",
      "Requirement already satisfied: pillow>=8 in /Library/Frameworks/Python.framework/Versions/3.11/lib/python3.11/site-packages (from matplotlib==3.10.0->-r ../requirements.txt (line 7)) (10.4.0)\n",
      "Requirement already satisfied: pyparsing>=2.3.1 in /Library/Frameworks/Python.framework/Versions/3.11/lib/python3.11/site-packages (from matplotlib==3.10.0->-r ../requirements.txt (line 7)) (3.2.1)\n",
      "Requirement already satisfied: python-dateutil>=2.7 in /Library/Frameworks/Python.framework/Versions/3.11/lib/python3.11/site-packages (from matplotlib==3.10.0->-r ../requirements.txt (line 7)) (2.9.0.post0)\n",
      "Requirement already satisfied: click in /Library/Frameworks/Python.framework/Versions/3.11/lib/python3.11/site-packages (from nltk==3.9.1->-r ../requirements.txt (line 8)) (8.1.7)\n",
      "Requirement already satisfied: joblib in /Library/Frameworks/Python.framework/Versions/3.11/lib/python3.11/site-packages (from nltk==3.9.1->-r ../requirements.txt (line 8)) (1.4.2)\n",
      "Requirement already satisfied: regex>=2021.8.3 in /Library/Frameworks/Python.framework/Versions/3.11/lib/python3.11/site-packages (from nltk==3.9.1->-r ../requirements.txt (line 8)) (2024.9.11)\n",
      "Requirement already satisfied: et-xmlfile in /Users/jordi/Library/Python/3.11/lib/python/site-packages (from openpyxl==3.1.5->-r ../requirements.txt (line 10)) (2.0.0)\n",
      "Requirement already satisfied: pytz>=2020.1 in /Library/Frameworks/Python.framework/Versions/3.11/lib/python3.11/site-packages (from pandas==2.2.3->-r ../requirements.txt (line 11)) (2024.2)\n",
      "Requirement already satisfied: tzdata>=2022.7 in /Library/Frameworks/Python.framework/Versions/3.11/lib/python3.11/site-packages (from pandas==2.2.3->-r ../requirements.txt (line 11)) (2024.2)\n",
      "Requirement already satisfied: annotated-types>=0.6.0 in /Library/Frameworks/Python.framework/Versions/3.11/lib/python3.11/site-packages (from pydantic==2.10.6->-r ../requirements.txt (line 13)) (0.7.0)\n",
      "Requirement already satisfied: pydantic-core==2.27.2 in /Library/Frameworks/Python.framework/Versions/3.11/lib/python3.11/site-packages (from pydantic==2.10.6->-r ../requirements.txt (line 13)) (2.27.2)\n",
      "Requirement already satisfied: scipy>=1.6.0 in /Library/Frameworks/Python.framework/Versions/3.11/lib/python3.11/site-packages (from scikit-learn==1.6.1->-r ../requirements.txt (line 15)) (1.14.1)\n",
      "Requirement already satisfied: threadpoolctl>=3.1.0 in /Library/Frameworks/Python.framework/Versions/3.11/lib/python3.11/site-packages (from scikit-learn==1.6.1->-r ../requirements.txt (line 15)) (3.5.0)\n",
      "Requirement already satisfied: torch>=1.11.0 in /Library/Frameworks/Python.framework/Versions/3.11/lib/python3.11/site-packages (from sentence-transformers==3.4.1->-r ../requirements.txt (line 18)) (2.5.1)\n",
      "Requirement already satisfied: pandas-stubs>=2.2.2.240807 in /Library/Frameworks/Python.framework/Versions/3.11/lib/python3.11/site-packages (from skimpy==0.0.18->-r ../requirements.txt (line 19)) (2.2.3.241126)\n",
      "Requirement already satisfied: polars>=1.17.1 in /Library/Frameworks/Python.framework/Versions/3.11/lib/python3.11/site-packages (from skimpy==0.0.18->-r ../requirements.txt (line 19)) (1.23.0)\n",
      "Requirement already satisfied: pygments>=2.18.0 in /Library/Frameworks/Python.framework/Versions/3.11/lib/python3.11/site-packages (from skimpy==0.0.18->-r ../requirements.txt (line 19)) (2.18.0)\n",
      "Requirement already satisfied: rich>=13.9.4 in /Library/Frameworks/Python.framework/Versions/3.11/lib/python3.11/site-packages (from skimpy==0.0.18->-r ../requirements.txt (line 19)) (13.9.4)\n",
      "Requirement already satisfied: typeguard>=4.4.1 in /Library/Frameworks/Python.framework/Versions/3.11/lib/python3.11/site-packages (from skimpy==0.0.18->-r ../requirements.txt (line 19)) (4.4.2)\n",
      "Requirement already satisfied: tokenizers<0.22,>=0.21 in /Library/Frameworks/Python.framework/Versions/3.11/lib/python3.11/site-packages (from transformers==4.48.3->-r ../requirements.txt (line 22)) (0.21.0)\n",
      "Requirement already satisfied: safetensors>=0.4.1 in /Library/Frameworks/Python.framework/Versions/3.11/lib/python3.11/site-packages (from transformers==4.48.3->-r ../requirements.txt (line 22)) (0.5.2)\n",
      "Requirement already satisfied: psutil in /Library/Frameworks/Python.framework/Versions/3.11/lib/python3.11/site-packages (from accelerate>=0.26.0->-r ../requirements.txt (line 1)) (6.1.1)\n",
      "Requirement already satisfied: aiohappyeyeballs>=2.3.0 in /Library/Frameworks/Python.framework/Versions/3.11/lib/python3.11/site-packages (from aiohttp->datasets==3.3.2->-r ../requirements.txt (line 2)) (2.4.4)\n",
      "Requirement already satisfied: aiosignal>=1.1.2 in /Library/Frameworks/Python.framework/Versions/3.11/lib/python3.11/site-packages (from aiohttp->datasets==3.3.2->-r ../requirements.txt (line 2)) (1.3.2)\n",
      "Requirement already satisfied: attrs>=17.3.0 in /Library/Frameworks/Python.framework/Versions/3.11/lib/python3.11/site-packages (from aiohttp->datasets==3.3.2->-r ../requirements.txt (line 2)) (24.2.0)\n",
      "Requirement already satisfied: frozenlist>=1.1.1 in /Library/Frameworks/Python.framework/Versions/3.11/lib/python3.11/site-packages (from aiohttp->datasets==3.3.2->-r ../requirements.txt (line 2)) (1.5.0)\n",
      "Requirement already satisfied: multidict<7.0,>=4.5 in /Library/Frameworks/Python.framework/Versions/3.11/lib/python3.11/site-packages (from aiohttp->datasets==3.3.2->-r ../requirements.txt (line 2)) (6.1.0)\n",
      "Requirement already satisfied: propcache>=0.2.0 in /Library/Frameworks/Python.framework/Versions/3.11/lib/python3.11/site-packages (from aiohttp->datasets==3.3.2->-r ../requirements.txt (line 2)) (0.2.1)\n",
      "Requirement already satisfied: yarl<2.0,>=1.17.0 in /Library/Frameworks/Python.framework/Versions/3.11/lib/python3.11/site-packages (from aiohttp->datasets==3.3.2->-r ../requirements.txt (line 2)) (1.18.3)\n",
      "Requirement already satisfied: appnope in /Library/Frameworks/Python.framework/Versions/3.11/lib/python3.11/site-packages (from ipykernel->jupyter==1.1.1->-r ../requirements.txt (line 5)) (0.1.4)\n",
      "Requirement already satisfied: comm>=0.1.1 in /Library/Frameworks/Python.framework/Versions/3.11/lib/python3.11/site-packages (from ipykernel->jupyter==1.1.1->-r ../requirements.txt (line 5)) (0.2.2)\n",
      "Requirement already satisfied: debugpy>=1.6.5 in /Library/Frameworks/Python.framework/Versions/3.11/lib/python3.11/site-packages (from ipykernel->jupyter==1.1.1->-r ../requirements.txt (line 5)) (1.8.9)\n",
      "Requirement already satisfied: jupyter-client>=6.1.12 in /Library/Frameworks/Python.framework/Versions/3.11/lib/python3.11/site-packages (from ipykernel->jupyter==1.1.1->-r ../requirements.txt (line 5)) (8.6.3)\n",
      "Requirement already satisfied: jupyter-core!=5.0.*,>=4.12 in /Library/Frameworks/Python.framework/Versions/3.11/lib/python3.11/site-packages (from ipykernel->jupyter==1.1.1->-r ../requirements.txt (line 5)) (5.7.2)\n",
      "Requirement already satisfied: matplotlib-inline>=0.1 in /Library/Frameworks/Python.framework/Versions/3.11/lib/python3.11/site-packages (from ipykernel->jupyter==1.1.1->-r ../requirements.txt (line 5)) (0.1.7)\n",
      "Requirement already satisfied: nest-asyncio in /Library/Frameworks/Python.framework/Versions/3.11/lib/python3.11/site-packages (from ipykernel->jupyter==1.1.1->-r ../requirements.txt (line 5)) (1.6.0)\n",
      "Requirement already satisfied: pyzmq>=24 in /Library/Frameworks/Python.framework/Versions/3.11/lib/python3.11/site-packages (from ipykernel->jupyter==1.1.1->-r ../requirements.txt (line 5)) (26.2.0)\n",
      "Requirement already satisfied: tornado>=6.1 in /Library/Frameworks/Python.framework/Versions/3.11/lib/python3.11/site-packages (from ipykernel->jupyter==1.1.1->-r ../requirements.txt (line 5)) (6.4.2)\n",
      "Requirement already satisfied: traitlets>=5.4.0 in /Library/Frameworks/Python.framework/Versions/3.11/lib/python3.11/site-packages (from ipykernel->jupyter==1.1.1->-r ../requirements.txt (line 5)) (5.14.3)\n",
      "Requirement already satisfied: decorator in /Library/Frameworks/Python.framework/Versions/3.11/lib/python3.11/site-packages (from ipython->itables==2.2.4->-r ../requirements.txt (line 4)) (5.1.1)\n",
      "Requirement already satisfied: jedi>=0.16 in /Library/Frameworks/Python.framework/Versions/3.11/lib/python3.11/site-packages (from ipython->itables==2.2.4->-r ../requirements.txt (line 4)) (0.19.2)\n",
      "Requirement already satisfied: prompt-toolkit<3.1.0,>=3.0.41 in /Library/Frameworks/Python.framework/Versions/3.11/lib/python3.11/site-packages (from ipython->itables==2.2.4->-r ../requirements.txt (line 4)) (3.0.48)\n",
      "Requirement already satisfied: stack-data in /Library/Frameworks/Python.framework/Versions/3.11/lib/python3.11/site-packages (from ipython->itables==2.2.4->-r ../requirements.txt (line 4)) (0.6.3)\n",
      "Requirement already satisfied: pexpect>4.3 in /Library/Frameworks/Python.framework/Versions/3.11/lib/python3.11/site-packages (from ipython->itables==2.2.4->-r ../requirements.txt (line 4)) (4.9.0)\n",
      "Requirement already satisfied: anyio<5,>=3.5.0 in /Library/Frameworks/Python.framework/Versions/3.11/lib/python3.11/site-packages (from openai>=1.56.0->magentic==0.38.1->-r ../requirements.txt (line 6)) (4.6.2.post1)\n",
      "Requirement already satisfied: distro<2,>=1.7.0 in /Library/Frameworks/Python.framework/Versions/3.11/lib/python3.11/site-packages (from openai>=1.56.0->magentic==0.38.1->-r ../requirements.txt (line 6)) (1.9.0)\n",
      "Requirement already satisfied: httpx<1,>=0.23.0 in /Library/Frameworks/Python.framework/Versions/3.11/lib/python3.11/site-packages (from openai>=1.56.0->magentic==0.38.1->-r ../requirements.txt (line 6)) (0.27.2)\n",
      "Requirement already satisfied: jiter<1,>=0.4.0 in /Library/Frameworks/Python.framework/Versions/3.11/lib/python3.11/site-packages (from openai>=1.56.0->magentic==0.38.1->-r ../requirements.txt (line 6)) (0.8.2)\n",
      "Requirement already satisfied: sniffio in /Library/Frameworks/Python.framework/Versions/3.11/lib/python3.11/site-packages (from openai>=1.56.0->magentic==0.38.1->-r ../requirements.txt (line 6)) (1.3.1)\n",
      "Requirement already satisfied: types-pytz>=2022.1.1 in /Library/Frameworks/Python.framework/Versions/3.11/lib/python3.11/site-packages (from pandas-stubs>=2.2.2.240807->skimpy==0.0.18->-r ../requirements.txt (line 19)) (2025.1.0.20250204)\n",
      "Requirement already satisfied: six>=1.5 in /Library/Frameworks/Python.framework/Versions/3.11/lib/python3.11/site-packages (from python-dateutil>=2.7->matplotlib==3.10.0->-r ../requirements.txt (line 7)) (1.16.0)\n",
      "Requirement already satisfied: charset-normalizer<4,>=2 in /Library/Frameworks/Python.framework/Versions/3.11/lib/python3.11/site-packages (from requests>=2.32.2->datasets==3.3.2->-r ../requirements.txt (line 2)) (3.4.0)\n",
      "Requirement already satisfied: idna<4,>=2.5 in /Library/Frameworks/Python.framework/Versions/3.11/lib/python3.11/site-packages (from requests>=2.32.2->datasets==3.3.2->-r ../requirements.txt (line 2)) (3.10)\n",
      "Requirement already satisfied: urllib3<3,>=1.21.1 in /Library/Frameworks/Python.framework/Versions/3.11/lib/python3.11/site-packages (from requests>=2.32.2->datasets==3.3.2->-r ../requirements.txt (line 2)) (2.2.3)\n",
      "Requirement already satisfied: certifi>=2017.4.17 in /Library/Frameworks/Python.framework/Versions/3.11/lib/python3.11/site-packages (from requests>=2.32.2->datasets==3.3.2->-r ../requirements.txt (line 2)) (2024.8.30)\n",
      "Requirement already satisfied: markdown-it-py>=2.2.0 in /Library/Frameworks/Python.framework/Versions/3.11/lib/python3.11/site-packages (from rich>=13.9.4->skimpy==0.0.18->-r ../requirements.txt (line 19)) (3.0.0)\n",
      "Requirement already satisfied: networkx in /Library/Frameworks/Python.framework/Versions/3.11/lib/python3.11/site-packages (from torch>=1.11.0->sentence-transformers==3.4.1->-r ../requirements.txt (line 18)) (3.4.2)\n",
      "Requirement already satisfied: jinja2 in /Library/Frameworks/Python.framework/Versions/3.11/lib/python3.11/site-packages (from torch>=1.11.0->sentence-transformers==3.4.1->-r ../requirements.txt (line 18)) (3.1.4)\n",
      "Requirement already satisfied: sympy==1.13.1 in /Library/Frameworks/Python.framework/Versions/3.11/lib/python3.11/site-packages (from torch>=1.11.0->sentence-transformers==3.4.1->-r ../requirements.txt (line 18)) (1.13.1)\n",
      "Requirement already satisfied: mpmath<1.4,>=1.1.0 in /Library/Frameworks/Python.framework/Versions/3.11/lib/python3.11/site-packages (from sympy==1.13.1->torch>=1.11.0->sentence-transformers==3.4.1->-r ../requirements.txt (line 18)) (1.3.0)\n",
      "Requirement already satisfied: widgetsnbextension~=4.0.12 in /Library/Frameworks/Python.framework/Versions/3.11/lib/python3.11/site-packages (from ipywidgets->jupyter==1.1.1->-r ../requirements.txt (line 5)) (4.0.13)\n",
      "Requirement already satisfied: jupyterlab-widgets~=3.0.12 in /Library/Frameworks/Python.framework/Versions/3.11/lib/python3.11/site-packages (from ipywidgets->jupyter==1.1.1->-r ../requirements.txt (line 5)) (3.0.13)\n",
      "Requirement already satisfied: async-lru>=1.0.0 in /Library/Frameworks/Python.framework/Versions/3.11/lib/python3.11/site-packages (from jupyterlab->jupyter==1.1.1->-r ../requirements.txt (line 5)) (2.0.4)\n",
      "Requirement already satisfied: jupyter-lsp>=2.0.0 in /Library/Frameworks/Python.framework/Versions/3.11/lib/python3.11/site-packages (from jupyterlab->jupyter==1.1.1->-r ../requirements.txt (line 5)) (2.2.5)\n",
      "Requirement already satisfied: jupyter-server<3,>=2.4.0 in /Library/Frameworks/Python.framework/Versions/3.11/lib/python3.11/site-packages (from jupyterlab->jupyter==1.1.1->-r ../requirements.txt (line 5)) (2.14.2)\n",
      "Requirement already satisfied: jupyterlab-server<3,>=2.27.1 in /Library/Frameworks/Python.framework/Versions/3.11/lib/python3.11/site-packages (from jupyterlab->jupyter==1.1.1->-r ../requirements.txt (line 5)) (2.27.3)\n",
      "Requirement already satisfied: notebook-shim>=0.2 in /Library/Frameworks/Python.framework/Versions/3.11/lib/python3.11/site-packages (from jupyterlab->jupyter==1.1.1->-r ../requirements.txt (line 5)) (0.2.4)\n",
      "Requirement already satisfied: setuptools>=40.1.0 in /Library/Frameworks/Python.framework/Versions/3.11/lib/python3.11/site-packages (from jupyterlab->jupyter==1.1.1->-r ../requirements.txt (line 5)) (65.5.0)\n",
      "Requirement already satisfied: beautifulsoup4 in /Library/Frameworks/Python.framework/Versions/3.11/lib/python3.11/site-packages (from nbconvert->jupyter==1.1.1->-r ../requirements.txt (line 5)) (4.12.3)\n",
      "Requirement already satisfied: bleach!=5.0.0 in /Library/Frameworks/Python.framework/Versions/3.11/lib/python3.11/site-packages (from nbconvert->jupyter==1.1.1->-r ../requirements.txt (line 5)) (6.2.0)\n",
      "Requirement already satisfied: defusedxml in /Library/Frameworks/Python.framework/Versions/3.11/lib/python3.11/site-packages (from nbconvert->jupyter==1.1.1->-r ../requirements.txt (line 5)) (0.7.1)\n",
      "Requirement already satisfied: jupyterlab-pygments in /Library/Frameworks/Python.framework/Versions/3.11/lib/python3.11/site-packages (from nbconvert->jupyter==1.1.1->-r ../requirements.txt (line 5)) (0.3.0)\n",
      "Requirement already satisfied: markupsafe>=2.0 in /Library/Frameworks/Python.framework/Versions/3.11/lib/python3.11/site-packages (from nbconvert->jupyter==1.1.1->-r ../requirements.txt (line 5)) (3.0.2)\n",
      "Requirement already satisfied: mistune<4,>=2.0.3 in /Library/Frameworks/Python.framework/Versions/3.11/lib/python3.11/site-packages (from nbconvert->jupyter==1.1.1->-r ../requirements.txt (line 5)) (3.0.2)\n",
      "Requirement already satisfied: nbclient>=0.5.0 in /Library/Frameworks/Python.framework/Versions/3.11/lib/python3.11/site-packages (from nbconvert->jupyter==1.1.1->-r ../requirements.txt (line 5)) (0.10.0)\n",
      "Requirement already satisfied: nbformat>=5.7 in /Library/Frameworks/Python.framework/Versions/3.11/lib/python3.11/site-packages (from nbconvert->jupyter==1.1.1->-r ../requirements.txt (line 5)) (5.10.4)\n",
      "Requirement already satisfied: pandocfilters>=1.4.1 in /Library/Frameworks/Python.framework/Versions/3.11/lib/python3.11/site-packages (from nbconvert->jupyter==1.1.1->-r ../requirements.txt (line 5)) (1.5.1)\n",
      "Requirement already satisfied: tinycss2 in /Library/Frameworks/Python.framework/Versions/3.11/lib/python3.11/site-packages (from nbconvert->jupyter==1.1.1->-r ../requirements.txt (line 5)) (1.4.0)\n",
      "Requirement already satisfied: webencodings in /Library/Frameworks/Python.framework/Versions/3.11/lib/python3.11/site-packages (from bleach!=5.0.0->nbconvert->jupyter==1.1.1->-r ../requirements.txt (line 5)) (0.5.1)\n",
      "Requirement already satisfied: httpcore==1.* in /Library/Frameworks/Python.framework/Versions/3.11/lib/python3.11/site-packages (from httpx<1,>=0.23.0->openai>=1.56.0->magentic==0.38.1->-r ../requirements.txt (line 6)) (1.0.7)\n",
      "Requirement already satisfied: h11<0.15,>=0.13 in /Library/Frameworks/Python.framework/Versions/3.11/lib/python3.11/site-packages (from httpcore==1.*->httpx<1,>=0.23.0->openai>=1.56.0->magentic==0.38.1->-r ../requirements.txt (line 6)) (0.14.0)\n",
      "Requirement already satisfied: parso<0.9.0,>=0.8.4 in /Library/Frameworks/Python.framework/Versions/3.11/lib/python3.11/site-packages (from jedi>=0.16->ipython->itables==2.2.4->-r ../requirements.txt (line 4)) (0.8.4)\n",
      "Requirement already satisfied: platformdirs>=2.5 in /Library/Frameworks/Python.framework/Versions/3.11/lib/python3.11/site-packages (from jupyter-core!=5.0.*,>=4.12->ipykernel->jupyter==1.1.1->-r ../requirements.txt (line 5)) (4.3.6)\n",
      "Requirement already satisfied: argon2-cffi>=21.1 in /Library/Frameworks/Python.framework/Versions/3.11/lib/python3.11/site-packages (from jupyter-server<3,>=2.4.0->jupyterlab->jupyter==1.1.1->-r ../requirements.txt (line 5)) (23.1.0)\n",
      "Requirement already satisfied: jupyter-events>=0.9.0 in /Library/Frameworks/Python.framework/Versions/3.11/lib/python3.11/site-packages (from jupyter-server<3,>=2.4.0->jupyterlab->jupyter==1.1.1->-r ../requirements.txt (line 5)) (0.10.0)\n",
      "Requirement already satisfied: jupyter-server-terminals>=0.4.4 in /Library/Frameworks/Python.framework/Versions/3.11/lib/python3.11/site-packages (from jupyter-server<3,>=2.4.0->jupyterlab->jupyter==1.1.1->-r ../requirements.txt (line 5)) (0.5.3)\n",
      "Requirement already satisfied: overrides>=5.0 in /Library/Frameworks/Python.framework/Versions/3.11/lib/python3.11/site-packages (from jupyter-server<3,>=2.4.0->jupyterlab->jupyter==1.1.1->-r ../requirements.txt (line 5)) (7.7.0)\n",
      "Requirement already satisfied: prometheus-client>=0.9 in /Library/Frameworks/Python.framework/Versions/3.11/lib/python3.11/site-packages (from jupyter-server<3,>=2.4.0->jupyterlab->jupyter==1.1.1->-r ../requirements.txt (line 5)) (0.21.0)\n",
      "Requirement already satisfied: send2trash>=1.8.2 in /Library/Frameworks/Python.framework/Versions/3.11/lib/python3.11/site-packages (from jupyter-server<3,>=2.4.0->jupyterlab->jupyter==1.1.1->-r ../requirements.txt (line 5)) (1.8.3)\n",
      "Requirement already satisfied: terminado>=0.8.3 in /Library/Frameworks/Python.framework/Versions/3.11/lib/python3.11/site-packages (from jupyter-server<3,>=2.4.0->jupyterlab->jupyter==1.1.1->-r ../requirements.txt (line 5)) (0.18.1)\n",
      "Requirement already satisfied: websocket-client>=1.7 in /Library/Frameworks/Python.framework/Versions/3.11/lib/python3.11/site-packages (from jupyter-server<3,>=2.4.0->jupyterlab->jupyter==1.1.1->-r ../requirements.txt (line 5)) (1.8.0)\n",
      "Requirement already satisfied: babel>=2.10 in /Library/Frameworks/Python.framework/Versions/3.11/lib/python3.11/site-packages (from jupyterlab-server<3,>=2.27.1->jupyterlab->jupyter==1.1.1->-r ../requirements.txt (line 5)) (2.16.0)\n",
      "Requirement already satisfied: json5>=0.9.0 in /Library/Frameworks/Python.framework/Versions/3.11/lib/python3.11/site-packages (from jupyterlab-server<3,>=2.27.1->jupyterlab->jupyter==1.1.1->-r ../requirements.txt (line 5)) (0.9.28)\n",
      "Requirement already satisfied: jsonschema>=4.18.0 in /Library/Frameworks/Python.framework/Versions/3.11/lib/python3.11/site-packages (from jupyterlab-server<3,>=2.27.1->jupyterlab->jupyter==1.1.1->-r ../requirements.txt (line 5)) (4.23.0)\n",
      "Requirement already satisfied: mdurl~=0.1 in /Library/Frameworks/Python.framework/Versions/3.11/lib/python3.11/site-packages (from markdown-it-py>=2.2.0->rich>=13.9.4->skimpy==0.0.18->-r ../requirements.txt (line 19)) (0.1.2)\n",
      "Requirement already satisfied: fastjsonschema>=2.15 in /Library/Frameworks/Python.framework/Versions/3.11/lib/python3.11/site-packages (from nbformat>=5.7->nbconvert->jupyter==1.1.1->-r ../requirements.txt (line 5)) (2.20.0)\n",
      "Requirement already satisfied: ptyprocess>=0.5 in /Library/Frameworks/Python.framework/Versions/3.11/lib/python3.11/site-packages (from pexpect>4.3->ipython->itables==2.2.4->-r ../requirements.txt (line 4)) (0.7.0)\n",
      "Requirement already satisfied: wcwidth in /Library/Frameworks/Python.framework/Versions/3.11/lib/python3.11/site-packages (from prompt-toolkit<3.1.0,>=3.0.41->ipython->itables==2.2.4->-r ../requirements.txt (line 4)) (0.2.13)\n",
      "Requirement already satisfied: soupsieve>1.2 in /Library/Frameworks/Python.framework/Versions/3.11/lib/python3.11/site-packages (from beautifulsoup4->nbconvert->jupyter==1.1.1->-r ../requirements.txt (line 5)) (2.6)\n",
      "Requirement already satisfied: executing>=1.2.0 in /Library/Frameworks/Python.framework/Versions/3.11/lib/python3.11/site-packages (from stack-data->ipython->itables==2.2.4->-r ../requirements.txt (line 4)) (2.1.0)\n",
      "Requirement already satisfied: asttokens>=2.1.0 in /Library/Frameworks/Python.framework/Versions/3.11/lib/python3.11/site-packages (from stack-data->ipython->itables==2.2.4->-r ../requirements.txt (line 4)) (2.4.1)\n",
      "Requirement already satisfied: pure-eval in /Library/Frameworks/Python.framework/Versions/3.11/lib/python3.11/site-packages (from stack-data->ipython->itables==2.2.4->-r ../requirements.txt (line 4)) (0.2.3)\n",
      "Requirement already satisfied: argon2-cffi-bindings in /Library/Frameworks/Python.framework/Versions/3.11/lib/python3.11/site-packages (from argon2-cffi>=21.1->jupyter-server<3,>=2.4.0->jupyterlab->jupyter==1.1.1->-r ../requirements.txt (line 5)) (21.2.0)\n",
      "Requirement already satisfied: jsonschema-specifications>=2023.03.6 in /Library/Frameworks/Python.framework/Versions/3.11/lib/python3.11/site-packages (from jsonschema>=4.18.0->jupyterlab-server<3,>=2.27.1->jupyterlab->jupyter==1.1.1->-r ../requirements.txt (line 5)) (2024.10.1)\n",
      "Requirement already satisfied: referencing>=0.28.4 in /Library/Frameworks/Python.framework/Versions/3.11/lib/python3.11/site-packages (from jsonschema>=4.18.0->jupyterlab-server<3,>=2.27.1->jupyterlab->jupyter==1.1.1->-r ../requirements.txt (line 5)) (0.35.1)\n",
      "Requirement already satisfied: rpds-py>=0.7.1 in /Library/Frameworks/Python.framework/Versions/3.11/lib/python3.11/site-packages (from jsonschema>=4.18.0->jupyterlab-server<3,>=2.27.1->jupyterlab->jupyter==1.1.1->-r ../requirements.txt (line 5)) (0.21.0)\n",
      "Requirement already satisfied: python-json-logger>=2.0.4 in /Library/Frameworks/Python.framework/Versions/3.11/lib/python3.11/site-packages (from jupyter-events>=0.9.0->jupyter-server<3,>=2.4.0->jupyterlab->jupyter==1.1.1->-r ../requirements.txt (line 5)) (2.0.7)\n",
      "Requirement already satisfied: rfc3339-validator in /Library/Frameworks/Python.framework/Versions/3.11/lib/python3.11/site-packages (from jupyter-events>=0.9.0->jupyter-server<3,>=2.4.0->jupyterlab->jupyter==1.1.1->-r ../requirements.txt (line 5)) (0.1.4)\n",
      "Requirement already satisfied: rfc3986-validator>=0.1.1 in /Library/Frameworks/Python.framework/Versions/3.11/lib/python3.11/site-packages (from jupyter-events>=0.9.0->jupyter-server<3,>=2.4.0->jupyterlab->jupyter==1.1.1->-r ../requirements.txt (line 5)) (0.1.1)\n",
      "Requirement already satisfied: fqdn in /Library/Frameworks/Python.framework/Versions/3.11/lib/python3.11/site-packages (from jsonschema[format-nongpl]>=4.18.0->jupyter-events>=0.9.0->jupyter-server<3,>=2.4.0->jupyterlab->jupyter==1.1.1->-r ../requirements.txt (line 5)) (1.5.1)\n",
      "Requirement already satisfied: isoduration in /Library/Frameworks/Python.framework/Versions/3.11/lib/python3.11/site-packages (from jsonschema[format-nongpl]>=4.18.0->jupyter-events>=0.9.0->jupyter-server<3,>=2.4.0->jupyterlab->jupyter==1.1.1->-r ../requirements.txt (line 5)) (20.11.0)\n",
      "Requirement already satisfied: jsonpointer>1.13 in /Library/Frameworks/Python.framework/Versions/3.11/lib/python3.11/site-packages (from jsonschema[format-nongpl]>=4.18.0->jupyter-events>=0.9.0->jupyter-server<3,>=2.4.0->jupyterlab->jupyter==1.1.1->-r ../requirements.txt (line 5)) (3.0.0)\n",
      "Requirement already satisfied: uri-template in /Library/Frameworks/Python.framework/Versions/3.11/lib/python3.11/site-packages (from jsonschema[format-nongpl]>=4.18.0->jupyter-events>=0.9.0->jupyter-server<3,>=2.4.0->jupyterlab->jupyter==1.1.1->-r ../requirements.txt (line 5)) (1.3.0)\n",
      "Requirement already satisfied: webcolors>=24.6.0 in /Library/Frameworks/Python.framework/Versions/3.11/lib/python3.11/site-packages (from jsonschema[format-nongpl]>=4.18.0->jupyter-events>=0.9.0->jupyter-server<3,>=2.4.0->jupyterlab->jupyter==1.1.1->-r ../requirements.txt (line 5)) (24.11.1)\n",
      "Requirement already satisfied: cffi>=1.0.1 in /Library/Frameworks/Python.framework/Versions/3.11/lib/python3.11/site-packages (from argon2-cffi-bindings->argon2-cffi>=21.1->jupyter-server<3,>=2.4.0->jupyterlab->jupyter==1.1.1->-r ../requirements.txt (line 5)) (1.17.1)\n",
      "Requirement already satisfied: pycparser in /Library/Frameworks/Python.framework/Versions/3.11/lib/python3.11/site-packages (from cffi>=1.0.1->argon2-cffi-bindings->argon2-cffi>=21.1->jupyter-server<3,>=2.4.0->jupyterlab->jupyter==1.1.1->-r ../requirements.txt (line 5)) (2.22)\n",
      "Requirement already satisfied: arrow>=0.15.0 in /Library/Frameworks/Python.framework/Versions/3.11/lib/python3.11/site-packages (from isoduration->jsonschema[format-nongpl]>=4.18.0->jupyter-events>=0.9.0->jupyter-server<3,>=2.4.0->jupyterlab->jupyter==1.1.1->-r ../requirements.txt (line 5)) (1.3.0)\n",
      "Requirement already satisfied: types-python-dateutil>=2.8.10 in /Library/Frameworks/Python.framework/Versions/3.11/lib/python3.11/site-packages (from arrow>=0.15.0->isoduration->jsonschema[format-nongpl]>=4.18.0->jupyter-events>=0.9.0->jupyter-server<3,>=2.4.0->jupyterlab->jupyter==1.1.1->-r ../requirements.txt (line 5)) (2.9.0.20241003)\n"
     ]
    }
   ],
   "source": [
    "!pip install -r ../requirements.txt"
   ]
  },
  {
   "cell_type": "markdown",
   "id": "2ac40e4e-5f1c-44b5-a9e6-a54cd4928715",
   "metadata": {},
   "source": [
    "## Initialize dependencies"
   ]
  },
  {
   "cell_type": "code",
   "execution_count": 99,
   "id": "2ed6528c-dc4b-4abf-82d1-7d6a2bdd76f5",
   "metadata": {},
   "outputs": [
    {
     "name": "stdout",
     "output_type": "stream",
     "text": [
      "The autoreload extension is already loaded. To reload it, use:\n",
      "  %reload_ext autoreload\n"
     ]
    }
   ],
   "source": [
    "%load_ext autoreload"
   ]
  },
  {
   "cell_type": "code",
   "execution_count": 100,
   "id": "69e48008-3832-4b04-9ff5-89315152848c",
   "metadata": {},
   "outputs": [],
   "source": [
    "%autoreload\n",
    "import os\n",
    "import sys\n",
    "\n",
    "import pandas as pd\n",
    "from tqdm.notebook import tqdm\n",
    "from transformers import (\n",
    "    BertTokenizer,\n",
    "    BertForSequenceClassification,\n",
    "    pipeline,\n",
    "    Trainer,\n",
    "    TrainingArguments\n",
    ")\n",
    "from datasets import load_dataset\n",
    "\n",
    "\n",
    "curr_dir = os.getcwd()\n",
    "while os.path.basename(curr_dir) != \"candidate_ranking\":\n",
    "    curr_dir = os.path.dirname(curr_dir)\n",
    "sys.path.append(curr_dir)"
   ]
  },
  {
   "cell_type": "code",
   "execution_count": 101,
   "id": "7a8dcdc9-b499-49a9-a1de-c0e18f2068e6",
   "metadata": {},
   "outputs": [],
   "source": [
    "from src.codiesp import (\n",
    "    CODIESP,\n",
    "    TEST\n",
    ")\n",
    "from src.error_injector import corrupt_text\n",
    "from src.language_model import BioClinicalBert\n",
    "from src.utils import (\n",
    "    negative_case,\n",
    "    positive_case,\n",
    "    zero\n",
    ")"
   ]
  },
  {
   "cell_type": "markdown",
   "id": "25f5a64a-17e0-489d-83fb-cd2b51867c4b",
   "metadata": {},
   "source": [
    "## Set parameters"
   ]
  },
  {
   "cell_type": "code",
   "execution_count": 102,
   "id": "9ab2e87b-4e39-464b-8c5a-2b4594dd5be6",
   "metadata": {},
   "outputs": [
    {
     "name": "stderr",
     "output_type": "stream",
     "text": [
      "Some weights of BertForSequenceClassification were not initialized from the model checkpoint at emilyalsentzer/Bio_ClinicalBERT and are newly initialized: ['classifier.bias', 'classifier.weight']\n",
      "You should probably TRAIN this model on a down-stream task to be able to use it for predictions and inference.\n"
     ]
    }
   ],
   "source": [
    "BIOBERT = BioClinicalBert()"
   ]
  },
  {
   "cell_type": "code",
   "execution_count": 103,
   "id": "a9d11e17-8432-4d99-b017-39ed4a4da1be",
   "metadata": {},
   "outputs": [],
   "source": [
    "PATH_DATASET_TRAIN_SYNTHETIC = os.path.join(curr_dir, \"data\", \"codiesp.synthetic.train.csv\")\n",
    "PATH_DATASET_TEST_SYNTHETIC = os.path.join(curr_dir, \"data\", \"codiesp.synthetic.test.csv\")"
   ]
  },
  {
   "cell_type": "code",
   "execution_count": 104,
   "id": "8228df9a-cea7-4987-9523-9809d28cf43e",
   "metadata": {},
   "outputs": [
    {
     "data": {
      "text/html": [
       "<div>\n",
       "<style scoped>\n",
       "    .dataframe tbody tr th:only-of-type {\n",
       "        vertical-align: middle;\n",
       "    }\n",
       "\n",
       "    .dataframe tbody tr th {\n",
       "        vertical-align: top;\n",
       "    }\n",
       "\n",
       "    .dataframe thead th {\n",
       "        text-align: right;\n",
       "    }\n",
       "</style>\n",
       "<table border=\"1\" class=\"dataframe\">\n",
       "  <thead>\n",
       "    <tr style=\"text-align: right;\">\n",
       "      <th></th>\n",
       "      <th>text_path</th>\n",
       "      <th>text_id</th>\n",
       "      <th>sentence</th>\n",
       "    </tr>\n",
       "  </thead>\n",
       "  <tbody>\n",
       "    <tr>\n",
       "      <th>0</th>\n",
       "      <td>S1130-05582007000500007-1.txt</td>\n",
       "      <td>0</td>\n",
       "      <td>The patient is a 38-year-old male who attended...</td>\n",
       "    </tr>\n",
       "    <tr>\n",
       "      <th>1</th>\n",
       "      <td>S1130-05582007000500007-1.txt</td>\n",
       "      <td>0</td>\n",
       "      <td>1.</td>\n",
       "    </tr>\n",
       "    <tr>\n",
       "      <th>2</th>\n",
       "      <td>S1130-05582007000500007-1.txt</td>\n",
       "      <td>0</td>\n",
       "      <td>The pathological antecedents include being exa...</td>\n",
       "    </tr>\n",
       "    <tr>\n",
       "      <th>3</th>\n",
       "      <td>S1130-05582007000500007-1.txt</td>\n",
       "      <td>0</td>\n",
       "      <td>The examination revealed a right mandibular tu...</td>\n",
       "    </tr>\n",
       "    <tr>\n",
       "      <th>4</th>\n",
       "      <td>S1130-05582007000500007-1.txt</td>\n",
       "      <td>0</td>\n",
       "      <td>The orthopantomography showed a mixed lesion w...</td>\n",
       "    </tr>\n",
       "  </tbody>\n",
       "</table>\n",
       "</div>"
      ],
      "text/plain": [
       "                       text_path  text_id  \\\n",
       "0  S1130-05582007000500007-1.txt        0   \n",
       "1  S1130-05582007000500007-1.txt        0   \n",
       "2  S1130-05582007000500007-1.txt        0   \n",
       "3  S1130-05582007000500007-1.txt        0   \n",
       "4  S1130-05582007000500007-1.txt        0   \n",
       "\n",
       "                                            sentence  \n",
       "0  The patient is a 38-year-old male who attended...  \n",
       "1                                                 1.  \n",
       "2  The pathological antecedents include being exa...  \n",
       "3  The examination revealed a right mandibular tu...  \n",
       "4  The orthopantomography showed a mixed lesion w...  "
      ]
     },
     "execution_count": 104,
     "metadata": {},
     "output_type": "execute_result"
    }
   ],
   "source": [
    "CODIESP.head()"
   ]
  },
  {
   "cell_type": "markdown",
   "id": "b986f529-9146-473b-8498-36735933e850",
   "metadata": {},
   "source": [
    "## Synthesize train and test datasets by injecting simulated transcription errors\n",
    "\n",
    "We’ll write a function to:\n",
    "Randomly introduce errors (typos, swaps, deletions, insertions).\n",
    "Prioritize errors in medical entities if specified.\n",
    "Ensure a user-defined ratio of altered words."
   ]
  },
  {
   "cell_type": "markdown",
   "id": "8a58c5cf-a1dc-4b2c-8d6c-643603cfcbba",
   "metadata": {},
   "source": [
    "### Training set"
   ]
  },
  {
   "cell_type": "code",
   "execution_count": 106,
   "id": "3a58a95f-3212-4aa9-9959-587cd0b3dbed",
   "metadata": {},
   "outputs": [],
   "source": [
    "dataset = CODIESP.copy()\n",
    "corrupted_dataset = dataset.copy()"
   ]
  },
  {
   "cell_type": "code",
   "execution_count": 107,
   "id": "c1746b59-4582-492d-8588-544e639bd5b0",
   "metadata": {},
   "outputs": [],
   "source": [
    "dataset[\"label\"] = dataset[\"sentence\"].apply(negative_case)\n",
    "dataset[\"num_character_errors\"] = dataset[\"sentence\"].apply(zero)\n",
    "dataset[\"num_word_errors\"] = dataset[\"sentence\"].apply(zero)"
   ]
  },
  {
   "cell_type": "code",
   "execution_count": 108,
   "id": "ae720c25-5ab9-4240-a840-1656aa9feeb1",
   "metadata": {},
   "outputs": [],
   "source": [
    "error_rows = list(corrupted_dataset[\"sentence\"].apply(\n",
    "    lambda x: corrupt_text(x, word_error_probability=0.2, character_error_probability=0.2)\n",
    "))"
   ]
  },
  {
   "cell_type": "code",
   "execution_count": 109,
   "id": "15d24294-d7d2-45ea-afbb-575157ea8ee1",
   "metadata": {},
   "outputs": [
    {
     "data": {
      "text/html": [
       "<div>\n",
       "<style scoped>\n",
       "    .dataframe tbody tr th:only-of-type {\n",
       "        vertical-align: middle;\n",
       "    }\n",
       "\n",
       "    .dataframe tbody tr th {\n",
       "        vertical-align: top;\n",
       "    }\n",
       "\n",
       "    .dataframe thead th {\n",
       "        text-align: right;\n",
       "    }\n",
       "</style>\n",
       "<table border=\"1\" class=\"dataframe\">\n",
       "  <thead>\n",
       "    <tr style=\"text-align: right;\">\n",
       "      <th></th>\n",
       "      <th>sentence</th>\n",
       "      <th>num_character_errors</th>\n",
       "      <th>num_word_errors</th>\n",
       "    </tr>\n",
       "  </thead>\n",
       "  <tbody>\n",
       "    <tr>\n",
       "      <th>0</th>\n",
       "      <td>The pathient si a 38-eyar-old male who attende...</td>\n",
       "      <td>8</td>\n",
       "      <td>0</td>\n",
       "    </tr>\n",
       "    <tr>\n",
       "      <th>1</th>\n",
       "      <td>1u</td>\n",
       "      <td>1</td>\n",
       "      <td>0</td>\n",
       "    </tr>\n",
       "    <tr>\n",
       "      <th>2</th>\n",
       "      <td>The pathological antecedents inlcude being exa...</td>\n",
       "      <td>5</td>\n",
       "      <td>0</td>\n",
       "    </tr>\n",
       "    <tr>\n",
       "      <th>3</th>\n",
       "      <td>The examination revealeq a right mandibular qt...</td>\n",
       "      <td>7</td>\n",
       "      <td>1</td>\n",
       "    </tr>\n",
       "    <tr>\n",
       "      <th>4</th>\n",
       "      <td>The orthopantomography showed a mixed lesion w...</td>\n",
       "      <td>4</td>\n",
       "      <td>0</td>\n",
       "    </tr>\n",
       "    <tr>\n",
       "      <th>...</th>\n",
       "      <td>...</td>\n",
       "      <td>...</td>\n",
       "      <td>...</td>\n",
       "    </tr>\n",
       "    <tr>\n",
       "      <th>8027</th>\n",
       "      <td>In th denudedraea, an amniotic membrane graft ...</td>\n",
       "      <td>9</td>\n",
       "      <td>1</td>\n",
       "    </tr>\n",
       "    <tr>\n",
       "      <th>8028</th>\n",
       "      <td>During follow-up there wsa a progressive reepi...</td>\n",
       "      <td>7</td>\n",
       "      <td>1</td>\n",
       "    </tr>\n",
       "    <tr>\n",
       "      <th>8029</th>\n",
       "      <td>Three weeks after surgery there was a regulpr ...</td>\n",
       "      <td>3</td>\n",
       "      <td>1</td>\n",
       "    </tr>\n",
       "    <tr>\n",
       "      <th>8030</th>\n",
       "      <td>mVA of the left sye improved to 4/10.</td>\n",
       "      <td>2</td>\n",
       "      <td>1</td>\n",
       "    </tr>\n",
       "    <tr>\n",
       "      <th>8031</th>\n",
       "      <td>No recurrqnces were observed aufter e8 monts f...</td>\n",
       "      <td>5</td>\n",
       "      <td>0</td>\n",
       "    </tr>\n",
       "  </tbody>\n",
       "</table>\n",
       "<p>8032 rows × 3 columns</p>\n",
       "</div>"
      ],
      "text/plain": [
       "                                               sentence  num_character_errors  \\\n",
       "0     The pathient si a 38-eyar-old male who attende...                     8   \n",
       "1                                                    1u                     1   \n",
       "2     The pathological antecedents inlcude being exa...                     5   \n",
       "3     The examination revealeq a right mandibular qt...                     7   \n",
       "4     The orthopantomography showed a mixed lesion w...                     4   \n",
       "...                                                 ...                   ...   \n",
       "8027  In th denudedraea, an amniotic membrane graft ...                     9   \n",
       "8028  During follow-up there wsa a progressive reepi...                     7   \n",
       "8029  Three weeks after surgery there was a regulpr ...                     3   \n",
       "8030              mVA of the left sye improved to 4/10.                     2   \n",
       "8031  No recurrqnces were observed aufter e8 monts f...                     5   \n",
       "\n",
       "      num_word_errors  \n",
       "0                   0  \n",
       "1                   0  \n",
       "2                   0  \n",
       "3                   1  \n",
       "4                   0  \n",
       "...               ...  \n",
       "8027                1  \n",
       "8028                1  \n",
       "8029                1  \n",
       "8030                1  \n",
       "8031                0  \n",
       "\n",
       "[8032 rows x 3 columns]"
      ]
     },
     "execution_count": 109,
     "metadata": {},
     "output_type": "execute_result"
    }
   ],
   "source": [
    "error_columns_df = pd.DataFrame(error_rows, columns=[\"sentence\", \"num_character_errors\", \"num_word_errors\"])\n",
    "\n",
    "corrupted_dataset = pd.concat(\n",
    "    [corrupted_dataset.drop(\"sentence\", axis=1, inplace=True), error_columns_df],\n",
    "    axis=1\n",
    ")\n",
    "\n",
    "error_columns_df"
   ]
  },
  {
   "cell_type": "code",
   "execution_count": 110,
   "id": "d9d9ddd6-d92f-4b74-b74f-4f5bd7f38e4d",
   "metadata": {},
   "outputs": [],
   "source": [
    "corrupted_dataset[\"label\"] = corrupted_dataset.sentence.apply(positive_case)\n",
    "\n",
    "# Merge and shuffle dataset\n",
    "final_dataset = pd.concat([dataset, corrupted_dataset])\n",
    "final_dataset.to_csv(PATH_DATASET_TRAIN_SYNTHETIC, index=False)"
   ]
  },
  {
   "cell_type": "code",
   "execution_count": 111,
   "id": "553e05d5-8d31-415a-89eb-8b1d1a563e34",
   "metadata": {},
   "outputs": [
    {
     "data": {
      "text/html": [
       "<div>\n",
       "<style scoped>\n",
       "    .dataframe tbody tr th:only-of-type {\n",
       "        vertical-align: middle;\n",
       "    }\n",
       "\n",
       "    .dataframe tbody tr th {\n",
       "        vertical-align: top;\n",
       "    }\n",
       "\n",
       "    .dataframe thead th {\n",
       "        text-align: right;\n",
       "    }\n",
       "</style>\n",
       "<table border=\"1\" class=\"dataframe\">\n",
       "  <thead>\n",
       "    <tr style=\"text-align: right;\">\n",
       "      <th></th>\n",
       "      <th>sentence</th>\n",
       "      <th>num_character_errors</th>\n",
       "      <th>num_word_errors</th>\n",
       "      <th>label</th>\n",
       "    </tr>\n",
       "  </thead>\n",
       "  <tbody>\n",
       "    <tr>\n",
       "      <th>0</th>\n",
       "      <td>The pathient si a 38-eyar-old male who attende...</td>\n",
       "      <td>8</td>\n",
       "      <td>0</td>\n",
       "      <td>1</td>\n",
       "    </tr>\n",
       "    <tr>\n",
       "      <th>1</th>\n",
       "      <td>1u</td>\n",
       "      <td>1</td>\n",
       "      <td>0</td>\n",
       "      <td>1</td>\n",
       "    </tr>\n",
       "    <tr>\n",
       "      <th>2</th>\n",
       "      <td>The pathological antecedents inlcude being exa...</td>\n",
       "      <td>5</td>\n",
       "      <td>0</td>\n",
       "      <td>1</td>\n",
       "    </tr>\n",
       "    <tr>\n",
       "      <th>3</th>\n",
       "      <td>The examination revealeq a right mandibular qt...</td>\n",
       "      <td>7</td>\n",
       "      <td>1</td>\n",
       "      <td>1</td>\n",
       "    </tr>\n",
       "    <tr>\n",
       "      <th>4</th>\n",
       "      <td>The orthopantomography showed a mixed lesion w...</td>\n",
       "      <td>4</td>\n",
       "      <td>0</td>\n",
       "      <td>1</td>\n",
       "    </tr>\n",
       "    <tr>\n",
       "      <th>...</th>\n",
       "      <td>...</td>\n",
       "      <td>...</td>\n",
       "      <td>...</td>\n",
       "      <td>...</td>\n",
       "    </tr>\n",
       "    <tr>\n",
       "      <th>8027</th>\n",
       "      <td>In th denudedraea, an amniotic membrane graft ...</td>\n",
       "      <td>9</td>\n",
       "      <td>1</td>\n",
       "      <td>1</td>\n",
       "    </tr>\n",
       "    <tr>\n",
       "      <th>8028</th>\n",
       "      <td>During follow-up there wsa a progressive reepi...</td>\n",
       "      <td>7</td>\n",
       "      <td>1</td>\n",
       "      <td>1</td>\n",
       "    </tr>\n",
       "    <tr>\n",
       "      <th>8029</th>\n",
       "      <td>Three weeks after surgery there was a regulpr ...</td>\n",
       "      <td>3</td>\n",
       "      <td>1</td>\n",
       "      <td>1</td>\n",
       "    </tr>\n",
       "    <tr>\n",
       "      <th>8030</th>\n",
       "      <td>mVA of the left sye improved to 4/10.</td>\n",
       "      <td>2</td>\n",
       "      <td>1</td>\n",
       "      <td>1</td>\n",
       "    </tr>\n",
       "    <tr>\n",
       "      <th>8031</th>\n",
       "      <td>No recurrqnces were observed aufter e8 monts f...</td>\n",
       "      <td>5</td>\n",
       "      <td>0</td>\n",
       "      <td>1</td>\n",
       "    </tr>\n",
       "  </tbody>\n",
       "</table>\n",
       "<p>8032 rows × 4 columns</p>\n",
       "</div>"
      ],
      "text/plain": [
       "                                               sentence  num_character_errors  \\\n",
       "0     The pathient si a 38-eyar-old male who attende...                     8   \n",
       "1                                                    1u                     1   \n",
       "2     The pathological antecedents inlcude being exa...                     5   \n",
       "3     The examination revealeq a right mandibular qt...                     7   \n",
       "4     The orthopantomography showed a mixed lesion w...                     4   \n",
       "...                                                 ...                   ...   \n",
       "8027  In th denudedraea, an amniotic membrane graft ...                     9   \n",
       "8028  During follow-up there wsa a progressive reepi...                     7   \n",
       "8029  Three weeks after surgery there was a regulpr ...                     3   \n",
       "8030              mVA of the left sye improved to 4/10.                     2   \n",
       "8031  No recurrqnces were observed aufter e8 monts f...                     5   \n",
       "\n",
       "      num_word_errors  label  \n",
       "0                   0      1  \n",
       "1                   0      1  \n",
       "2                   0      1  \n",
       "3                   1      1  \n",
       "4                   0      1  \n",
       "...               ...    ...  \n",
       "8027                1      1  \n",
       "8028                1      1  \n",
       "8029                1      1  \n",
       "8030                1      1  \n",
       "8031                0      1  \n",
       "\n",
       "[8032 rows x 4 columns]"
      ]
     },
     "execution_count": 111,
     "metadata": {},
     "output_type": "execute_result"
    }
   ],
   "source": [
    "corrupted_dataset"
   ]
  },
  {
   "cell_type": "markdown",
   "id": "9873e591-f7c4-4d90-95e9-dd806a4daa69",
   "metadata": {},
   "source": [
    "Explanation:\n",
    "1. Medical terms from CANTEMIST are identified and corrupted preferentially based on entity_error_prob.\n",
    "2. Non-medical words are corrupted with a lower probability other_word_prob.\n",
    "3. The output dataset (corrupted_CANTEMIST.csv) contains:\n",
    "   1. Original sentences (label = 0)\n",
    "   2. Corrupted sentences (label = 1)"
   ]
  },
  {
   "cell_type": "markdown",
   "id": "b13a7d40-fc90-4432-91c5-8cce46eff444",
   "metadata": {},
   "source": [
    "### Test set\n",
    "\n",
    "We apply the same sequence of steps to add positive cases (errors) to the label set:"
   ]
  },
  {
   "cell_type": "code",
   "execution_count": 112,
   "id": "b4aadcf6-f65e-4554-b0d7-a5f43e0513fb",
   "metadata": {},
   "outputs": [],
   "source": [
    "test = TEST.copy()\n",
    "corrupted_test = test.copy()\n",
    "\n",
    "test[\"label\"] = test[\"sentence\"].apply(negative_case)\n",
    "\n",
    "error_rows_test = list(corrupted_test[\"sentence\"].apply(\n",
    "    lambda x: corrupt_text(x, word_error_probability=0.2, character_error_probability=0.2)\n",
    "))\n",
    "\n",
    "error_columns_test_df = pd.DataFrame(\n",
    "    error_rows_test,\n",
    "    columns=[\"sentence\", \"num_character_errors\", \"num_word_errors\"]\n",
    ")\n",
    "\n",
    "corrupted_test = pd.concat(\n",
    "    [corrupted_test.drop(\"sentence\", axis=1, inplace=True), error_columns_test_df],\n",
    "    axis=1\n",
    ")\n",
    "\n",
    "error_columns_test_df\n",
    "\n",
    "corrupted_test[\"label\"] = corrupted_test.sentence.apply(positive_case)\n",
    "\n",
    "# Merge and shuffle dataset\n",
    "final_test = pd.concat([test, corrupted_test])\n",
    "final_test.to_csv(PATH_DATASET_TEST_SYNTHETIC, index=False)"
   ]
  },
  {
   "cell_type": "markdown",
   "id": "2007bba3",
   "metadata": {},
   "source": [
    "## Training ClinicalBERT to detect errors\n",
    "\n",
    "Now, we’ll train ClinicalBERT on the synthetic dataset to detect transcription errors."
   ]
  },
  {
   "cell_type": "markdown",
   "id": "ea3236f1-b342-46ae-ac99-01558d83016e",
   "metadata": {},
   "source": [
    "### Load dataset"
   ]
  },
  {
   "cell_type": "code",
   "execution_count": 113,
   "id": "ffa2bcd1",
   "metadata": {},
   "outputs": [
    {
     "data": {
      "application/vnd.jupyter.widget-view+json": {
       "model_id": "dfc5ffa6f9cf446b8b39cdb890dc6f13",
       "version_major": 2,
       "version_minor": 0
      },
      "text/plain": [
       "Generating train split: 0 examples [00:00, ? examples/s]"
      ]
     },
     "metadata": {},
     "output_type": "display_data"
    },
    {
     "name": "stdout",
     "output_type": "stream",
     "text": [
      "DatasetDict({\n",
      "    train: Dataset({\n",
      "        features: ['text_path', 'text_id', 'sentence', 'label', 'num_character_errors', 'num_word_errors'],\n",
      "        num_rows: 12851\n",
      "    })\n",
      "    test: Dataset({\n",
      "        features: ['text_path', 'text_id', 'sentence', 'label', 'num_character_errors', 'num_word_errors'],\n",
      "        num_rows: 3213\n",
      "    })\n",
      "})\n"
     ]
    }
   ],
   "source": [
    "dataset = load_dataset(\"csv\", data_files={\"train\": PATH_DATASET_SYNTHETIC})\n",
    "dataset = dataset[\"train\"].train_test_split(test_size=0.2)\n",
    "\n",
    "print(dataset)"
   ]
  },
  {
   "cell_type": "markdown",
   "id": "8d12a3e3-7429-4a7e-919a-eb9f7a3e4b46",
   "metadata": {},
   "source": [
    "### Fine-tune base-model"
   ]
  },
  {
   "cell_type": "code",
   "execution_count": 114,
   "id": "baf4d4bf-42dc-4f57-9938-0c149f9f1ca5",
   "metadata": {},
   "outputs": [
    {
     "data": {
      "application/vnd.jupyter.widget-view+json": {
       "model_id": "26508a057c8d40898fe9f6ef799cbcb8",
       "version_major": 2,
       "version_minor": 0
      },
      "text/plain": [
       "Map:   0%|          | 0/12851 [00:00<?, ? examples/s]"
      ]
     },
     "metadata": {},
     "output_type": "display_data"
    },
    {
     "data": {
      "application/vnd.jupyter.widget-view+json": {
       "model_id": "e8ffb7acdc1c450d9f637d8dd976adea",
       "version_major": 2,
       "version_minor": 0
      },
      "text/plain": [
       "Map:   0%|          | 0/3213 [00:00<?, ? examples/s]"
      ]
     },
     "metadata": {},
     "output_type": "display_data"
    },
    {
     "name": "stderr",
     "output_type": "stream",
     "text": [
      "/Users/jordi/Documents/Profesional/Búsqueda de Trabajo/Barcelona 2024/ADP/lib/python3.11/site-packages/transformers/training_args.py:1575: FutureWarning: `evaluation_strategy` is deprecated and will be removed in version 4.46 of 🤗 Transformers. Use `eval_strategy` instead\n",
      "  warnings.warn(\n"
     ]
    },
    {
     "data": {
      "text/html": [
       "\n",
       "    <div>\n",
       "      \n",
       "      <progress value='4821' max='4821' style='width:300px; height:20px; vertical-align: middle;'></progress>\n",
       "      [4821/4821 24:16, Epoch 3/3]\n",
       "    </div>\n",
       "    <table border=\"1\" class=\"dataframe\">\n",
       "  <thead>\n",
       " <tr style=\"text-align: left;\">\n",
       "      <th>Epoch</th>\n",
       "      <th>Training Loss</th>\n",
       "      <th>Validation Loss</th>\n",
       "    </tr>\n",
       "  </thead>\n",
       "  <tbody>\n",
       "    <tr>\n",
       "      <td>1</td>\n",
       "      <td>0.204400</td>\n",
       "      <td>0.174313</td>\n",
       "    </tr>\n",
       "    <tr>\n",
       "      <td>2</td>\n",
       "      <td>0.087100</td>\n",
       "      <td>0.218220</td>\n",
       "    </tr>\n",
       "    <tr>\n",
       "      <td>3</td>\n",
       "      <td>0.052600</td>\n",
       "      <td>0.233648</td>\n",
       "    </tr>\n",
       "  </tbody>\n",
       "</table><p>"
      ],
      "text/plain": [
       "<IPython.core.display.HTML object>"
      ]
     },
     "metadata": {},
     "output_type": "display_data"
    },
    {
     "data": {
      "text/plain": [
       "TrainOutput(global_step=4821, training_loss=0.12451475029094564, metrics={'train_runtime': 1456.361, 'train_samples_per_second': 26.472, 'train_steps_per_second': 3.31, 'total_flos': 2535930129323520.0, 'train_loss': 0.12451475029094564, 'epoch': 3.0})"
      ]
     },
     "execution_count": 114,
     "metadata": {},
     "output_type": "execute_result"
    }
   ],
   "source": [
    "tokenized_datasets = dataset.map(BIOBERT.tokenize, batched=True)\n",
    "\n",
    "# Training settings\n",
    "training_args = TrainingArguments(\n",
    "    output_dir=\"./error_detection\",\n",
    "    evaluation_strategy=\"epoch\",\n",
    "    save_strategy=\"epoch\",\n",
    "    per_device_train_batch_size=8,\n",
    "    per_device_eval_batch_size=8,\n",
    "    num_train_epochs=3,\n",
    ")\n",
    "\n",
    "trainer = Trainer(\n",
    "    model=BIOBERT.model,\n",
    "    args=training_args,\n",
    "    train_dataset=tokenized_datasets[\"train\"],\n",
    "    eval_dataset=tokenized_datasets[\"test\"],\n",
    ")\n",
    "\n",
    "# Train model\n",
    "trainer.train()"
   ]
  },
  {
   "cell_type": "markdown",
   "id": "01842bb2-e565-4209-858e-de4b93ff2f67",
   "metadata": {},
   "source": [
    "## Proof of concept: error detection on new transcriptions\n",
    "\n",
    "Once trained, ClinicalBERT can now classify new transcriptions for errors."
   ]
  },
  {
   "cell_type": "code",
   "execution_count": 115,
   "id": "432d924d-df93-4e9f-801b-66311756dd52",
   "metadata": {},
   "outputs": [
    {
     "name": "stderr",
     "output_type": "stream",
     "text": [
      "Device set to use mps:0\n"
     ]
    },
    {
     "name": "stdout",
     "output_type": "stream",
     "text": [
      "[{'label': 'LABEL_1', 'score': 0.9999202489852905}]\n"
     ]
    }
   ],
   "source": [
    "error_detector = pipeline(\"text-classification\", model=BIOBERT.model, tokenizer=BIOBERT.tokenizer)\n",
    "\n",
    "test_text = \"The patient has dyspnaea and needs immdeiate attention.\"\n",
    "score = error_detector(test_text)\n",
    "print(score)  # [{'label': '1' (error), 'score': 0.95}]\n"
   ]
  },
  {
   "cell_type": "code",
   "execution_count": 116,
   "id": "674a27bb-00e6-4879-9b63-7ef50e73d175",
   "metadata": {},
   "outputs": [
    {
     "data": {
      "text/plain": [
       "[{'label': 'LABEL_0', 'score': 0.9979265928268433}]"
      ]
     },
     "execution_count": 116,
     "metadata": {},
     "output_type": "execute_result"
    }
   ],
   "source": [
    "test_text = \"The patient has dyspnea and needs immediate attention.\"\n",
    "score = error_detector(test_text)\n",
    "score"
   ]
  },
  {
   "cell_type": "markdown",
   "id": "fdf72f80-515f-45bf-8418-4d9651c0b42b",
   "metadata": {},
   "source": [
    "- A high probability means the model detects errors.\n",
    "- A low probability means the transcription is likely correct."
   ]
  },
  {
   "cell_type": "markdown",
   "id": "61ffaedb-404a-4e28-981b-9c25fced58c3",
   "metadata": {},
   "source": [
    "## Quantitative evaluation"
   ]
  },
  {
   "cell_type": "code",
   "execution_count": 119,
   "id": "81fba819-8e6e-4046-baa5-d2fb040755cc",
   "metadata": {},
   "outputs": [],
   "source": [
    "final_test[\"prediction\"] = [\n",
    "    1 if '1' in detection['label'] else 0\n",
    "    for detection in tqdm(error_detector(final_test[\"sentence\"].values.tolist()))\n",
    "]"
   ]
  },
  {
   "cell_type": "code",
   "execution_count": 127,
   "id": "f57d4042-c6dd-4457-a8dd-19e5b608552c",
   "metadata": {},
   "outputs": [
    {
     "data": {
      "text/plain": [
       "0.9235"
      ]
     },
     "execution_count": 127,
     "metadata": {},
     "output_type": "execute_result"
    }
   ],
   "source": [
    "round(float(final_test[[\"label\", \"prediction\"]].corr().loc['label']['prediction']), 4)"
   ]
  },
  {
   "cell_type": "code",
   "execution_count": 128,
   "id": "d7f96d4d-06eb-43c4-9c1d-01e8aaac7a44",
   "metadata": {},
   "outputs": [
    {
     "name": "stdout",
     "output_type": "stream",
     "text": [
      "The history saving thread hit an unexpected error (OperationalError('attempt to write a readonly database')).History will not be written to the database.\n"
     ]
    }
   ],
   "source": [
    "from sklearn.metrics import accuracy_score"
   ]
  },
  {
   "cell_type": "code",
   "execution_count": 133,
   "id": "2b7b20ec-9b20-4dd9-8c67-8cc355b3a3fe",
   "metadata": {},
   "outputs": [
    {
     "data": {
      "text/html": [
       "<div>\n",
       "<style scoped>\n",
       "    .dataframe tbody tr th:only-of-type {\n",
       "        vertical-align: middle;\n",
       "    }\n",
       "\n",
       "    .dataframe tbody tr th {\n",
       "        vertical-align: top;\n",
       "    }\n",
       "\n",
       "    .dataframe thead th {\n",
       "        text-align: right;\n",
       "    }\n",
       "</style>\n",
       "<table border=\"1\" class=\"dataframe\">\n",
       "  <thead>\n",
       "    <tr style=\"text-align: right;\">\n",
       "      <th></th>\n",
       "      <th>text_path</th>\n",
       "      <th>text_id</th>\n",
       "      <th>sentence</th>\n",
       "      <th>label</th>\n",
       "      <th>num_character_errors</th>\n",
       "      <th>num_word_errors</th>\n",
       "      <th>prediction</th>\n",
       "    </tr>\n",
       "  </thead>\n",
       "  <tbody>\n",
       "    <tr>\n",
       "      <th>8032</th>\n",
       "      <td>NaN</td>\n",
       "      <td>NaN</td>\n",
       "      <td>Three minutes were recorded wih eyes closed, t...</td>\n",
       "      <td>NaN</td>\n",
       "      <td>1.0</td>\n",
       "      <td>0.0</td>\n",
       "      <td>1</td>\n",
       "    </tr>\n",
       "    <tr>\n",
       "      <th>8033</th>\n",
       "      <td>NaN</td>\n",
       "      <td>NaN</td>\n",
       "      <td>A sample of ascites was taken for ceyl block a...</td>\n",
       "      <td>NaN</td>\n",
       "      <td>2.0</td>\n",
       "      <td>0.0</td>\n",
       "      <td>0</td>\n",
       "    </tr>\n",
       "    <tr>\n",
       "      <th>8034</th>\n",
       "      <td>NaN</td>\n",
       "      <td>NaN</td>\n",
       "      <td>Th patientl progressed win good condition, asy...</td>\n",
       "      <td>NaN</td>\n",
       "      <td>6.0</td>\n",
       "      <td>0.0</td>\n",
       "      <td>1</td>\n",
       "    </tr>\n",
       "    <tr>\n",
       "      <th>8035</th>\n",
       "      <td>NaN</td>\n",
       "      <td>NaN</td>\n",
       "      <td>EKG: atrial fibillation wuth a mean frequency ...</td>\n",
       "      <td>NaN</td>\n",
       "      <td>2.0</td>\n",
       "      <td>1.0</td>\n",
       "      <td>1</td>\n",
       "    </tr>\n",
       "    <tr>\n",
       "      <th>8036</th>\n",
       "      <td>NaN</td>\n",
       "      <td>NaN</td>\n",
       "      <td>Computed toomgraphy showed a pancreatic head t...</td>\n",
       "      <td>NaN</td>\n",
       "      <td>4.0</td>\n",
       "      <td>0.0</td>\n",
       "      <td>1</td>\n",
       "    </tr>\n",
       "    <tr>\n",
       "      <th>...</th>\n",
       "      <td>...</td>\n",
       "      <td>...</td>\n",
       "      <td>...</td>\n",
       "      <td>...</td>\n",
       "      <td>...</td>\n",
       "      <td>...</td>\n",
       "      <td>...</td>\n",
       "    </tr>\n",
       "    <tr>\n",
       "      <th>9995</th>\n",
       "      <td>NaN</td>\n",
       "      <td>NaN</td>\n",
       "      <td>vzmkwptge radiological significance.</td>\n",
       "      <td>NaN</td>\n",
       "      <td>0.0</td>\n",
       "      <td>1.0</td>\n",
       "      <td>1</td>\n",
       "    </tr>\n",
       "    <tr>\n",
       "      <th>9996</th>\n",
       "      <td>NaN</td>\n",
       "      <td>NaN</td>\n",
       "      <td>Urgent abdominal coemputed tomography: difufse...</td>\n",
       "      <td>NaN</td>\n",
       "      <td>7.0</td>\n",
       "      <td>0.0</td>\n",
       "      <td>1</td>\n",
       "    </tr>\n",
       "    <tr>\n",
       "      <th>9997</th>\n",
       "      <td>NaN</td>\n",
       "      <td>NaN</td>\n",
       "      <td>In the initial complementary tests, hypokalemi...</td>\n",
       "      <td>NaN</td>\n",
       "      <td>2.0</td>\n",
       "      <td>1.0</td>\n",
       "      <td>1</td>\n",
       "    </tr>\n",
       "    <tr>\n",
       "      <th>9998</th>\n",
       "      <td>NaN</td>\n",
       "      <td>NaN</td>\n",
       "      <td>A g59-year-old male witm a history of smoking ...</td>\n",
       "      <td>NaN</td>\n",
       "      <td>5.0</td>\n",
       "      <td>0.0</td>\n",
       "      <td>1</td>\n",
       "    </tr>\n",
       "    <tr>\n",
       "      <th>9999</th>\n",
       "      <td>NaN</td>\n",
       "      <td>NaN</td>\n",
       "      <td>Computed tomography shwwed increased dqiffuse ...</td>\n",
       "      <td>NaN</td>\n",
       "      <td>3.0</td>\n",
       "      <td>0.0</td>\n",
       "      <td>1</td>\n",
       "    </tr>\n",
       "  </tbody>\n",
       "</table>\n",
       "<p>1968 rows × 7 columns</p>\n",
       "</div>"
      ],
      "text/plain": [
       "     text_path  text_id                                           sentence  \\\n",
       "8032       NaN      NaN  Three minutes were recorded wih eyes closed, t...   \n",
       "8033       NaN      NaN  A sample of ascites was taken for ceyl block a...   \n",
       "8034       NaN      NaN  Th patientl progressed win good condition, asy...   \n",
       "8035       NaN      NaN  EKG: atrial fibillation wuth a mean frequency ...   \n",
       "8036       NaN      NaN  Computed toomgraphy showed a pancreatic head t...   \n",
       "...        ...      ...                                                ...   \n",
       "9995       NaN      NaN               vzmkwptge radiological significance.   \n",
       "9996       NaN      NaN  Urgent abdominal coemputed tomography: difufse...   \n",
       "9997       NaN      NaN  In the initial complementary tests, hypokalemi...   \n",
       "9998       NaN      NaN  A g59-year-old male witm a history of smoking ...   \n",
       "9999       NaN      NaN  Computed tomography shwwed increased dqiffuse ...   \n",
       "\n",
       "      label  num_character_errors  num_word_errors  prediction  \n",
       "8032    NaN                   1.0              0.0           1  \n",
       "8033    NaN                   2.0              0.0           0  \n",
       "8034    NaN                   6.0              0.0           1  \n",
       "8035    NaN                   2.0              1.0           1  \n",
       "8036    NaN                   4.0              0.0           1  \n",
       "...     ...                   ...              ...         ...  \n",
       "9995    NaN                   0.0              1.0           1  \n",
       "9996    NaN                   7.0              0.0           1  \n",
       "9997    NaN                   2.0              1.0           1  \n",
       "9998    NaN                   5.0              0.0           1  \n",
       "9999    NaN                   3.0              0.0           1  \n",
       "\n",
       "[1968 rows x 7 columns]"
      ]
     },
     "execution_count": 133,
     "metadata": {},
     "output_type": "execute_result"
    }
   ],
   "source": [
    "final_test[final_test['label'].isna()]"
   ]
  },
  {
   "cell_type": "code",
   "execution_count": 129,
   "id": "ff5ad4a6-4384-4081-854f-d677927533c0",
   "metadata": {},
   "outputs": [
    {
     "name": "stderr",
     "output_type": "stream",
     "text": [
      "/Users/jordi/Documents/Profesional/Búsqueda de Trabajo/Barcelona 2024/ADP/lib/python3.11/site-packages/sklearn/utils/_array_api.py:399: RuntimeWarning: invalid value encountered in cast\n",
      "  return x.astype(dtype, copy=copy, casting=casting)\n"
     ]
    },
    {
     "ename": "ValueError",
     "evalue": "Input y_true contains NaN.",
     "output_type": "error",
     "traceback": [
      "\u001b[0;31m---------------------------------------------------------------------------\u001b[0m",
      "\u001b[0;31mValueError\u001b[0m                                Traceback (most recent call last)",
      "Cell \u001b[0;32mIn[129], line 1\u001b[0m\n\u001b[0;32m----> 1\u001b[0m \u001b[43maccuracy_score\u001b[49m\u001b[43m(\u001b[49m\u001b[43mfinal_test\u001b[49m\u001b[43m[\u001b[49m\u001b[38;5;124;43m'\u001b[39;49m\u001b[38;5;124;43mlabel\u001b[39;49m\u001b[38;5;124;43m'\u001b[39;49m\u001b[43m]\u001b[49m\u001b[43m,\u001b[49m\u001b[43m \u001b[49m\u001b[43mfinal_test\u001b[49m\u001b[43m[\u001b[49m\u001b[38;5;124;43m'\u001b[39;49m\u001b[38;5;124;43mprediction\u001b[39;49m\u001b[38;5;124;43m'\u001b[39;49m\u001b[43m]\u001b[49m\u001b[43m)\u001b[49m\n",
      "File \u001b[0;32m~/Documents/Profesional/Búsqueda de Trabajo/Barcelona 2024/ADP/lib/python3.11/site-packages/sklearn/utils/_param_validation.py:216\u001b[0m, in \u001b[0;36mvalidate_params.<locals>.decorator.<locals>.wrapper\u001b[0;34m(*args, **kwargs)\u001b[0m\n\u001b[1;32m    210\u001b[0m \u001b[38;5;28;01mtry\u001b[39;00m:\n\u001b[1;32m    211\u001b[0m     \u001b[38;5;28;01mwith\u001b[39;00m config_context(\n\u001b[1;32m    212\u001b[0m         skip_parameter_validation\u001b[38;5;241m=\u001b[39m(\n\u001b[1;32m    213\u001b[0m             prefer_skip_nested_validation \u001b[38;5;129;01mor\u001b[39;00m global_skip_validation\n\u001b[1;32m    214\u001b[0m         )\n\u001b[1;32m    215\u001b[0m     ):\n\u001b[0;32m--> 216\u001b[0m         \u001b[38;5;28;01mreturn\u001b[39;00m \u001b[43mfunc\u001b[49m\u001b[43m(\u001b[49m\u001b[38;5;241;43m*\u001b[39;49m\u001b[43margs\u001b[49m\u001b[43m,\u001b[49m\u001b[43m \u001b[49m\u001b[38;5;241;43m*\u001b[39;49m\u001b[38;5;241;43m*\u001b[39;49m\u001b[43mkwargs\u001b[49m\u001b[43m)\u001b[49m\n\u001b[1;32m    217\u001b[0m \u001b[38;5;28;01mexcept\u001b[39;00m InvalidParameterError \u001b[38;5;28;01mas\u001b[39;00m e:\n\u001b[1;32m    218\u001b[0m     \u001b[38;5;66;03m# When the function is just a wrapper around an estimator, we allow\u001b[39;00m\n\u001b[1;32m    219\u001b[0m     \u001b[38;5;66;03m# the function to delegate validation to the estimator, but we replace\u001b[39;00m\n\u001b[1;32m    220\u001b[0m     \u001b[38;5;66;03m# the name of the estimator by the name of the function in the error\u001b[39;00m\n\u001b[1;32m    221\u001b[0m     \u001b[38;5;66;03m# message to avoid confusion.\u001b[39;00m\n\u001b[1;32m    222\u001b[0m     msg \u001b[38;5;241m=\u001b[39m re\u001b[38;5;241m.\u001b[39msub(\n\u001b[1;32m    223\u001b[0m         \u001b[38;5;124mr\u001b[39m\u001b[38;5;124m\"\u001b[39m\u001b[38;5;124mparameter of \u001b[39m\u001b[38;5;124m\\\u001b[39m\u001b[38;5;124mw+ must be\u001b[39m\u001b[38;5;124m\"\u001b[39m,\n\u001b[1;32m    224\u001b[0m         \u001b[38;5;124mf\u001b[39m\u001b[38;5;124m\"\u001b[39m\u001b[38;5;124mparameter of \u001b[39m\u001b[38;5;132;01m{\u001b[39;00mfunc\u001b[38;5;241m.\u001b[39m\u001b[38;5;18m__qualname__\u001b[39m\u001b[38;5;132;01m}\u001b[39;00m\u001b[38;5;124m must be\u001b[39m\u001b[38;5;124m\"\u001b[39m,\n\u001b[1;32m    225\u001b[0m         \u001b[38;5;28mstr\u001b[39m(e),\n\u001b[1;32m    226\u001b[0m     )\n",
      "File \u001b[0;32m~/Documents/Profesional/Búsqueda de Trabajo/Barcelona 2024/ADP/lib/python3.11/site-packages/sklearn/metrics/_classification.py:227\u001b[0m, in \u001b[0;36maccuracy_score\u001b[0;34m(y_true, y_pred, normalize, sample_weight)\u001b[0m\n\u001b[1;32m    225\u001b[0m \u001b[38;5;66;03m# Compute accuracy for each possible representation\u001b[39;00m\n\u001b[1;32m    226\u001b[0m y_true, y_pred \u001b[38;5;241m=\u001b[39m attach_unique(y_true, y_pred)\n\u001b[0;32m--> 227\u001b[0m y_type, y_true, y_pred \u001b[38;5;241m=\u001b[39m \u001b[43m_check_targets\u001b[49m\u001b[43m(\u001b[49m\u001b[43my_true\u001b[49m\u001b[43m,\u001b[49m\u001b[43m \u001b[49m\u001b[43my_pred\u001b[49m\u001b[43m)\u001b[49m\n\u001b[1;32m    228\u001b[0m check_consistent_length(y_true, y_pred, sample_weight)\n\u001b[1;32m    230\u001b[0m \u001b[38;5;28;01mif\u001b[39;00m y_type\u001b[38;5;241m.\u001b[39mstartswith(\u001b[38;5;124m\"\u001b[39m\u001b[38;5;124mmultilabel\u001b[39m\u001b[38;5;124m\"\u001b[39m):\n",
      "File \u001b[0;32m~/Documents/Profesional/Búsqueda de Trabajo/Barcelona 2024/ADP/lib/python3.11/site-packages/sklearn/metrics/_classification.py:99\u001b[0m, in \u001b[0;36m_check_targets\u001b[0;34m(y_true, y_pred)\u001b[0m\n\u001b[1;32m     97\u001b[0m xp, _ \u001b[38;5;241m=\u001b[39m get_namespace(y_true, y_pred)\n\u001b[1;32m     98\u001b[0m check_consistent_length(y_true, y_pred)\n\u001b[0;32m---> 99\u001b[0m type_true \u001b[38;5;241m=\u001b[39m \u001b[43mtype_of_target\u001b[49m\u001b[43m(\u001b[49m\u001b[43my_true\u001b[49m\u001b[43m,\u001b[49m\u001b[43m \u001b[49m\u001b[43minput_name\u001b[49m\u001b[38;5;241;43m=\u001b[39;49m\u001b[38;5;124;43m\"\u001b[39;49m\u001b[38;5;124;43my_true\u001b[39;49m\u001b[38;5;124;43m\"\u001b[39;49m\u001b[43m)\u001b[49m\n\u001b[1;32m    100\u001b[0m type_pred \u001b[38;5;241m=\u001b[39m type_of_target(y_pred, input_name\u001b[38;5;241m=\u001b[39m\u001b[38;5;124m\"\u001b[39m\u001b[38;5;124my_pred\u001b[39m\u001b[38;5;124m\"\u001b[39m)\n\u001b[1;32m    102\u001b[0m y_type \u001b[38;5;241m=\u001b[39m {type_true, type_pred}\n",
      "File \u001b[0;32m~/Documents/Profesional/Búsqueda de Trabajo/Barcelona 2024/ADP/lib/python3.11/site-packages/sklearn/utils/multiclass.py:417\u001b[0m, in \u001b[0;36mtype_of_target\u001b[0;34m(y, input_name, raise_unknown)\u001b[0m\n\u001b[1;32m    415\u001b[0m     data \u001b[38;5;241m=\u001b[39m y\u001b[38;5;241m.\u001b[39mdata \u001b[38;5;28;01mif\u001b[39;00m issparse(y) \u001b[38;5;28;01melse\u001b[39;00m y\n\u001b[1;32m    416\u001b[0m     \u001b[38;5;28;01mif\u001b[39;00m xp\u001b[38;5;241m.\u001b[39many(data \u001b[38;5;241m!=\u001b[39m xp\u001b[38;5;241m.\u001b[39mastype(data, \u001b[38;5;28mint\u001b[39m)):\n\u001b[0;32m--> 417\u001b[0m         \u001b[43m_assert_all_finite\u001b[49m\u001b[43m(\u001b[49m\u001b[43mdata\u001b[49m\u001b[43m,\u001b[49m\u001b[43m \u001b[49m\u001b[43minput_name\u001b[49m\u001b[38;5;241;43m=\u001b[39;49m\u001b[43minput_name\u001b[49m\u001b[43m)\u001b[49m\n\u001b[1;32m    418\u001b[0m         \u001b[38;5;28;01mreturn\u001b[39;00m \u001b[38;5;124m\"\u001b[39m\u001b[38;5;124mcontinuous\u001b[39m\u001b[38;5;124m\"\u001b[39m \u001b[38;5;241m+\u001b[39m suffix\n\u001b[1;32m    420\u001b[0m \u001b[38;5;66;03m# Check multiclass\u001b[39;00m\n",
      "File \u001b[0;32m~/Documents/Profesional/Búsqueda de Trabajo/Barcelona 2024/ADP/lib/python3.11/site-packages/sklearn/utils/validation.py:120\u001b[0m, in \u001b[0;36m_assert_all_finite\u001b[0;34m(X, allow_nan, msg_dtype, estimator_name, input_name)\u001b[0m\n\u001b[1;32m    117\u001b[0m \u001b[38;5;28;01mif\u001b[39;00m first_pass_isfinite:\n\u001b[1;32m    118\u001b[0m     \u001b[38;5;28;01mreturn\u001b[39;00m\n\u001b[0;32m--> 120\u001b[0m \u001b[43m_assert_all_finite_element_wise\u001b[49m\u001b[43m(\u001b[49m\n\u001b[1;32m    121\u001b[0m \u001b[43m    \u001b[49m\u001b[43mX\u001b[49m\u001b[43m,\u001b[49m\n\u001b[1;32m    122\u001b[0m \u001b[43m    \u001b[49m\u001b[43mxp\u001b[49m\u001b[38;5;241;43m=\u001b[39;49m\u001b[43mxp\u001b[49m\u001b[43m,\u001b[49m\n\u001b[1;32m    123\u001b[0m \u001b[43m    \u001b[49m\u001b[43mallow_nan\u001b[49m\u001b[38;5;241;43m=\u001b[39;49m\u001b[43mallow_nan\u001b[49m\u001b[43m,\u001b[49m\n\u001b[1;32m    124\u001b[0m \u001b[43m    \u001b[49m\u001b[43mmsg_dtype\u001b[49m\u001b[38;5;241;43m=\u001b[39;49m\u001b[43mmsg_dtype\u001b[49m\u001b[43m,\u001b[49m\n\u001b[1;32m    125\u001b[0m \u001b[43m    \u001b[49m\u001b[43mestimator_name\u001b[49m\u001b[38;5;241;43m=\u001b[39;49m\u001b[43mestimator_name\u001b[49m\u001b[43m,\u001b[49m\n\u001b[1;32m    126\u001b[0m \u001b[43m    \u001b[49m\u001b[43minput_name\u001b[49m\u001b[38;5;241;43m=\u001b[39;49m\u001b[43minput_name\u001b[49m\u001b[43m,\u001b[49m\n\u001b[1;32m    127\u001b[0m \u001b[43m\u001b[49m\u001b[43m)\u001b[49m\n",
      "File \u001b[0;32m~/Documents/Profesional/Búsqueda de Trabajo/Barcelona 2024/ADP/lib/python3.11/site-packages/sklearn/utils/validation.py:169\u001b[0m, in \u001b[0;36m_assert_all_finite_element_wise\u001b[0;34m(X, xp, allow_nan, msg_dtype, estimator_name, input_name)\u001b[0m\n\u001b[1;32m    152\u001b[0m \u001b[38;5;28;01mif\u001b[39;00m estimator_name \u001b[38;5;129;01mand\u001b[39;00m input_name \u001b[38;5;241m==\u001b[39m \u001b[38;5;124m\"\u001b[39m\u001b[38;5;124mX\u001b[39m\u001b[38;5;124m\"\u001b[39m \u001b[38;5;129;01mand\u001b[39;00m has_nan_error:\n\u001b[1;32m    153\u001b[0m     \u001b[38;5;66;03m# Improve the error message on how to handle missing values in\u001b[39;00m\n\u001b[1;32m    154\u001b[0m     \u001b[38;5;66;03m# scikit-learn.\u001b[39;00m\n\u001b[1;32m    155\u001b[0m     msg_err \u001b[38;5;241m+\u001b[39m\u001b[38;5;241m=\u001b[39m (\n\u001b[1;32m    156\u001b[0m         \u001b[38;5;124mf\u001b[39m\u001b[38;5;124m\"\u001b[39m\u001b[38;5;130;01m\\n\u001b[39;00m\u001b[38;5;132;01m{\u001b[39;00mestimator_name\u001b[38;5;132;01m}\u001b[39;00m\u001b[38;5;124m does not accept missing values\u001b[39m\u001b[38;5;124m\"\u001b[39m\n\u001b[1;32m    157\u001b[0m         \u001b[38;5;124m\"\u001b[39m\u001b[38;5;124m encoded as NaN natively. For supervised learning, you might want\u001b[39m\u001b[38;5;124m\"\u001b[39m\n\u001b[0;32m   (...)\u001b[0m\n\u001b[1;32m    167\u001b[0m         \u001b[38;5;124m\"\u001b[39m\u001b[38;5;124m#estimators-that-handle-nan-values\u001b[39m\u001b[38;5;124m\"\u001b[39m\n\u001b[1;32m    168\u001b[0m     )\n\u001b[0;32m--> 169\u001b[0m \u001b[38;5;28;01mraise\u001b[39;00m \u001b[38;5;167;01mValueError\u001b[39;00m(msg_err)\n",
      "\u001b[0;31mValueError\u001b[0m: Input y_true contains NaN."
     ]
    }
   ],
   "source": [
    "accuracy_score(final_test['label'], final_test['prediction'])"
   ]
  },
  {
   "cell_type": "code",
   "execution_count": null,
   "id": "edaf96d9-2cbc-45e7-978e-8c14347a8d60",
   "metadata": {},
   "outputs": [],
   "source": []
  }
 ],
 "metadata": {
  "kernelspec": {
   "display_name": "adp_task",
   "language": "python",
   "name": "adp_task"
  },
  "language_info": {
   "codemirror_mode": {
    "name": "ipython",
    "version": 3
   },
   "file_extension": ".py",
   "mimetype": "text/x-python",
   "name": "python",
   "nbconvert_exporter": "python",
   "pygments_lexer": "ipython3",
   "version": "3.11.9"
  }
 },
 "nbformat": 4,
 "nbformat_minor": 5
}
