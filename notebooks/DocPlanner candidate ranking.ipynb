{
 "cells": [
  {
   "cell_type": "code",
   "execution_count": 26,
   "id": "2ed6528c-dc4b-4abf-82d1-7d6a2bdd76f5",
   "metadata": {},
   "outputs": [
    {
     "name": "stdout",
     "output_type": "stream",
     "text": [
      "The autoreload extension is already loaded. To reload it, use:\n",
      "  %reload_ext autoreload\n"
     ]
    }
   ],
   "source": [
    "%load_ext autoreload"
   ]
  },
  {
   "cell_type": "code",
   "execution_count": 27,
   "id": "69e48008-3832-4b04-9ff5-89315152848c",
   "metadata": {},
   "outputs": [],
   "source": [
    "%autoreload\n",
    "import os\n",
    "import sys\n",
    "from typing import Any\n",
    "\n",
    "from tqdm.notebook import tqdm\n",
    "\n",
    "curr_dir = os.getcwd()\n",
    "while os.path.basename(curr_dir) != \"candidate_ranking\":\n",
    "    curr_dir = os.path.dirname(curr_dir)\n",
    "sys.path.append(curr_dir)"
   ]
  },
  {
   "cell_type": "code",
   "execution_count": 28,
   "id": "7a8dcdc9-b499-49a9-a1de-c0e18f2068e6",
   "metadata": {},
   "outputs": [],
   "source": [
    "from src.codiesp import CODIESP"
   ]
  },
  {
   "cell_type": "code",
   "execution_count": 29,
   "id": "a9d11e17-8432-4d99-b017-39ed4a4da1be",
   "metadata": {},
   "outputs": [],
   "source": [
    "PATH_DATASET_SYNTHETIC = os.path.join(curr_dir, \"data\", \"codiesp.synthetic.csv\")"
   ]
  },
  {
   "cell_type": "code",
   "execution_count": 30,
   "id": "8228df9a-cea7-4987-9523-9809d28cf43e",
   "metadata": {},
   "outputs": [
    {
     "data": {
      "text/html": [
       "<div>\n",
       "<style scoped>\n",
       "    .dataframe tbody tr th:only-of-type {\n",
       "        vertical-align: middle;\n",
       "    }\n",
       "\n",
       "    .dataframe tbody tr th {\n",
       "        vertical-align: top;\n",
       "    }\n",
       "\n",
       "    .dataframe thead th {\n",
       "        text-align: right;\n",
       "    }\n",
       "</style>\n",
       "<table border=\"1\" class=\"dataframe\">\n",
       "  <thead>\n",
       "    <tr style=\"text-align: right;\">\n",
       "      <th></th>\n",
       "      <th>text_path</th>\n",
       "      <th>text_id</th>\n",
       "      <th>sentence</th>\n",
       "    </tr>\n",
       "  </thead>\n",
       "  <tbody>\n",
       "    <tr>\n",
       "      <th>0</th>\n",
       "      <td>S1130-05582007000500007-1.txt</td>\n",
       "      <td>0</td>\n",
       "      <td>The patient is a 38-year-old male who attended...</td>\n",
       "    </tr>\n",
       "    <tr>\n",
       "      <th>1</th>\n",
       "      <td>S1130-05582007000500007-1.txt</td>\n",
       "      <td>0</td>\n",
       "      <td>1.</td>\n",
       "    </tr>\n",
       "    <tr>\n",
       "      <th>2</th>\n",
       "      <td>S1130-05582007000500007-1.txt</td>\n",
       "      <td>0</td>\n",
       "      <td>The pathological antecedents include being exa...</td>\n",
       "    </tr>\n",
       "    <tr>\n",
       "      <th>3</th>\n",
       "      <td>S1130-05582007000500007-1.txt</td>\n",
       "      <td>0</td>\n",
       "      <td>The examination revealed a right mandibular tu...</td>\n",
       "    </tr>\n",
       "    <tr>\n",
       "      <th>4</th>\n",
       "      <td>S1130-05582007000500007-1.txt</td>\n",
       "      <td>0</td>\n",
       "      <td>The orthopantomography showed a mixed lesion w...</td>\n",
       "    </tr>\n",
       "  </tbody>\n",
       "</table>\n",
       "</div>"
      ],
      "text/plain": [
       "                       text_path  text_id  \\\n",
       "0  S1130-05582007000500007-1.txt        0   \n",
       "1  S1130-05582007000500007-1.txt        0   \n",
       "2  S1130-05582007000500007-1.txt        0   \n",
       "3  S1130-05582007000500007-1.txt        0   \n",
       "4  S1130-05582007000500007-1.txt        0   \n",
       "\n",
       "                                            sentence  \n",
       "0  The patient is a 38-year-old male who attended...  \n",
       "1                                                 1.  \n",
       "2  The pathological antecedents include being exa...  \n",
       "3  The examination revealed a right mandibular tu...  \n",
       "4  The orthopantomography showed a mixed lesion w...  "
      ]
     },
     "execution_count": 30,
     "metadata": {},
     "output_type": "execute_result"
    }
   ],
   "source": [
    "CODIESP.head()"
   ]
  },
  {
   "cell_type": "markdown",
   "id": "b986f529-9146-473b-8498-36735933e850",
   "metadata": {},
   "source": [
    "# Task 1: Injecting Random Transcription Errors\n",
    "\n",
    "We’ll write a function to:\n",
    "Randomly introduce errors (typos, swaps, deletions, insertions).\n",
    "Prioritize errors in medical entities if specified.\n",
    "Ensure a user-defined ratio of altered words."
   ]
  },
  {
   "cell_type": "code",
   "execution_count": 31,
   "id": "54cf30a1-6401-4c58-9085-d331e99f7cf8",
   "metadata": {},
   "outputs": [],
   "source": [
    "%autoreload\n",
    "\n",
    "import random\n",
    "import re\n",
    "import pandas as pd\n",
    "\n",
    "def introduce_typo(word):\n",
    "    \"\"\"Introduce a random character-level error in a word.\"\"\"\n",
    "    if len(word) < 3:\n",
    "        return word  # Avoid breaking very short words\n",
    "    typo_type = random.choice([\"swap\", \"delete\", \"insert\", \"substitute\"])\n",
    "\n",
    "    if typo_type == \"swap\" and len(word) > 1:\n",
    "        idx = random.randint(0, len(word) - 2)\n",
    "        return word[:idx] + word[idx + 1] + word[idx] + word[idx + 2:]\n",
    "    elif typo_type == \"delete\":\n",
    "        idx = random.randint(0, len(word) - 1)\n",
    "        return word[:idx] + word[idx + 1:]\n",
    "    elif typo_type == \"insert\":\n",
    "        idx = random.randint(0, len(word))\n",
    "        char = random.choice(\"abcdefghijklmnopqrstuvwxyz\")\n",
    "        return word[:idx] + char + word[idx:]\n",
    "    elif typo_type == \"substitute\":\n",
    "        idx = random.randint(0, len(word) - 1)\n",
    "        char = random.choice(\"abcdefghijklmnopqrstuvwxyz\")\n",
    "        return word[:idx] + char + word[idx + 1:]\n",
    "    return word\n",
    "\n",
    "def corrupt_text(text, medical_entities, entity_error_prob=0.5, other_word_prob=0.1):\n",
    "    \"\"\"\n",
    "    Introduces errors in text based on probabilities:\n",
    "    - entity_error_prob: probability of corrupting a medical entity\n",
    "    - other_word_prob: probability of corrupting any other word\n",
    "    \"\"\"\n",
    "    words = text.split()\n",
    "    corrupted_words = []\n",
    "    \n",
    "    for word in words:\n",
    "        if word in medical_entities and random.random() < entity_error_prob:\n",
    "            corrupted_words.append(introduce_typo(word))\n",
    "        elif word not in medical_entities and random.random() < other_word_prob:\n",
    "            corrupted_words.append(introduce_typo(word))\n",
    "        else:\n",
    "            corrupted_words.append(word)\n",
    "    \n",
    "    return \" \".join(corrupted_words)"
   ]
  },
  {
   "cell_type": "code",
   "execution_count": 32,
   "id": "4ea8d6fb-7cff-4e9a-af00-55b351d9b6a8",
   "metadata": {},
   "outputs": [
    {
     "data": {
      "text/html": [
       "<div>\n",
       "<style scoped>\n",
       "    .dataframe tbody tr th:only-of-type {\n",
       "        vertical-align: middle;\n",
       "    }\n",
       "\n",
       "    .dataframe tbody tr th {\n",
       "        vertical-align: top;\n",
       "    }\n",
       "\n",
       "    .dataframe thead th {\n",
       "        text-align: right;\n",
       "    }\n",
       "</style>\n",
       "<table border=\"1\" class=\"dataframe\">\n",
       "  <thead>\n",
       "    <tr style=\"text-align: right;\">\n",
       "      <th></th>\n",
       "      <th>text_path</th>\n",
       "      <th>text_id</th>\n",
       "      <th>sentence</th>\n",
       "    </tr>\n",
       "  </thead>\n",
       "  <tbody>\n",
       "    <tr>\n",
       "      <th>0</th>\n",
       "      <td>S1130-05582007000500007-1.txt</td>\n",
       "      <td>0</td>\n",
       "      <td>The patient is a 38-year-old male who attended...</td>\n",
       "    </tr>\n",
       "    <tr>\n",
       "      <th>1</th>\n",
       "      <td>S1130-05582007000500007-1.txt</td>\n",
       "      <td>0</td>\n",
       "      <td>1.</td>\n",
       "    </tr>\n",
       "    <tr>\n",
       "      <th>2</th>\n",
       "      <td>S1130-05582007000500007-1.txt</td>\n",
       "      <td>0</td>\n",
       "      <td>The pathological antecedents include being exa...</td>\n",
       "    </tr>\n",
       "    <tr>\n",
       "      <th>3</th>\n",
       "      <td>S1130-05582007000500007-1.txt</td>\n",
       "      <td>0</td>\n",
       "      <td>The examination revealed a right mandibular tu...</td>\n",
       "    </tr>\n",
       "    <tr>\n",
       "      <th>4</th>\n",
       "      <td>S1130-05582007000500007-1.txt</td>\n",
       "      <td>0</td>\n",
       "      <td>The orthopantomography showed a mixed lesion w...</td>\n",
       "    </tr>\n",
       "    <tr>\n",
       "      <th>...</th>\n",
       "      <td>...</td>\n",
       "      <td>...</td>\n",
       "      <td>...</td>\n",
       "    </tr>\n",
       "    <tr>\n",
       "      <th>8027</th>\n",
       "      <td>S0365-66912007001200011-1.txt</td>\n",
       "      <td>499</td>\n",
       "      <td>In the denuded area, an amniotic membrane graf...</td>\n",
       "    </tr>\n",
       "    <tr>\n",
       "      <th>8028</th>\n",
       "      <td>S0365-66912007001200011-1.txt</td>\n",
       "      <td>499</td>\n",
       "      <td>During follow-up there was a progressive reepi...</td>\n",
       "    </tr>\n",
       "    <tr>\n",
       "      <th>8029</th>\n",
       "      <td>S0365-66912007001200011-1.txt</td>\n",
       "      <td>499</td>\n",
       "      <td>Three weeks after surgery there was a regular ...</td>\n",
       "    </tr>\n",
       "    <tr>\n",
       "      <th>8030</th>\n",
       "      <td>S0365-66912007001200011-1.txt</td>\n",
       "      <td>499</td>\n",
       "      <td>The VA of the left eye improved to 4/10.</td>\n",
       "    </tr>\n",
       "    <tr>\n",
       "      <th>8031</th>\n",
       "      <td>S0365-66912007001200011-1.txt</td>\n",
       "      <td>499</td>\n",
       "      <td>No recurrences were observed after 8 months of...</td>\n",
       "    </tr>\n",
       "  </tbody>\n",
       "</table>\n",
       "<p>8032 rows × 3 columns</p>\n",
       "</div>"
      ],
      "text/plain": [
       "                          text_path  text_id  \\\n",
       "0     S1130-05582007000500007-1.txt        0   \n",
       "1     S1130-05582007000500007-1.txt        0   \n",
       "2     S1130-05582007000500007-1.txt        0   \n",
       "3     S1130-05582007000500007-1.txt        0   \n",
       "4     S1130-05582007000500007-1.txt        0   \n",
       "...                             ...      ...   \n",
       "8027  S0365-66912007001200011-1.txt      499   \n",
       "8028  S0365-66912007001200011-1.txt      499   \n",
       "8029  S0365-66912007001200011-1.txt      499   \n",
       "8030  S0365-66912007001200011-1.txt      499   \n",
       "8031  S0365-66912007001200011-1.txt      499   \n",
       "\n",
       "                                               sentence  \n",
       "0     The patient is a 38-year-old male who attended...  \n",
       "1                                                    1.  \n",
       "2     The pathological antecedents include being exa...  \n",
       "3     The examination revealed a right mandibular tu...  \n",
       "4     The orthopantomography showed a mixed lesion w...  \n",
       "...                                                 ...  \n",
       "8027  In the denuded area, an amniotic membrane graf...  \n",
       "8028  During follow-up there was a progressive reepi...  \n",
       "8029  Three weeks after surgery there was a regular ...  \n",
       "8030           The VA of the left eye improved to 4/10.  \n",
       "8031  No recurrences were observed after 8 months of...  \n",
       "\n",
       "[8032 rows x 3 columns]"
      ]
     },
     "execution_count": 32,
     "metadata": {},
     "output_type": "execute_result"
    }
   ],
   "source": [
    "CODIESP"
   ]
  },
  {
   "cell_type": "code",
   "execution_count": 33,
   "id": "3a58a95f-3212-4aa9-9959-587cd0b3dbed",
   "metadata": {},
   "outputs": [],
   "source": [
    "dataset = CODIESP.copy()\n",
    "corrupted_dataset = dataset.copy()\n",
    "\n",
    "def positive_case(x: Any) -> int:\n",
    "    return 1\n",
    "\n",
    "def negative_case(x: Any) -> int:\n",
    "    return 0"
   ]
  },
  {
   "cell_type": "code",
   "execution_count": 34,
   "id": "c1746b59-4582-492d-8588-544e639bd5b0",
   "metadata": {},
   "outputs": [],
   "source": [
    "dataset[\"label\"] = dataset[\"sentence\"].apply(negative_case)"
   ]
  },
  {
   "cell_type": "code",
   "execution_count": 35,
   "id": "ae720c25-5ab9-4240-a840-1656aa9feeb1",
   "metadata": {},
   "outputs": [],
   "source": [
    "# medical_entities = set(dataset[\"entities\"].explode().dropna())  # Extract medical entities from dataset\n",
    "\n",
    "corrupted_dataset[\"noisy_sentence\"] = corrupted_dataset[\"sentence\"].apply(\n",
    "    lambda x: corrupt_text(x, [], entity_error_prob=0.7, other_word_prob=0.3)\n",
    ")\n",
    "\n",
    "corrupted_dataset = (\n",
    "    corrupted_dataset\n",
    "    .drop(\"sentence\", axis=1)\n",
    "    .rename(columns={\"noisy_sentence\": \"sentence\"})\n",
    ")\n",
    "corrupted_dataset[\"label\"] = corrupted_dataset.sentence.apply(positive_case)\n",
    "\n",
    "# Merge and shuffle dataset\n",
    "final_dataset = pd.concat([dataset, corrupted_dataset])\n",
    "final_dataset.to_csv(PATH_DATASET_SYNTHETIC, index=False)"
   ]
  },
  {
   "cell_type": "markdown",
   "id": "9873e591-f7c4-4d90-95e9-dd806a4daa69",
   "metadata": {},
   "source": [
    "Explanation:\n",
    "1. Medical terms from CANTEMIST are identified and corrupted preferentially based on entity_error_prob.\n",
    "2. Non-medical words are corrupted with a lower probability other_word_prob.\n",
    "3. The output dataset (corrupted_CANTEMIST.csv) contains:\n",
    "   1. Original sentences (label = 0)\n",
    "   2. Corrupted sentences (label = 1)"
   ]
  },
  {
   "cell_type": "markdown",
   "id": "2007bba3",
   "metadata": {},
   "source": [
    "# Task 2: Training ClinicalBERT to Detect Errors\n",
    "\n",
    "Now, we’ll train ClinicalBERT on the synthetic dataset to detect transcription errors."
   ]
  },
  {
   "cell_type": "code",
   "execution_count": 36,
   "id": "ffa2bcd1",
   "metadata": {},
   "outputs": [
    {
     "name": "stderr",
     "output_type": "stream",
     "text": [
      "Some weights of BertForSequenceClassification were not initialized from the model checkpoint at emilyalsentzer/Bio_ClinicalBERT and are newly initialized: ['classifier.bias', 'classifier.weight']\n",
      "You should probably TRAIN this model on a down-stream task to be able to use it for predictions and inference.\n"
     ]
    },
    {
     "data": {
      "application/vnd.jupyter.widget-view+json": {
       "model_id": "87a74a42e1844f71a4137a327b23fd8a",
       "version_major": 2,
       "version_minor": 0
      },
      "text/plain": [
       "Generating train split: 0 examples [00:00, ? examples/s]"
      ]
     },
     "metadata": {},
     "output_type": "display_data"
    },
    {
     "name": "stdout",
     "output_type": "stream",
     "text": [
      "DatasetDict({\n",
      "    train: Dataset({\n",
      "        features: ['text_path', 'text_id', 'sentence', 'label'],\n",
      "        num_rows: 12851\n",
      "    })\n",
      "    test: Dataset({\n",
      "        features: ['text_path', 'text_id', 'sentence', 'label'],\n",
      "        num_rows: 3213\n",
      "    })\n",
      "})\n"
     ]
    }
   ],
   "source": [
    "%autoreload\n",
    "from transformers import BertTokenizer, BertForSequenceClassification, Trainer, TrainingArguments\n",
    "from datasets import load_dataset\n",
    "\n",
    "# Load ClinicalBERT\n",
    "model_name = \"emilyalsentzer/Bio_ClinicalBERT\"\n",
    "tokenizer = BertTokenizer.from_pretrained(model_name)\n",
    "model = BertForSequenceClassification.from_pretrained(model_name, num_labels=2)\n",
    "\n",
    "# Load dataset\n",
    "dataset = load_dataset(\"csv\", data_files={\"train\": PATH_DATASET_SYNTHETIC})\n",
    "dataset = dataset[\"train\"].train_test_split(test_size=0.2)\n",
    "\n",
    "print(dataset)"
   ]
  },
  {
   "cell_type": "code",
   "execution_count": 37,
   "id": "baf4d4bf-42dc-4f57-9938-0c149f9f1ca5",
   "metadata": {},
   "outputs": [
    {
     "data": {
      "application/vnd.jupyter.widget-view+json": {
       "model_id": "1124b6a94b2a4d26809279357131f678",
       "version_major": 2,
       "version_minor": 0
      },
      "text/plain": [
       "Map:   0%|          | 0/12851 [00:00<?, ? examples/s]"
      ]
     },
     "metadata": {},
     "output_type": "display_data"
    },
    {
     "data": {
      "application/vnd.jupyter.widget-view+json": {
       "model_id": "1d6a017e3f824404a51cf03e9b13cdfa",
       "version_major": 2,
       "version_minor": 0
      },
      "text/plain": [
       "Map:   0%|          | 0/3213 [00:00<?, ? examples/s]"
      ]
     },
     "metadata": {},
     "output_type": "display_data"
    },
    {
     "name": "stderr",
     "output_type": "stream",
     "text": [
      "/Users/jordi/Documents/Profesional/Búsqueda de Trabajo/Barcelona 2024/ADP/lib/python3.11/site-packages/transformers/training_args.py:1575: FutureWarning: `evaluation_strategy` is deprecated and will be removed in version 4.46 of 🤗 Transformers. Use `eval_strategy` instead\n",
      "  warnings.warn(\n"
     ]
    },
    {
     "data": {
      "text/html": [
       "\n",
       "    <div>\n",
       "      \n",
       "      <progress value='4821' max='4821' style='width:300px; height:20px; vertical-align: middle;'></progress>\n",
       "      [4821/4821 23:53, Epoch 3/3]\n",
       "    </div>\n",
       "    <table border=\"1\" class=\"dataframe\">\n",
       "  <thead>\n",
       " <tr style=\"text-align: left;\">\n",
       "      <th>Epoch</th>\n",
       "      <th>Training Loss</th>\n",
       "      <th>Validation Loss</th>\n",
       "    </tr>\n",
       "  </thead>\n",
       "  <tbody>\n",
       "    <tr>\n",
       "      <td>1</td>\n",
       "      <td>0.257000</td>\n",
       "      <td>0.197244</td>\n",
       "    </tr>\n",
       "    <tr>\n",
       "      <td>2</td>\n",
       "      <td>0.188700</td>\n",
       "      <td>0.271014</td>\n",
       "    </tr>\n",
       "    <tr>\n",
       "      <td>3</td>\n",
       "      <td>0.142200</td>\n",
       "      <td>0.267810</td>\n",
       "    </tr>\n",
       "  </tbody>\n",
       "</table><p>"
      ],
      "text/plain": [
       "<IPython.core.display.HTML object>"
      ]
     },
     "metadata": {},
     "output_type": "display_data"
    },
    {
     "data": {
      "text/plain": [
       "TrainOutput(global_step=4821, training_loss=0.20143407708108488, metrics={'train_runtime': 1437.5051, 'train_samples_per_second': 26.819, 'train_steps_per_second': 3.354, 'total_flos': 2535930129323520.0, 'train_loss': 0.20143407708108488, 'epoch': 3.0})"
      ]
     },
     "execution_count": 37,
     "metadata": {},
     "output_type": "execute_result"
    }
   ],
   "source": [
    "# Tokenize function\n",
    "def tokenize_function(examples):\n",
    "    return tokenizer(\n",
    "        examples[\"sentence\"],\n",
    "        padding=\"max_length\",\n",
    "        truncation=True, \n",
    "        max_length=128\n",
    "    )\n",
    "\n",
    "tokenized_datasets = dataset.map(tokenize_function, batched=True)\n",
    "\n",
    "# Training settings\n",
    "training_args = TrainingArguments(\n",
    "    output_dir=\"./error_detection\",\n",
    "    evaluation_strategy=\"epoch\",\n",
    "    save_strategy=\"epoch\",\n",
    "    per_device_train_batch_size=8,\n",
    "    per_device_eval_batch_size=8,\n",
    "    num_train_epochs=3,\n",
    ")\n",
    "\n",
    "trainer = Trainer(\n",
    "    model=model,\n",
    "    args=training_args,\n",
    "    train_dataset=tokenized_datasets[\"train\"],\n",
    "    eval_dataset=tokenized_datasets[\"test\"],\n",
    ")\n",
    "\n",
    "# Train model\n",
    "trainer.train()"
   ]
  },
  {
   "cell_type": "markdown",
   "id": "01842bb2-e565-4209-858e-de4b93ff2f67",
   "metadata": {},
   "source": [
    "# 3. Error Detection on New Transcriptions\n",
    "\n",
    "Once trained, ClinicalBERT can now classify new transcriptions for errors."
   ]
  },
  {
   "cell_type": "code",
   "execution_count": 38,
   "id": "432d924d-df93-4e9f-801b-66311756dd52",
   "metadata": {},
   "outputs": [
    {
     "name": "stderr",
     "output_type": "stream",
     "text": [
      "Device set to use mps:0\n"
     ]
    },
    {
     "name": "stdout",
     "output_type": "stream",
     "text": [
      "[{'label': 'LABEL_1', 'score': 0.9998667240142822}]\n"
     ]
    }
   ],
   "source": [
    "from transformers import pipeline\n",
    "\n",
    "error_detector = pipeline(\"text-classification\", model=model, tokenizer=tokenizer)\n",
    "\n",
    "test_text = \"The patient has dyspnaea and needs immdeiate attention.\"\n",
    "score = error_detector(test_text)\n",
    "print(score)  # [{'label': '1' (error), 'score': 0.95}]\n"
   ]
  },
  {
   "cell_type": "code",
   "execution_count": 40,
   "id": "674a27bb-00e6-4879-9b63-7ef50e73d175",
   "metadata": {},
   "outputs": [
    {
     "data": {
      "text/plain": [
       "[{'label': 'LABEL_0', 'score': 0.9850120544433594}]"
      ]
     },
     "execution_count": 40,
     "metadata": {},
     "output_type": "execute_result"
    }
   ],
   "source": [
    "test_text = \"The patient has dyspnea and needs immediate attention.\"\n",
    "score = error_detector(test_text)\n",
    "score"
   ]
  },
  {
   "cell_type": "markdown",
   "id": "fdf72f80-515f-45bf-8418-4d9651c0b42b",
   "metadata": {},
   "source": [
    "- A high probability means the model detects errors.\n",
    "- A low probability means the transcription is likely correct."
   ]
  },
  {
   "cell_type": "markdown",
   "id": "81274906-d635-486c-a3ab-1589e6285a77",
   "metadata": {},
   "source": [
    "# Next Steps\n",
    "\n",
    "1. Evaluate performance: Compute F1-score, precision, recall to ensure good error detection.\n",
    "2. Refine error generation: Introduce more realistic mistakes (homophones, phonetic errors).\n",
    "3. Fine-tune for specific error types: Add subcategories like misrecognized words vs. omitted words."
   ]
  },
  {
   "cell_type": "code",
   "execution_count": null,
   "id": "01f7a71c-56dc-4acd-bd21-cfbf2bca0b08",
   "metadata": {},
   "outputs": [],
   "source": []
  }
 ],
 "metadata": {
  "kernelspec": {
   "display_name": "adp_task",
   "language": "python",
   "name": "adp_task"
  },
  "language_info": {
   "codemirror_mode": {
    "name": "ipython",
    "version": 3
   },
   "file_extension": ".py",
   "mimetype": "text/x-python",
   "name": "python",
   "nbconvert_exporter": "python",
   "pygments_lexer": "ipython3",
   "version": "3.11.9"
  }
 },
 "nbformat": 4,
 "nbformat_minor": 5
}
