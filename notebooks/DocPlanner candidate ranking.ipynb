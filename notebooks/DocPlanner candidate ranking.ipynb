{
 "cells": [
  {
   "cell_type": "code",
   "execution_count": 1,
   "id": "2ed6528c-dc4b-4abf-82d1-7d6a2bdd76f5",
   "metadata": {},
   "outputs": [],
   "source": [
    "%load_ext autoreload"
   ]
  },
  {
   "cell_type": "code",
   "execution_count": 2,
   "id": "69e48008-3832-4b04-9ff5-89315152848c",
   "metadata": {},
   "outputs": [],
   "source": [
    "%autoreload\n",
    "import os\n",
    "import sys\n",
    "from typing import Any\n",
    "\n",
    "import pandas as pd\n",
    "from tqdm.notebook import tqdm\n",
    "from transformers import (\n",
    "    BertTokenizer,\n",
    "    BertForSequenceClassification,\n",
    "    Trainer,\n",
    "    TrainingArguments\n",
    ")\n",
    "from datasets import load_dataset\n",
    "\n",
    "\n",
    "curr_dir = os.getcwd()\n",
    "while os.path.basename(curr_dir) != \"candidate_ranking\":\n",
    "    curr_dir = os.path.dirname(curr_dir)\n",
    "sys.path.append(curr_dir)"
   ]
  },
  {
   "cell_type": "code",
   "execution_count": 3,
   "id": "7a8dcdc9-b499-49a9-a1de-c0e18f2068e6",
   "metadata": {},
   "outputs": [
    {
     "name": "stdout",
     "output_type": "stream",
     "text": [
      "/Users/jordi/Documents/Profesional/Búsqueda de Trabajo/Barcelona 2024/DocPlanner/candidate_ranking\n"
     ]
    },
    {
     "name": "stderr",
     "output_type": "stream",
     "text": [
      "100%|████████████████████████████████████████████████████████████████████████████████████| 500/500 [00:00<00:00, 3950.29it/s]\n"
     ]
    }
   ],
   "source": [
    "from src.codiesp import CODIESP\n",
    "from src.error_injector import corrupt_text\n",
    "from src.language_model import BioClinicalBert"
   ]
  },
  {
   "cell_type": "code",
   "execution_count": 4,
   "id": "9ab2e87b-4e39-464b-8c5a-2b4594dd5be6",
   "metadata": {},
   "outputs": [
    {
     "name": "stderr",
     "output_type": "stream",
     "text": [
      "Some weights of BertForSequenceClassification were not initialized from the model checkpoint at emilyalsentzer/Bio_ClinicalBERT and are newly initialized: ['classifier.bias', 'classifier.weight']\n",
      "You should probably TRAIN this model on a down-stream task to be able to use it for predictions and inference.\n"
     ]
    }
   ],
   "source": [
    "BIOBERT = BioClinicalBert()"
   ]
  },
  {
   "cell_type": "code",
   "execution_count": 5,
   "id": "a9d11e17-8432-4d99-b017-39ed4a4da1be",
   "metadata": {},
   "outputs": [],
   "source": [
    "PATH_DATASET_SYNTHETIC = os.path.join(curr_dir, \"data\", \"codiesp.synthetic.csv\")"
   ]
  },
  {
   "cell_type": "code",
   "execution_count": 6,
   "id": "8228df9a-cea7-4987-9523-9809d28cf43e",
   "metadata": {},
   "outputs": [
    {
     "data": {
      "text/html": [
       "<div>\n",
       "<style scoped>\n",
       "    .dataframe tbody tr th:only-of-type {\n",
       "        vertical-align: middle;\n",
       "    }\n",
       "\n",
       "    .dataframe tbody tr th {\n",
       "        vertical-align: top;\n",
       "    }\n",
       "\n",
       "    .dataframe thead th {\n",
       "        text-align: right;\n",
       "    }\n",
       "</style>\n",
       "<table border=\"1\" class=\"dataframe\">\n",
       "  <thead>\n",
       "    <tr style=\"text-align: right;\">\n",
       "      <th></th>\n",
       "      <th>text_path</th>\n",
       "      <th>text_id</th>\n",
       "      <th>sentence</th>\n",
       "    </tr>\n",
       "  </thead>\n",
       "  <tbody>\n",
       "    <tr>\n",
       "      <th>0</th>\n",
       "      <td>S1130-05582007000500007-1.txt</td>\n",
       "      <td>0</td>\n",
       "      <td>The patient is a 38-year-old male who attended...</td>\n",
       "    </tr>\n",
       "    <tr>\n",
       "      <th>1</th>\n",
       "      <td>S1130-05582007000500007-1.txt</td>\n",
       "      <td>0</td>\n",
       "      <td>1.</td>\n",
       "    </tr>\n",
       "    <tr>\n",
       "      <th>2</th>\n",
       "      <td>S1130-05582007000500007-1.txt</td>\n",
       "      <td>0</td>\n",
       "      <td>The pathological antecedents include being exa...</td>\n",
       "    </tr>\n",
       "    <tr>\n",
       "      <th>3</th>\n",
       "      <td>S1130-05582007000500007-1.txt</td>\n",
       "      <td>0</td>\n",
       "      <td>The examination revealed a right mandibular tu...</td>\n",
       "    </tr>\n",
       "    <tr>\n",
       "      <th>4</th>\n",
       "      <td>S1130-05582007000500007-1.txt</td>\n",
       "      <td>0</td>\n",
       "      <td>The orthopantomography showed a mixed lesion w...</td>\n",
       "    </tr>\n",
       "  </tbody>\n",
       "</table>\n",
       "</div>"
      ],
      "text/plain": [
       "                       text_path  text_id  \\\n",
       "0  S1130-05582007000500007-1.txt        0   \n",
       "1  S1130-05582007000500007-1.txt        0   \n",
       "2  S1130-05582007000500007-1.txt        0   \n",
       "3  S1130-05582007000500007-1.txt        0   \n",
       "4  S1130-05582007000500007-1.txt        0   \n",
       "\n",
       "                                            sentence  \n",
       "0  The patient is a 38-year-old male who attended...  \n",
       "1                                                 1.  \n",
       "2  The pathological antecedents include being exa...  \n",
       "3  The examination revealed a right mandibular tu...  \n",
       "4  The orthopantomography showed a mixed lesion w...  "
      ]
     },
     "execution_count": 6,
     "metadata": {},
     "output_type": "execute_result"
    }
   ],
   "source": [
    "CODIESP.head()"
   ]
  },
  {
   "cell_type": "markdown",
   "id": "b986f529-9146-473b-8498-36735933e850",
   "metadata": {},
   "source": [
    "# Task 1: Injecting Random Transcription Errors\n",
    "\n",
    "We’ll write a function to:\n",
    "Randomly introduce errors (typos, swaps, deletions, insertions).\n",
    "Prioritize errors in medical entities if specified.\n",
    "Ensure a user-defined ratio of altered words."
   ]
  },
  {
   "cell_type": "code",
   "execution_count": 7,
   "id": "3a58a95f-3212-4aa9-9959-587cd0b3dbed",
   "metadata": {},
   "outputs": [],
   "source": [
    "dataset = CODIESP.copy()\n",
    "corrupted_dataset = dataset.copy()\n",
    "\n",
    "def positive_case(x: Any) -> int:\n",
    "    return 1\n",
    "\n",
    "def negative_case(x: Any) -> int:\n",
    "    return 0"
   ]
  },
  {
   "cell_type": "code",
   "execution_count": 8,
   "id": "c1746b59-4582-492d-8588-544e639bd5b0",
   "metadata": {},
   "outputs": [],
   "source": [
    "dataset[\"label\"] = dataset[\"sentence\"].apply(negative_case)"
   ]
  },
  {
   "cell_type": "code",
   "execution_count": 9,
   "id": "ae720c25-5ab9-4240-a840-1656aa9feeb1",
   "metadata": {},
   "outputs": [],
   "source": [
    "error_rows = list(corrupted_dataset[\"sentence\"].apply(\n",
    "    lambda x: corrupt_text(x, word_error_probability=0.2, character_error_probability=0.2)\n",
    "))"
   ]
  },
  {
   "cell_type": "code",
   "execution_count": 10,
   "id": "15d24294-d7d2-45ea-afbb-575157ea8ee1",
   "metadata": {},
   "outputs": [
    {
     "data": {
      "text/html": [
       "<div>\n",
       "<style scoped>\n",
       "    .dataframe tbody tr th:only-of-type {\n",
       "        vertical-align: middle;\n",
       "    }\n",
       "\n",
       "    .dataframe tbody tr th {\n",
       "        vertical-align: top;\n",
       "    }\n",
       "\n",
       "    .dataframe thead th {\n",
       "        text-align: right;\n",
       "    }\n",
       "</style>\n",
       "<table border=\"1\" class=\"dataframe\">\n",
       "  <thead>\n",
       "    <tr style=\"text-align: right;\">\n",
       "      <th></th>\n",
       "      <th>sentence</th>\n",
       "      <th>num_character_errors</th>\n",
       "      <th>num_word_errors</th>\n",
       "    </tr>\n",
       "  </thead>\n",
       "  <tbody>\n",
       "    <tr>\n",
       "      <th>0</th>\n",
       "      <td>The patient is a 38-year-old male who mttended...</td>\n",
       "      <td>7</td>\n",
       "      <td>1</td>\n",
       "    </tr>\n",
       "    <tr>\n",
       "      <th>1</th>\n",
       "      <td>.</td>\n",
       "      <td>1</td>\n",
       "      <td>0</td>\n",
       "    </tr>\n",
       "    <tr>\n",
       "      <th>2</th>\n",
       "      <td>The pathological antecedents include being exa...</td>\n",
       "      <td>2</td>\n",
       "      <td>0</td>\n",
       "    </tr>\n",
       "    <tr>\n",
       "      <th>3</th>\n",
       "      <td>Th examination revealed a rightz mandibuylar t...</td>\n",
       "      <td>7</td>\n",
       "      <td>0</td>\n",
       "    </tr>\n",
       "    <tr>\n",
       "      <th>4</th>\n",
       "      <td>The orthopantomography showed av mixed lesion ...</td>\n",
       "      <td>3</td>\n",
       "      <td>1</td>\n",
       "    </tr>\n",
       "    <tr>\n",
       "      <th>...</th>\n",
       "      <td>...</td>\n",
       "      <td>...</td>\n",
       "      <td>...</td>\n",
       "    </tr>\n",
       "    <tr>\n",
       "      <th>8027</th>\n",
       "      <td>tIn the denudeds area, an amniotic membrane gr...</td>\n",
       "      <td>4</td>\n",
       "      <td>0</td>\n",
       "    </tr>\n",
       "    <tr>\n",
       "      <th>8028</th>\n",
       "      <td>Durin follow-up there was ra progressive reepi...</td>\n",
       "      <td>7</td>\n",
       "      <td>0</td>\n",
       "    </tr>\n",
       "    <tr>\n",
       "      <th>8029</th>\n",
       "      <td>Three weeks after surgery theae was a regular ...</td>\n",
       "      <td>5</td>\n",
       "      <td>0</td>\n",
       "    </tr>\n",
       "    <tr>\n",
       "      <th>8030</th>\n",
       "      <td>The V of the left eye improved to 4/10.</td>\n",
       "      <td>1</td>\n",
       "      <td>0</td>\n",
       "    </tr>\n",
       "    <tr>\n",
       "      <th>8031</th>\n",
       "      <td>No recurences were obsevred after 8 months of ...</td>\n",
       "      <td>2</td>\n",
       "      <td>0</td>\n",
       "    </tr>\n",
       "  </tbody>\n",
       "</table>\n",
       "<p>8032 rows × 3 columns</p>\n",
       "</div>"
      ],
      "text/plain": [
       "                                               sentence  num_character_errors  \\\n",
       "0     The patient is a 38-year-old male who mttended...                     7   \n",
       "1                                                     .                     1   \n",
       "2     The pathological antecedents include being exa...                     2   \n",
       "3     Th examination revealed a rightz mandibuylar t...                     7   \n",
       "4     The orthopantomography showed av mixed lesion ...                     3   \n",
       "...                                                 ...                   ...   \n",
       "8027  tIn the denudeds area, an amniotic membrane gr...                     4   \n",
       "8028  Durin follow-up there was ra progressive reepi...                     7   \n",
       "8029  Three weeks after surgery theae was a regular ...                     5   \n",
       "8030            The V of the left eye improved to 4/10.                     1   \n",
       "8031  No recurences were obsevred after 8 months of ...                     2   \n",
       "\n",
       "      num_word_errors  \n",
       "0                   1  \n",
       "1                   0  \n",
       "2                   0  \n",
       "3                   0  \n",
       "4                   1  \n",
       "...               ...  \n",
       "8027                0  \n",
       "8028                0  \n",
       "8029                0  \n",
       "8030                0  \n",
       "8031                0  \n",
       "\n",
       "[8032 rows x 3 columns]"
      ]
     },
     "execution_count": 10,
     "metadata": {},
     "output_type": "execute_result"
    }
   ],
   "source": [
    "error_columns_df = pd.DataFrame(error_rows, columns=[\"sentence\", \"num_character_errors\", \"num_word_errors\"])\n",
    "\n",
    "corrupted_dataset = pd.concat(\n",
    "    [corrupted_dataset.drop(\"sentence\", axis=1, inplace=True), error_columns_df],\n",
    "    axis=1\n",
    ")\n",
    "\n",
    "error_columns_df"
   ]
  },
  {
   "cell_type": "code",
   "execution_count": 11,
   "id": "d9d9ddd6-d92f-4b74-b74f-4f5bd7f38e4d",
   "metadata": {},
   "outputs": [],
   "source": [
    "corrupted_dataset[\"label\"] = corrupted_dataset.sentence.apply(positive_case)\n",
    "\n",
    "# Merge and shuffle dataset\n",
    "final_dataset = pd.concat([dataset, corrupted_dataset])\n",
    "final_dataset.to_csv(PATH_DATASET_SYNTHETIC, index=False)"
   ]
  },
  {
   "cell_type": "code",
   "execution_count": 12,
   "id": "553e05d5-8d31-415a-89eb-8b1d1a563e34",
   "metadata": {},
   "outputs": [
    {
     "data": {
      "text/html": [
       "<div>\n",
       "<style scoped>\n",
       "    .dataframe tbody tr th:only-of-type {\n",
       "        vertical-align: middle;\n",
       "    }\n",
       "\n",
       "    .dataframe tbody tr th {\n",
       "        vertical-align: top;\n",
       "    }\n",
       "\n",
       "    .dataframe thead th {\n",
       "        text-align: right;\n",
       "    }\n",
       "</style>\n",
       "<table border=\"1\" class=\"dataframe\">\n",
       "  <thead>\n",
       "    <tr style=\"text-align: right;\">\n",
       "      <th></th>\n",
       "      <th>sentence</th>\n",
       "      <th>num_character_errors</th>\n",
       "      <th>num_word_errors</th>\n",
       "      <th>label</th>\n",
       "    </tr>\n",
       "  </thead>\n",
       "  <tbody>\n",
       "    <tr>\n",
       "      <th>0</th>\n",
       "      <td>The patient is a 38-year-old male who mttended...</td>\n",
       "      <td>7</td>\n",
       "      <td>1</td>\n",
       "      <td>1</td>\n",
       "    </tr>\n",
       "    <tr>\n",
       "      <th>1</th>\n",
       "      <td>.</td>\n",
       "      <td>1</td>\n",
       "      <td>0</td>\n",
       "      <td>1</td>\n",
       "    </tr>\n",
       "    <tr>\n",
       "      <th>2</th>\n",
       "      <td>The pathological antecedents include being exa...</td>\n",
       "      <td>2</td>\n",
       "      <td>0</td>\n",
       "      <td>1</td>\n",
       "    </tr>\n",
       "    <tr>\n",
       "      <th>3</th>\n",
       "      <td>Th examination revealed a rightz mandibuylar t...</td>\n",
       "      <td>7</td>\n",
       "      <td>0</td>\n",
       "      <td>1</td>\n",
       "    </tr>\n",
       "    <tr>\n",
       "      <th>4</th>\n",
       "      <td>The orthopantomography showed av mixed lesion ...</td>\n",
       "      <td>3</td>\n",
       "      <td>1</td>\n",
       "      <td>1</td>\n",
       "    </tr>\n",
       "    <tr>\n",
       "      <th>...</th>\n",
       "      <td>...</td>\n",
       "      <td>...</td>\n",
       "      <td>...</td>\n",
       "      <td>...</td>\n",
       "    </tr>\n",
       "    <tr>\n",
       "      <th>8027</th>\n",
       "      <td>tIn the denudeds area, an amniotic membrane gr...</td>\n",
       "      <td>4</td>\n",
       "      <td>0</td>\n",
       "      <td>1</td>\n",
       "    </tr>\n",
       "    <tr>\n",
       "      <th>8028</th>\n",
       "      <td>Durin follow-up there was ra progressive reepi...</td>\n",
       "      <td>7</td>\n",
       "      <td>0</td>\n",
       "      <td>1</td>\n",
       "    </tr>\n",
       "    <tr>\n",
       "      <th>8029</th>\n",
       "      <td>Three weeks after surgery theae was a regular ...</td>\n",
       "      <td>5</td>\n",
       "      <td>0</td>\n",
       "      <td>1</td>\n",
       "    </tr>\n",
       "    <tr>\n",
       "      <th>8030</th>\n",
       "      <td>The V of the left eye improved to 4/10.</td>\n",
       "      <td>1</td>\n",
       "      <td>0</td>\n",
       "      <td>1</td>\n",
       "    </tr>\n",
       "    <tr>\n",
       "      <th>8031</th>\n",
       "      <td>No recurences were obsevred after 8 months of ...</td>\n",
       "      <td>2</td>\n",
       "      <td>0</td>\n",
       "      <td>1</td>\n",
       "    </tr>\n",
       "  </tbody>\n",
       "</table>\n",
       "<p>8032 rows × 4 columns</p>\n",
       "</div>"
      ],
      "text/plain": [
       "                                               sentence  num_character_errors  \\\n",
       "0     The patient is a 38-year-old male who mttended...                     7   \n",
       "1                                                     .                     1   \n",
       "2     The pathological antecedents include being exa...                     2   \n",
       "3     Th examination revealed a rightz mandibuylar t...                     7   \n",
       "4     The orthopantomography showed av mixed lesion ...                     3   \n",
       "...                                                 ...                   ...   \n",
       "8027  tIn the denudeds area, an amniotic membrane gr...                     4   \n",
       "8028  Durin follow-up there was ra progressive reepi...                     7   \n",
       "8029  Three weeks after surgery theae was a regular ...                     5   \n",
       "8030            The V of the left eye improved to 4/10.                     1   \n",
       "8031  No recurences were obsevred after 8 months of ...                     2   \n",
       "\n",
       "      num_word_errors  label  \n",
       "0                   1      1  \n",
       "1                   0      1  \n",
       "2                   0      1  \n",
       "3                   0      1  \n",
       "4                   1      1  \n",
       "...               ...    ...  \n",
       "8027                0      1  \n",
       "8028                0      1  \n",
       "8029                0      1  \n",
       "8030                0      1  \n",
       "8031                0      1  \n",
       "\n",
       "[8032 rows x 4 columns]"
      ]
     },
     "execution_count": 12,
     "metadata": {},
     "output_type": "execute_result"
    }
   ],
   "source": [
    "corrupted_dataset"
   ]
  },
  {
   "cell_type": "markdown",
   "id": "9873e591-f7c4-4d90-95e9-dd806a4daa69",
   "metadata": {},
   "source": [
    "Explanation:\n",
    "1. Medical terms from CANTEMIST are identified and corrupted preferentially based on entity_error_prob.\n",
    "2. Non-medical words are corrupted with a lower probability other_word_prob.\n",
    "3. The output dataset (corrupted_CANTEMIST.csv) contains:\n",
    "   1. Original sentences (label = 0)\n",
    "   2. Corrupted sentences (label = 1)"
   ]
  },
  {
   "cell_type": "markdown",
   "id": "2007bba3",
   "metadata": {},
   "source": [
    "# Task 2: Training ClinicalBERT to Detect Errors\n",
    "\n",
    "Now, we’ll train ClinicalBERT on the synthetic dataset to detect transcription errors."
   ]
  },
  {
   "cell_type": "code",
   "execution_count": 13,
   "id": "ffa2bcd1",
   "metadata": {},
   "outputs": [
    {
     "data": {
      "application/vnd.jupyter.widget-view+json": {
       "model_id": "230c771e1d6c4cddb51dfa88363b71bb",
       "version_major": 2,
       "version_minor": 0
      },
      "text/plain": [
       "Generating train split: 0 examples [00:00, ? examples/s]"
      ]
     },
     "metadata": {},
     "output_type": "display_data"
    },
    {
     "name": "stdout",
     "output_type": "stream",
     "text": [
      "DatasetDict({\n",
      "    train: Dataset({\n",
      "        features: ['text_path', 'text_id', 'sentence', 'label', 'num_character_errors', 'num_word_errors'],\n",
      "        num_rows: 12851\n",
      "    })\n",
      "    test: Dataset({\n",
      "        features: ['text_path', 'text_id', 'sentence', 'label', 'num_character_errors', 'num_word_errors'],\n",
      "        num_rows: 3213\n",
      "    })\n",
      "})\n"
     ]
    }
   ],
   "source": [
    "# Load ClinicalBERT\n",
    "\n",
    "\n",
    "# Load dataset\n",
    "dataset = load_dataset(\"csv\", data_files={\"train\": PATH_DATASET_SYNTHETIC})\n",
    "dataset = dataset[\"train\"].train_test_split(test_size=0.2)\n",
    "\n",
    "print(dataset)"
   ]
  },
  {
   "cell_type": "code",
   "execution_count": null,
   "id": "baf4d4bf-42dc-4f57-9938-0c149f9f1ca5",
   "metadata": {},
   "outputs": [
    {
     "data": {
      "text/html": [
       "\n",
       "    <div>\n",
       "      \n",
       "      <progress value='100' max='4821' style='width:300px; height:20px; vertical-align: middle;'></progress>\n",
       "      [ 100/4821 00:27 < 22:22, 3.52 it/s, Epoch 0.06/3]\n",
       "    </div>\n",
       "    <table border=\"1\" class=\"dataframe\">\n",
       "  <thead>\n",
       " <tr style=\"text-align: left;\">\n",
       "      <th>Epoch</th>\n",
       "      <th>Training Loss</th>\n",
       "      <th>Validation Loss</th>\n",
       "    </tr>\n",
       "  </thead>\n",
       "  <tbody>\n",
       "  </tbody>\n",
       "</table><p>"
      ],
      "text/plain": [
       "<IPython.core.display.HTML object>"
      ]
     },
     "metadata": {},
     "output_type": "display_data"
    }
   ],
   "source": [
    "tokenized_datasets = dataset.map(BIOBERT.tokenize, batched=True)\n",
    "\n",
    "# Training settings\n",
    "training_args = TrainingArguments(\n",
    "    output_dir=\"./error_detection\",\n",
    "    evaluation_strategy=\"epoch\",\n",
    "    save_strategy=\"epoch\",\n",
    "    per_device_train_batch_size=8,\n",
    "    per_device_eval_batch_size=8,\n",
    "    num_train_epochs=3,\n",
    ")\n",
    "\n",
    "trainer = Trainer(\n",
    "    model=BIOBERT.model,\n",
    "    args=training_args,\n",
    "    train_dataset=tokenized_datasets[\"train\"],\n",
    "    eval_dataset=tokenized_datasets[\"test\"],\n",
    ")\n",
    "\n",
    "# Train model\n",
    "trainer.train()"
   ]
  },
  {
   "cell_type": "markdown",
   "id": "01842bb2-e565-4209-858e-de4b93ff2f67",
   "metadata": {},
   "source": [
    "# 3. Error Detection on New Transcriptions\n",
    "\n",
    "Once trained, ClinicalBERT can now classify new transcriptions for errors."
   ]
  },
  {
   "cell_type": "code",
   "execution_count": null,
   "id": "432d924d-df93-4e9f-801b-66311756dd52",
   "metadata": {},
   "outputs": [],
   "source": [
    "from transformers import pipeline\n",
    "\n",
    "error_detector = pipeline(\"text-classification\", model=model, tokenizer=tokenizer)\n",
    "\n",
    "test_text = \"The patient has dyspnaea and needs immdeiate attention.\"\n",
    "score = error_detector(test_text)\n",
    "print(score)  # [{'label': '1' (error), 'score': 0.95}]\n"
   ]
  },
  {
   "cell_type": "code",
   "execution_count": null,
   "id": "674a27bb-00e6-4879-9b63-7ef50e73d175",
   "metadata": {},
   "outputs": [],
   "source": [
    "test_text = \"The patient has dyspnea and needs immediate attention.\"\n",
    "score = error_detector(test_text)\n",
    "score"
   ]
  },
  {
   "cell_type": "markdown",
   "id": "fdf72f80-515f-45bf-8418-4d9651c0b42b",
   "metadata": {},
   "source": [
    "- A high probability means the model detects errors.\n",
    "- A low probability means the transcription is likely correct."
   ]
  },
  {
   "cell_type": "markdown",
   "id": "81274906-d635-486c-a3ab-1589e6285a77",
   "metadata": {},
   "source": [
    "# Next Steps\n",
    "\n",
    "1. Evaluate performance: Compute F1-score, precision, recall to ensure good error detection.\n",
    "2. Refine error generation: Introduce more realistic mistakes (homophones, phonetic errors).\n",
    "3. Fine-tune for specific error types: Add subcategories like misrecognized words vs. omitted words."
   ]
  },
  {
   "cell_type": "code",
   "execution_count": null,
   "id": "01f7a71c-56dc-4acd-bd21-cfbf2bca0b08",
   "metadata": {},
   "outputs": [],
   "source": []
  }
 ],
 "metadata": {
  "kernelspec": {
   "display_name": "adp_task",
   "language": "python",
   "name": "adp_task"
  },
  "language_info": {
   "codemirror_mode": {
    "name": "ipython",
    "version": 3
   },
   "file_extension": ".py",
   "mimetype": "text/x-python",
   "name": "python",
   "nbconvert_exporter": "python",
   "pygments_lexer": "ipython3",
   "version": "3.11.9"
  }
 },
 "nbformat": 4,
 "nbformat_minor": 5
}
