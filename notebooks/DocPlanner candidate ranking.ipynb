{
 "cells": [
  {
   "cell_type": "markdown",
   "id": "a368850d-4211-4ec4-9422-a78c8cd4465e",
   "metadata": {},
   "source": [
    "# Overview\n",
    "\n",
    "This notebok outlines \n"
   ]
  },
  {
   "cell_type": "markdown",
   "id": "12f20d86-57d8-4075-88c3-f5f86a4ce36c",
   "metadata": {},
   "source": [
    "# Install project dependencies"
   ]
  },
  {
   "cell_type": "code",
   "execution_count": 46,
   "id": "9e6e657f-ad97-4172-809b-c7cabf11cb43",
   "metadata": {
    "scrolled": true
   },
   "outputs": [
    {
     "name": "stdout",
     "output_type": "stream",
     "text": [
      "Requirement already satisfied: accelerate>=0.26.0 in /Library/Frameworks/Python.framework/Versions/3.11/lib/python3.11/site-packages (from -r ../requirements.txt (line 1)) (1.2.1)\n",
      "Requirement already satisfied: datasets==3.3.2 in /Library/Frameworks/Python.framework/Versions/3.11/lib/python3.11/site-packages (from -r ../requirements.txt (line 2)) (3.3.2)\n",
      "Requirement already satisfied: fuzzyset2==0.2.5 in /Library/Frameworks/Python.framework/Versions/3.11/lib/python3.11/site-packages (from -r ../requirements.txt (line 3)) (0.2.5)\n",
      "Requirement already satisfied: itables==2.2.4 in /Library/Frameworks/Python.framework/Versions/3.11/lib/python3.11/site-packages (from -r ../requirements.txt (line 4)) (2.2.4)\n",
      "Requirement already satisfied: jupyter==1.1.1 in /Library/Frameworks/Python.framework/Versions/3.11/lib/python3.11/site-packages (from -r ../requirements.txt (line 5)) (1.1.1)\n",
      "Requirement already satisfied: magentic==0.38.1 in /Library/Frameworks/Python.framework/Versions/3.11/lib/python3.11/site-packages (from -r ../requirements.txt (line 6)) (0.38.1)\n",
      "Requirement already satisfied: matplotlib==3.10.0 in /Library/Frameworks/Python.framework/Versions/3.11/lib/python3.11/site-packages (from -r ../requirements.txt (line 7)) (3.10.0)\n",
      "Requirement already satisfied: nltk==3.9.1 in /Library/Frameworks/Python.framework/Versions/3.11/lib/python3.11/site-packages (from -r ../requirements.txt (line 8)) (3.9.1)\n",
      "Requirement already satisfied: numpy==2.2.3 in /Library/Frameworks/Python.framework/Versions/3.11/lib/python3.11/site-packages (from -r ../requirements.txt (line 9)) (2.2.3)\n",
      "Requirement already satisfied: openpyxl==3.1.5 in /Users/jordi/Library/Python/3.11/lib/python/site-packages (from -r ../requirements.txt (line 10)) (3.1.5)\n",
      "Requirement already satisfied: pandas==2.2.3 in /Library/Frameworks/Python.framework/Versions/3.11/lib/python3.11/site-packages (from -r ../requirements.txt (line 11)) (2.2.3)\n",
      "Requirement already satisfied: protobuf==5.29.3 in /Library/Frameworks/Python.framework/Versions/3.11/lib/python3.11/site-packages (from -r ../requirements.txt (line 12)) (5.29.3)\n",
      "Requirement already satisfied: pydantic==2.10.6 in /Library/Frameworks/Python.framework/Versions/3.11/lib/python3.11/site-packages (from -r ../requirements.txt (line 13)) (2.10.6)\n",
      "Requirement already satisfied: python-dotenv==1.0.1 in /Library/Frameworks/Python.framework/Versions/3.11/lib/python3.11/site-packages (from -r ../requirements.txt (line 14)) (1.0.1)\n",
      "Requirement already satisfied: scikit-learn==1.6.1 in /Library/Frameworks/Python.framework/Versions/3.11/lib/python3.11/site-packages (from -r ../requirements.txt (line 15)) (1.6.1)\n",
      "Requirement already satisfied: seaborn==0.13.2 in /Library/Frameworks/Python.framework/Versions/3.11/lib/python3.11/site-packages (from -r ../requirements.txt (line 16)) (0.13.2)\n",
      "Requirement already satisfied: sentencepiece==0.2.0 in /Library/Frameworks/Python.framework/Versions/3.11/lib/python3.11/site-packages (from -r ../requirements.txt (line 17)) (0.2.0)\n",
      "Requirement already satisfied: sentence-transformers==3.4.1 in /Library/Frameworks/Python.framework/Versions/3.11/lib/python3.11/site-packages (from -r ../requirements.txt (line 18)) (3.4.1)\n",
      "Requirement already satisfied: skimpy==0.0.18 in /Library/Frameworks/Python.framework/Versions/3.11/lib/python3.11/site-packages (from -r ../requirements.txt (line 19)) (0.0.18)\n",
      "Requirement already satisfied: tabulate==0.9.0 in /Users/jordi/Library/Python/3.11/lib/python/site-packages (from -r ../requirements.txt (line 20)) (0.9.0)\n",
      "Requirement already satisfied: textblob==0.19.0 in /Library/Frameworks/Python.framework/Versions/3.11/lib/python3.11/site-packages (from -r ../requirements.txt (line 21)) (0.19.0)\n",
      "Requirement already satisfied: transformers==4.48.3 in /Library/Frameworks/Python.framework/Versions/3.11/lib/python3.11/site-packages (from -r ../requirements.txt (line 22)) (4.48.3)\n",
      "Requirement already satisfied: xgboost==2.1.4 in /Library/Frameworks/Python.framework/Versions/3.11/lib/python3.11/site-packages (from -r ../requirements.txt (line 23)) (2.1.4)\n",
      "Requirement already satisfied: filelock in /Library/Frameworks/Python.framework/Versions/3.11/lib/python3.11/site-packages (from datasets==3.3.2->-r ../requirements.txt (line 2)) (3.16.1)\n",
      "Requirement already satisfied: pyarrow>=15.0.0 in /Library/Frameworks/Python.framework/Versions/3.11/lib/python3.11/site-packages (from datasets==3.3.2->-r ../requirements.txt (line 2)) (18.1.0)\n",
      "Requirement already satisfied: dill<0.3.9,>=0.3.0 in /Library/Frameworks/Python.framework/Versions/3.11/lib/python3.11/site-packages (from datasets==3.3.2->-r ../requirements.txt (line 2)) (0.3.8)\n",
      "Requirement already satisfied: requests>=2.32.2 in /Library/Frameworks/Python.framework/Versions/3.11/lib/python3.11/site-packages (from datasets==3.3.2->-r ../requirements.txt (line 2)) (2.32.3)\n",
      "Requirement already satisfied: tqdm>=4.66.3 in /Library/Frameworks/Python.framework/Versions/3.11/lib/python3.11/site-packages (from datasets==3.3.2->-r ../requirements.txt (line 2)) (4.66.6)\n",
      "Requirement already satisfied: xxhash in /Library/Frameworks/Python.framework/Versions/3.11/lib/python3.11/site-packages (from datasets==3.3.2->-r ../requirements.txt (line 2)) (3.5.0)\n",
      "Requirement already satisfied: multiprocess<0.70.17 in /Library/Frameworks/Python.framework/Versions/3.11/lib/python3.11/site-packages (from datasets==3.3.2->-r ../requirements.txt (line 2)) (0.70.16)\n",
      "Requirement already satisfied: fsspec<=2024.12.0,>=2023.1.0 in /Library/Frameworks/Python.framework/Versions/3.11/lib/python3.11/site-packages (from fsspec[http]<=2024.12.0,>=2023.1.0->datasets==3.3.2->-r ../requirements.txt (line 2)) (2024.9.0)\n",
      "Requirement already satisfied: aiohttp in /Library/Frameworks/Python.framework/Versions/3.11/lib/python3.11/site-packages (from datasets==3.3.2->-r ../requirements.txt (line 2)) (3.11.11)\n",
      "Requirement already satisfied: huggingface-hub>=0.24.0 in /Library/Frameworks/Python.framework/Versions/3.11/lib/python3.11/site-packages (from datasets==3.3.2->-r ../requirements.txt (line 2)) (0.27.1)\n",
      "Requirement already satisfied: packaging in /Library/Frameworks/Python.framework/Versions/3.11/lib/python3.11/site-packages (from datasets==3.3.2->-r ../requirements.txt (line 2)) (24.2)\n",
      "Requirement already satisfied: pyyaml>=5.1 in /Library/Frameworks/Python.framework/Versions/3.11/lib/python3.11/site-packages (from datasets==3.3.2->-r ../requirements.txt (line 2)) (6.0.2)\n",
      "Requirement already satisfied: rapidfuzz>=2.0 in /Library/Frameworks/Python.framework/Versions/3.11/lib/python3.11/site-packages (from fuzzyset2==0.2.5->-r ../requirements.txt (line 3)) (3.10.1)\n",
      "Requirement already satisfied: ipython in /Library/Frameworks/Python.framework/Versions/3.11/lib/python3.11/site-packages (from itables==2.2.4->-r ../requirements.txt (line 4)) (8.29.0)\n",
      "Requirement already satisfied: notebook in /Library/Frameworks/Python.framework/Versions/3.11/lib/python3.11/site-packages (from jupyter==1.1.1->-r ../requirements.txt (line 5)) (7.2.2)\n",
      "Requirement already satisfied: jupyter-console in /Library/Frameworks/Python.framework/Versions/3.11/lib/python3.11/site-packages (from jupyter==1.1.1->-r ../requirements.txt (line 5)) (6.6.3)\n",
      "Requirement already satisfied: nbconvert in /Library/Frameworks/Python.framework/Versions/3.11/lib/python3.11/site-packages (from jupyter==1.1.1->-r ../requirements.txt (line 5)) (7.16.4)\n",
      "Requirement already satisfied: ipykernel in /Library/Frameworks/Python.framework/Versions/3.11/lib/python3.11/site-packages (from jupyter==1.1.1->-r ../requirements.txt (line 5)) (6.29.5)\n",
      "Requirement already satisfied: ipywidgets in /Library/Frameworks/Python.framework/Versions/3.11/lib/python3.11/site-packages (from jupyter==1.1.1->-r ../requirements.txt (line 5)) (8.1.5)\n",
      "Requirement already satisfied: jupyterlab in /Library/Frameworks/Python.framework/Versions/3.11/lib/python3.11/site-packages (from jupyter==1.1.1->-r ../requirements.txt (line 5)) (4.2.6)\n",
      "Requirement already satisfied: filetype>=1.2.0 in /Library/Frameworks/Python.framework/Versions/3.11/lib/python3.11/site-packages (from magentic==0.38.1->-r ../requirements.txt (line 6)) (1.2.0)\n",
      "Requirement already satisfied: logfire-api>=0.1.0 in /Library/Frameworks/Python.framework/Versions/3.11/lib/python3.11/site-packages (from magentic==0.38.1->-r ../requirements.txt (line 6)) (3.6.2)\n",
      "Requirement already satisfied: openai>=1.56.0 in /Library/Frameworks/Python.framework/Versions/3.11/lib/python3.11/site-packages (from magentic==0.38.1->-r ../requirements.txt (line 6)) (1.60.1)\n",
      "Requirement already satisfied: pydantic-settings>=2.0.0 in /Library/Frameworks/Python.framework/Versions/3.11/lib/python3.11/site-packages (from magentic==0.38.1->-r ../requirements.txt (line 6)) (2.8.0)\n",
      "Requirement already satisfied: typing-extensions>=4.5.0 in /Library/Frameworks/Python.framework/Versions/3.11/lib/python3.11/site-packages (from magentic==0.38.1->-r ../requirements.txt (line 6)) (4.12.2)\n",
      "Requirement already satisfied: contourpy>=1.0.1 in /Library/Frameworks/Python.framework/Versions/3.11/lib/python3.11/site-packages (from matplotlib==3.10.0->-r ../requirements.txt (line 7)) (1.3.1)\n",
      "Requirement already satisfied: cycler>=0.10 in /Library/Frameworks/Python.framework/Versions/3.11/lib/python3.11/site-packages (from matplotlib==3.10.0->-r ../requirements.txt (line 7)) (0.12.1)\n",
      "Requirement already satisfied: fonttools>=4.22.0 in /Library/Frameworks/Python.framework/Versions/3.11/lib/python3.11/site-packages (from matplotlib==3.10.0->-r ../requirements.txt (line 7)) (4.55.3)\n",
      "Requirement already satisfied: kiwisolver>=1.3.1 in /Library/Frameworks/Python.framework/Versions/3.11/lib/python3.11/site-packages (from matplotlib==3.10.0->-r ../requirements.txt (line 7)) (1.4.8)\n",
      "Requirement already satisfied: pillow>=8 in /Library/Frameworks/Python.framework/Versions/3.11/lib/python3.11/site-packages (from matplotlib==3.10.0->-r ../requirements.txt (line 7)) (10.4.0)\n",
      "Requirement already satisfied: pyparsing>=2.3.1 in /Library/Frameworks/Python.framework/Versions/3.11/lib/python3.11/site-packages (from matplotlib==3.10.0->-r ../requirements.txt (line 7)) (3.2.1)\n",
      "Requirement already satisfied: python-dateutil>=2.7 in /Library/Frameworks/Python.framework/Versions/3.11/lib/python3.11/site-packages (from matplotlib==3.10.0->-r ../requirements.txt (line 7)) (2.9.0.post0)\n",
      "Requirement already satisfied: click in /Library/Frameworks/Python.framework/Versions/3.11/lib/python3.11/site-packages (from nltk==3.9.1->-r ../requirements.txt (line 8)) (8.1.7)\n",
      "Requirement already satisfied: joblib in /Library/Frameworks/Python.framework/Versions/3.11/lib/python3.11/site-packages (from nltk==3.9.1->-r ../requirements.txt (line 8)) (1.4.2)\n",
      "Requirement already satisfied: regex>=2021.8.3 in /Library/Frameworks/Python.framework/Versions/3.11/lib/python3.11/site-packages (from nltk==3.9.1->-r ../requirements.txt (line 8)) (2024.9.11)\n",
      "Requirement already satisfied: et-xmlfile in /Users/jordi/Library/Python/3.11/lib/python/site-packages (from openpyxl==3.1.5->-r ../requirements.txt (line 10)) (2.0.0)\n",
      "Requirement already satisfied: pytz>=2020.1 in /Library/Frameworks/Python.framework/Versions/3.11/lib/python3.11/site-packages (from pandas==2.2.3->-r ../requirements.txt (line 11)) (2024.2)\n",
      "Requirement already satisfied: tzdata>=2022.7 in /Library/Frameworks/Python.framework/Versions/3.11/lib/python3.11/site-packages (from pandas==2.2.3->-r ../requirements.txt (line 11)) (2024.2)\n",
      "Requirement already satisfied: annotated-types>=0.6.0 in /Library/Frameworks/Python.framework/Versions/3.11/lib/python3.11/site-packages (from pydantic==2.10.6->-r ../requirements.txt (line 13)) (0.7.0)\n",
      "Requirement already satisfied: pydantic-core==2.27.2 in /Library/Frameworks/Python.framework/Versions/3.11/lib/python3.11/site-packages (from pydantic==2.10.6->-r ../requirements.txt (line 13)) (2.27.2)\n",
      "Requirement already satisfied: scipy>=1.6.0 in /Library/Frameworks/Python.framework/Versions/3.11/lib/python3.11/site-packages (from scikit-learn==1.6.1->-r ../requirements.txt (line 15)) (1.14.1)\n",
      "Requirement already satisfied: threadpoolctl>=3.1.0 in /Library/Frameworks/Python.framework/Versions/3.11/lib/python3.11/site-packages (from scikit-learn==1.6.1->-r ../requirements.txt (line 15)) (3.5.0)\n",
      "Requirement already satisfied: torch>=1.11.0 in /Library/Frameworks/Python.framework/Versions/3.11/lib/python3.11/site-packages (from sentence-transformers==3.4.1->-r ../requirements.txt (line 18)) (2.5.1)\n",
      "Requirement already satisfied: pandas-stubs>=2.2.2.240807 in /Library/Frameworks/Python.framework/Versions/3.11/lib/python3.11/site-packages (from skimpy==0.0.18->-r ../requirements.txt (line 19)) (2.2.3.241126)\n",
      "Requirement already satisfied: polars>=1.17.1 in /Library/Frameworks/Python.framework/Versions/3.11/lib/python3.11/site-packages (from skimpy==0.0.18->-r ../requirements.txt (line 19)) (1.23.0)\n",
      "Requirement already satisfied: pygments>=2.18.0 in /Library/Frameworks/Python.framework/Versions/3.11/lib/python3.11/site-packages (from skimpy==0.0.18->-r ../requirements.txt (line 19)) (2.18.0)\n",
      "Requirement already satisfied: rich>=13.9.4 in /Library/Frameworks/Python.framework/Versions/3.11/lib/python3.11/site-packages (from skimpy==0.0.18->-r ../requirements.txt (line 19)) (13.9.4)\n",
      "Requirement already satisfied: typeguard>=4.4.1 in /Library/Frameworks/Python.framework/Versions/3.11/lib/python3.11/site-packages (from skimpy==0.0.18->-r ../requirements.txt (line 19)) (4.4.2)\n",
      "Requirement already satisfied: tokenizers<0.22,>=0.21 in /Library/Frameworks/Python.framework/Versions/3.11/lib/python3.11/site-packages (from transformers==4.48.3->-r ../requirements.txt (line 22)) (0.21.0)\n",
      "Requirement already satisfied: safetensors>=0.4.1 in /Library/Frameworks/Python.framework/Versions/3.11/lib/python3.11/site-packages (from transformers==4.48.3->-r ../requirements.txt (line 22)) (0.5.2)\n",
      "Requirement already satisfied: psutil in /Library/Frameworks/Python.framework/Versions/3.11/lib/python3.11/site-packages (from accelerate>=0.26.0->-r ../requirements.txt (line 1)) (6.1.1)\n",
      "Requirement already satisfied: aiohappyeyeballs>=2.3.0 in /Library/Frameworks/Python.framework/Versions/3.11/lib/python3.11/site-packages (from aiohttp->datasets==3.3.2->-r ../requirements.txt (line 2)) (2.4.4)\n",
      "Requirement already satisfied: aiosignal>=1.1.2 in /Library/Frameworks/Python.framework/Versions/3.11/lib/python3.11/site-packages (from aiohttp->datasets==3.3.2->-r ../requirements.txt (line 2)) (1.3.2)\n",
      "Requirement already satisfied: attrs>=17.3.0 in /Library/Frameworks/Python.framework/Versions/3.11/lib/python3.11/site-packages (from aiohttp->datasets==3.3.2->-r ../requirements.txt (line 2)) (24.2.0)\n",
      "Requirement already satisfied: frozenlist>=1.1.1 in /Library/Frameworks/Python.framework/Versions/3.11/lib/python3.11/site-packages (from aiohttp->datasets==3.3.2->-r ../requirements.txt (line 2)) (1.5.0)\n",
      "Requirement already satisfied: multidict<7.0,>=4.5 in /Library/Frameworks/Python.framework/Versions/3.11/lib/python3.11/site-packages (from aiohttp->datasets==3.3.2->-r ../requirements.txt (line 2)) (6.1.0)\n",
      "Requirement already satisfied: propcache>=0.2.0 in /Library/Frameworks/Python.framework/Versions/3.11/lib/python3.11/site-packages (from aiohttp->datasets==3.3.2->-r ../requirements.txt (line 2)) (0.2.1)\n",
      "Requirement already satisfied: yarl<2.0,>=1.17.0 in /Library/Frameworks/Python.framework/Versions/3.11/lib/python3.11/site-packages (from aiohttp->datasets==3.3.2->-r ../requirements.txt (line 2)) (1.18.3)\n",
      "Requirement already satisfied: appnope in /Library/Frameworks/Python.framework/Versions/3.11/lib/python3.11/site-packages (from ipykernel->jupyter==1.1.1->-r ../requirements.txt (line 5)) (0.1.4)\n",
      "Requirement already satisfied: comm>=0.1.1 in /Library/Frameworks/Python.framework/Versions/3.11/lib/python3.11/site-packages (from ipykernel->jupyter==1.1.1->-r ../requirements.txt (line 5)) (0.2.2)\n",
      "Requirement already satisfied: debugpy>=1.6.5 in /Library/Frameworks/Python.framework/Versions/3.11/lib/python3.11/site-packages (from ipykernel->jupyter==1.1.1->-r ../requirements.txt (line 5)) (1.8.9)\n",
      "Requirement already satisfied: jupyter-client>=6.1.12 in /Library/Frameworks/Python.framework/Versions/3.11/lib/python3.11/site-packages (from ipykernel->jupyter==1.1.1->-r ../requirements.txt (line 5)) (8.6.3)\n",
      "Requirement already satisfied: jupyter-core!=5.0.*,>=4.12 in /Library/Frameworks/Python.framework/Versions/3.11/lib/python3.11/site-packages (from ipykernel->jupyter==1.1.1->-r ../requirements.txt (line 5)) (5.7.2)\n",
      "Requirement already satisfied: matplotlib-inline>=0.1 in /Library/Frameworks/Python.framework/Versions/3.11/lib/python3.11/site-packages (from ipykernel->jupyter==1.1.1->-r ../requirements.txt (line 5)) (0.1.7)\n",
      "Requirement already satisfied: nest-asyncio in /Library/Frameworks/Python.framework/Versions/3.11/lib/python3.11/site-packages (from ipykernel->jupyter==1.1.1->-r ../requirements.txt (line 5)) (1.6.0)\n",
      "Requirement already satisfied: pyzmq>=24 in /Library/Frameworks/Python.framework/Versions/3.11/lib/python3.11/site-packages (from ipykernel->jupyter==1.1.1->-r ../requirements.txt (line 5)) (26.2.0)\n",
      "Requirement already satisfied: tornado>=6.1 in /Library/Frameworks/Python.framework/Versions/3.11/lib/python3.11/site-packages (from ipykernel->jupyter==1.1.1->-r ../requirements.txt (line 5)) (6.4.2)\n",
      "Requirement already satisfied: traitlets>=5.4.0 in /Library/Frameworks/Python.framework/Versions/3.11/lib/python3.11/site-packages (from ipykernel->jupyter==1.1.1->-r ../requirements.txt (line 5)) (5.14.3)\n",
      "Requirement already satisfied: decorator in /Library/Frameworks/Python.framework/Versions/3.11/lib/python3.11/site-packages (from ipython->itables==2.2.4->-r ../requirements.txt (line 4)) (5.1.1)\n",
      "Requirement already satisfied: jedi>=0.16 in /Library/Frameworks/Python.framework/Versions/3.11/lib/python3.11/site-packages (from ipython->itables==2.2.4->-r ../requirements.txt (line 4)) (0.19.2)\n",
      "Requirement already satisfied: prompt-toolkit<3.1.0,>=3.0.41 in /Library/Frameworks/Python.framework/Versions/3.11/lib/python3.11/site-packages (from ipython->itables==2.2.4->-r ../requirements.txt (line 4)) (3.0.48)\n",
      "Requirement already satisfied: stack-data in /Library/Frameworks/Python.framework/Versions/3.11/lib/python3.11/site-packages (from ipython->itables==2.2.4->-r ../requirements.txt (line 4)) (0.6.3)\n",
      "Requirement already satisfied: pexpect>4.3 in /Library/Frameworks/Python.framework/Versions/3.11/lib/python3.11/site-packages (from ipython->itables==2.2.4->-r ../requirements.txt (line 4)) (4.9.0)\n",
      "Requirement already satisfied: anyio<5,>=3.5.0 in /Library/Frameworks/Python.framework/Versions/3.11/lib/python3.11/site-packages (from openai>=1.56.0->magentic==0.38.1->-r ../requirements.txt (line 6)) (4.6.2.post1)\n",
      "Requirement already satisfied: distro<2,>=1.7.0 in /Library/Frameworks/Python.framework/Versions/3.11/lib/python3.11/site-packages (from openai>=1.56.0->magentic==0.38.1->-r ../requirements.txt (line 6)) (1.9.0)\n",
      "Requirement already satisfied: httpx<1,>=0.23.0 in /Library/Frameworks/Python.framework/Versions/3.11/lib/python3.11/site-packages (from openai>=1.56.0->magentic==0.38.1->-r ../requirements.txt (line 6)) (0.27.2)\n",
      "Requirement already satisfied: jiter<1,>=0.4.0 in /Library/Frameworks/Python.framework/Versions/3.11/lib/python3.11/site-packages (from openai>=1.56.0->magentic==0.38.1->-r ../requirements.txt (line 6)) (0.8.2)\n",
      "Requirement already satisfied: sniffio in /Library/Frameworks/Python.framework/Versions/3.11/lib/python3.11/site-packages (from openai>=1.56.0->magentic==0.38.1->-r ../requirements.txt (line 6)) (1.3.1)\n",
      "Requirement already satisfied: types-pytz>=2022.1.1 in /Library/Frameworks/Python.framework/Versions/3.11/lib/python3.11/site-packages (from pandas-stubs>=2.2.2.240807->skimpy==0.0.18->-r ../requirements.txt (line 19)) (2025.1.0.20250204)\n",
      "Requirement already satisfied: six>=1.5 in /Library/Frameworks/Python.framework/Versions/3.11/lib/python3.11/site-packages (from python-dateutil>=2.7->matplotlib==3.10.0->-r ../requirements.txt (line 7)) (1.16.0)\n",
      "Requirement already satisfied: charset-normalizer<4,>=2 in /Library/Frameworks/Python.framework/Versions/3.11/lib/python3.11/site-packages (from requests>=2.32.2->datasets==3.3.2->-r ../requirements.txt (line 2)) (3.4.0)\n",
      "Requirement already satisfied: idna<4,>=2.5 in /Library/Frameworks/Python.framework/Versions/3.11/lib/python3.11/site-packages (from requests>=2.32.2->datasets==3.3.2->-r ../requirements.txt (line 2)) (3.10)\n",
      "Requirement already satisfied: urllib3<3,>=1.21.1 in /Library/Frameworks/Python.framework/Versions/3.11/lib/python3.11/site-packages (from requests>=2.32.2->datasets==3.3.2->-r ../requirements.txt (line 2)) (2.2.3)\n",
      "Requirement already satisfied: certifi>=2017.4.17 in /Library/Frameworks/Python.framework/Versions/3.11/lib/python3.11/site-packages (from requests>=2.32.2->datasets==3.3.2->-r ../requirements.txt (line 2)) (2024.8.30)\n",
      "Requirement already satisfied: markdown-it-py>=2.2.0 in /Library/Frameworks/Python.framework/Versions/3.11/lib/python3.11/site-packages (from rich>=13.9.4->skimpy==0.0.18->-r ../requirements.txt (line 19)) (3.0.0)\n",
      "Requirement already satisfied: networkx in /Library/Frameworks/Python.framework/Versions/3.11/lib/python3.11/site-packages (from torch>=1.11.0->sentence-transformers==3.4.1->-r ../requirements.txt (line 18)) (3.4.2)\n",
      "Requirement already satisfied: jinja2 in /Library/Frameworks/Python.framework/Versions/3.11/lib/python3.11/site-packages (from torch>=1.11.0->sentence-transformers==3.4.1->-r ../requirements.txt (line 18)) (3.1.4)\n",
      "Requirement already satisfied: sympy==1.13.1 in /Library/Frameworks/Python.framework/Versions/3.11/lib/python3.11/site-packages (from torch>=1.11.0->sentence-transformers==3.4.1->-r ../requirements.txt (line 18)) (1.13.1)\n",
      "Requirement already satisfied: mpmath<1.4,>=1.1.0 in /Library/Frameworks/Python.framework/Versions/3.11/lib/python3.11/site-packages (from sympy==1.13.1->torch>=1.11.0->sentence-transformers==3.4.1->-r ../requirements.txt (line 18)) (1.3.0)\n",
      "Requirement already satisfied: widgetsnbextension~=4.0.12 in /Library/Frameworks/Python.framework/Versions/3.11/lib/python3.11/site-packages (from ipywidgets->jupyter==1.1.1->-r ../requirements.txt (line 5)) (4.0.13)\n",
      "Requirement already satisfied: jupyterlab-widgets~=3.0.12 in /Library/Frameworks/Python.framework/Versions/3.11/lib/python3.11/site-packages (from ipywidgets->jupyter==1.1.1->-r ../requirements.txt (line 5)) (3.0.13)\n",
      "Requirement already satisfied: async-lru>=1.0.0 in /Library/Frameworks/Python.framework/Versions/3.11/lib/python3.11/site-packages (from jupyterlab->jupyter==1.1.1->-r ../requirements.txt (line 5)) (2.0.4)\n",
      "Requirement already satisfied: jupyter-lsp>=2.0.0 in /Library/Frameworks/Python.framework/Versions/3.11/lib/python3.11/site-packages (from jupyterlab->jupyter==1.1.1->-r ../requirements.txt (line 5)) (2.2.5)\n",
      "Requirement already satisfied: jupyter-server<3,>=2.4.0 in /Library/Frameworks/Python.framework/Versions/3.11/lib/python3.11/site-packages (from jupyterlab->jupyter==1.1.1->-r ../requirements.txt (line 5)) (2.14.2)\n",
      "Requirement already satisfied: jupyterlab-server<3,>=2.27.1 in /Library/Frameworks/Python.framework/Versions/3.11/lib/python3.11/site-packages (from jupyterlab->jupyter==1.1.1->-r ../requirements.txt (line 5)) (2.27.3)\n",
      "Requirement already satisfied: notebook-shim>=0.2 in /Library/Frameworks/Python.framework/Versions/3.11/lib/python3.11/site-packages (from jupyterlab->jupyter==1.1.1->-r ../requirements.txt (line 5)) (0.2.4)\n",
      "Requirement already satisfied: setuptools>=40.1.0 in /Library/Frameworks/Python.framework/Versions/3.11/lib/python3.11/site-packages (from jupyterlab->jupyter==1.1.1->-r ../requirements.txt (line 5)) (65.5.0)\n",
      "Requirement already satisfied: beautifulsoup4 in /Library/Frameworks/Python.framework/Versions/3.11/lib/python3.11/site-packages (from nbconvert->jupyter==1.1.1->-r ../requirements.txt (line 5)) (4.12.3)\n",
      "Requirement already satisfied: bleach!=5.0.0 in /Library/Frameworks/Python.framework/Versions/3.11/lib/python3.11/site-packages (from nbconvert->jupyter==1.1.1->-r ../requirements.txt (line 5)) (6.2.0)\n",
      "Requirement already satisfied: defusedxml in /Library/Frameworks/Python.framework/Versions/3.11/lib/python3.11/site-packages (from nbconvert->jupyter==1.1.1->-r ../requirements.txt (line 5)) (0.7.1)\n",
      "Requirement already satisfied: jupyterlab-pygments in /Library/Frameworks/Python.framework/Versions/3.11/lib/python3.11/site-packages (from nbconvert->jupyter==1.1.1->-r ../requirements.txt (line 5)) (0.3.0)\n",
      "Requirement already satisfied: markupsafe>=2.0 in /Library/Frameworks/Python.framework/Versions/3.11/lib/python3.11/site-packages (from nbconvert->jupyter==1.1.1->-r ../requirements.txt (line 5)) (3.0.2)\n",
      "Requirement already satisfied: mistune<4,>=2.0.3 in /Library/Frameworks/Python.framework/Versions/3.11/lib/python3.11/site-packages (from nbconvert->jupyter==1.1.1->-r ../requirements.txt (line 5)) (3.0.2)\n",
      "Requirement already satisfied: nbclient>=0.5.0 in /Library/Frameworks/Python.framework/Versions/3.11/lib/python3.11/site-packages (from nbconvert->jupyter==1.1.1->-r ../requirements.txt (line 5)) (0.10.0)\n",
      "Requirement already satisfied: nbformat>=5.7 in /Library/Frameworks/Python.framework/Versions/3.11/lib/python3.11/site-packages (from nbconvert->jupyter==1.1.1->-r ../requirements.txt (line 5)) (5.10.4)\n",
      "Requirement already satisfied: pandocfilters>=1.4.1 in /Library/Frameworks/Python.framework/Versions/3.11/lib/python3.11/site-packages (from nbconvert->jupyter==1.1.1->-r ../requirements.txt (line 5)) (1.5.1)\n",
      "Requirement already satisfied: tinycss2 in /Library/Frameworks/Python.framework/Versions/3.11/lib/python3.11/site-packages (from nbconvert->jupyter==1.1.1->-r ../requirements.txt (line 5)) (1.4.0)\n",
      "Requirement already satisfied: webencodings in /Library/Frameworks/Python.framework/Versions/3.11/lib/python3.11/site-packages (from bleach!=5.0.0->nbconvert->jupyter==1.1.1->-r ../requirements.txt (line 5)) (0.5.1)\n",
      "Requirement already satisfied: httpcore==1.* in /Library/Frameworks/Python.framework/Versions/3.11/lib/python3.11/site-packages (from httpx<1,>=0.23.0->openai>=1.56.0->magentic==0.38.1->-r ../requirements.txt (line 6)) (1.0.7)\n",
      "Requirement already satisfied: h11<0.15,>=0.13 in /Library/Frameworks/Python.framework/Versions/3.11/lib/python3.11/site-packages (from httpcore==1.*->httpx<1,>=0.23.0->openai>=1.56.0->magentic==0.38.1->-r ../requirements.txt (line 6)) (0.14.0)\n",
      "Requirement already satisfied: parso<0.9.0,>=0.8.4 in /Library/Frameworks/Python.framework/Versions/3.11/lib/python3.11/site-packages (from jedi>=0.16->ipython->itables==2.2.4->-r ../requirements.txt (line 4)) (0.8.4)\n",
      "Requirement already satisfied: platformdirs>=2.5 in /Library/Frameworks/Python.framework/Versions/3.11/lib/python3.11/site-packages (from jupyter-core!=5.0.*,>=4.12->ipykernel->jupyter==1.1.1->-r ../requirements.txt (line 5)) (4.3.6)\n",
      "Requirement already satisfied: argon2-cffi>=21.1 in /Library/Frameworks/Python.framework/Versions/3.11/lib/python3.11/site-packages (from jupyter-server<3,>=2.4.0->jupyterlab->jupyter==1.1.1->-r ../requirements.txt (line 5)) (23.1.0)\n",
      "Requirement already satisfied: jupyter-events>=0.9.0 in /Library/Frameworks/Python.framework/Versions/3.11/lib/python3.11/site-packages (from jupyter-server<3,>=2.4.0->jupyterlab->jupyter==1.1.1->-r ../requirements.txt (line 5)) (0.10.0)\n",
      "Requirement already satisfied: jupyter-server-terminals>=0.4.4 in /Library/Frameworks/Python.framework/Versions/3.11/lib/python3.11/site-packages (from jupyter-server<3,>=2.4.0->jupyterlab->jupyter==1.1.1->-r ../requirements.txt (line 5)) (0.5.3)\n",
      "Requirement already satisfied: overrides>=5.0 in /Library/Frameworks/Python.framework/Versions/3.11/lib/python3.11/site-packages (from jupyter-server<3,>=2.4.0->jupyterlab->jupyter==1.1.1->-r ../requirements.txt (line 5)) (7.7.0)\n",
      "Requirement already satisfied: prometheus-client>=0.9 in /Library/Frameworks/Python.framework/Versions/3.11/lib/python3.11/site-packages (from jupyter-server<3,>=2.4.0->jupyterlab->jupyter==1.1.1->-r ../requirements.txt (line 5)) (0.21.0)\n",
      "Requirement already satisfied: send2trash>=1.8.2 in /Library/Frameworks/Python.framework/Versions/3.11/lib/python3.11/site-packages (from jupyter-server<3,>=2.4.0->jupyterlab->jupyter==1.1.1->-r ../requirements.txt (line 5)) (1.8.3)\n",
      "Requirement already satisfied: terminado>=0.8.3 in /Library/Frameworks/Python.framework/Versions/3.11/lib/python3.11/site-packages (from jupyter-server<3,>=2.4.0->jupyterlab->jupyter==1.1.1->-r ../requirements.txt (line 5)) (0.18.1)\n",
      "Requirement already satisfied: websocket-client>=1.7 in /Library/Frameworks/Python.framework/Versions/3.11/lib/python3.11/site-packages (from jupyter-server<3,>=2.4.0->jupyterlab->jupyter==1.1.1->-r ../requirements.txt (line 5)) (1.8.0)\n",
      "Requirement already satisfied: babel>=2.10 in /Library/Frameworks/Python.framework/Versions/3.11/lib/python3.11/site-packages (from jupyterlab-server<3,>=2.27.1->jupyterlab->jupyter==1.1.1->-r ../requirements.txt (line 5)) (2.16.0)\n",
      "Requirement already satisfied: json5>=0.9.0 in /Library/Frameworks/Python.framework/Versions/3.11/lib/python3.11/site-packages (from jupyterlab-server<3,>=2.27.1->jupyterlab->jupyter==1.1.1->-r ../requirements.txt (line 5)) (0.9.28)\n",
      "Requirement already satisfied: jsonschema>=4.18.0 in /Library/Frameworks/Python.framework/Versions/3.11/lib/python3.11/site-packages (from jupyterlab-server<3,>=2.27.1->jupyterlab->jupyter==1.1.1->-r ../requirements.txt (line 5)) (4.23.0)\n",
      "Requirement already satisfied: mdurl~=0.1 in /Library/Frameworks/Python.framework/Versions/3.11/lib/python3.11/site-packages (from markdown-it-py>=2.2.0->rich>=13.9.4->skimpy==0.0.18->-r ../requirements.txt (line 19)) (0.1.2)\n",
      "Requirement already satisfied: fastjsonschema>=2.15 in /Library/Frameworks/Python.framework/Versions/3.11/lib/python3.11/site-packages (from nbformat>=5.7->nbconvert->jupyter==1.1.1->-r ../requirements.txt (line 5)) (2.20.0)\n",
      "Requirement already satisfied: ptyprocess>=0.5 in /Library/Frameworks/Python.framework/Versions/3.11/lib/python3.11/site-packages (from pexpect>4.3->ipython->itables==2.2.4->-r ../requirements.txt (line 4)) (0.7.0)\n",
      "Requirement already satisfied: wcwidth in /Library/Frameworks/Python.framework/Versions/3.11/lib/python3.11/site-packages (from prompt-toolkit<3.1.0,>=3.0.41->ipython->itables==2.2.4->-r ../requirements.txt (line 4)) (0.2.13)\n",
      "Requirement already satisfied: soupsieve>1.2 in /Library/Frameworks/Python.framework/Versions/3.11/lib/python3.11/site-packages (from beautifulsoup4->nbconvert->jupyter==1.1.1->-r ../requirements.txt (line 5)) (2.6)\n",
      "Requirement already satisfied: executing>=1.2.0 in /Library/Frameworks/Python.framework/Versions/3.11/lib/python3.11/site-packages (from stack-data->ipython->itables==2.2.4->-r ../requirements.txt (line 4)) (2.1.0)\n",
      "Requirement already satisfied: asttokens>=2.1.0 in /Library/Frameworks/Python.framework/Versions/3.11/lib/python3.11/site-packages (from stack-data->ipython->itables==2.2.4->-r ../requirements.txt (line 4)) (2.4.1)\n",
      "Requirement already satisfied: pure-eval in /Library/Frameworks/Python.framework/Versions/3.11/lib/python3.11/site-packages (from stack-data->ipython->itables==2.2.4->-r ../requirements.txt (line 4)) (0.2.3)\n",
      "Requirement already satisfied: argon2-cffi-bindings in /Library/Frameworks/Python.framework/Versions/3.11/lib/python3.11/site-packages (from argon2-cffi>=21.1->jupyter-server<3,>=2.4.0->jupyterlab->jupyter==1.1.1->-r ../requirements.txt (line 5)) (21.2.0)\n",
      "Requirement already satisfied: jsonschema-specifications>=2023.03.6 in /Library/Frameworks/Python.framework/Versions/3.11/lib/python3.11/site-packages (from jsonschema>=4.18.0->jupyterlab-server<3,>=2.27.1->jupyterlab->jupyter==1.1.1->-r ../requirements.txt (line 5)) (2024.10.1)\n",
      "Requirement already satisfied: referencing>=0.28.4 in /Library/Frameworks/Python.framework/Versions/3.11/lib/python3.11/site-packages (from jsonschema>=4.18.0->jupyterlab-server<3,>=2.27.1->jupyterlab->jupyter==1.1.1->-r ../requirements.txt (line 5)) (0.35.1)\n",
      "Requirement already satisfied: rpds-py>=0.7.1 in /Library/Frameworks/Python.framework/Versions/3.11/lib/python3.11/site-packages (from jsonschema>=4.18.0->jupyterlab-server<3,>=2.27.1->jupyterlab->jupyter==1.1.1->-r ../requirements.txt (line 5)) (0.21.0)\n",
      "Requirement already satisfied: python-json-logger>=2.0.4 in /Library/Frameworks/Python.framework/Versions/3.11/lib/python3.11/site-packages (from jupyter-events>=0.9.0->jupyter-server<3,>=2.4.0->jupyterlab->jupyter==1.1.1->-r ../requirements.txt (line 5)) (2.0.7)\n",
      "Requirement already satisfied: rfc3339-validator in /Library/Frameworks/Python.framework/Versions/3.11/lib/python3.11/site-packages (from jupyter-events>=0.9.0->jupyter-server<3,>=2.4.0->jupyterlab->jupyter==1.1.1->-r ../requirements.txt (line 5)) (0.1.4)\n",
      "Requirement already satisfied: rfc3986-validator>=0.1.1 in /Library/Frameworks/Python.framework/Versions/3.11/lib/python3.11/site-packages (from jupyter-events>=0.9.0->jupyter-server<3,>=2.4.0->jupyterlab->jupyter==1.1.1->-r ../requirements.txt (line 5)) (0.1.1)\n",
      "Requirement already satisfied: fqdn in /Library/Frameworks/Python.framework/Versions/3.11/lib/python3.11/site-packages (from jsonschema[format-nongpl]>=4.18.0->jupyter-events>=0.9.0->jupyter-server<3,>=2.4.0->jupyterlab->jupyter==1.1.1->-r ../requirements.txt (line 5)) (1.5.1)\n",
      "Requirement already satisfied: isoduration in /Library/Frameworks/Python.framework/Versions/3.11/lib/python3.11/site-packages (from jsonschema[format-nongpl]>=4.18.0->jupyter-events>=0.9.0->jupyter-server<3,>=2.4.0->jupyterlab->jupyter==1.1.1->-r ../requirements.txt (line 5)) (20.11.0)\n",
      "Requirement already satisfied: jsonpointer>1.13 in /Library/Frameworks/Python.framework/Versions/3.11/lib/python3.11/site-packages (from jsonschema[format-nongpl]>=4.18.0->jupyter-events>=0.9.0->jupyter-server<3,>=2.4.0->jupyterlab->jupyter==1.1.1->-r ../requirements.txt (line 5)) (3.0.0)\n",
      "Requirement already satisfied: uri-template in /Library/Frameworks/Python.framework/Versions/3.11/lib/python3.11/site-packages (from jsonschema[format-nongpl]>=4.18.0->jupyter-events>=0.9.0->jupyter-server<3,>=2.4.0->jupyterlab->jupyter==1.1.1->-r ../requirements.txt (line 5)) (1.3.0)\n",
      "Requirement already satisfied: webcolors>=24.6.0 in /Library/Frameworks/Python.framework/Versions/3.11/lib/python3.11/site-packages (from jsonschema[format-nongpl]>=4.18.0->jupyter-events>=0.9.0->jupyter-server<3,>=2.4.0->jupyterlab->jupyter==1.1.1->-r ../requirements.txt (line 5)) (24.11.1)\n",
      "Requirement already satisfied: cffi>=1.0.1 in /Library/Frameworks/Python.framework/Versions/3.11/lib/python3.11/site-packages (from argon2-cffi-bindings->argon2-cffi>=21.1->jupyter-server<3,>=2.4.0->jupyterlab->jupyter==1.1.1->-r ../requirements.txt (line 5)) (1.17.1)\n",
      "Requirement already satisfied: pycparser in /Library/Frameworks/Python.framework/Versions/3.11/lib/python3.11/site-packages (from cffi>=1.0.1->argon2-cffi-bindings->argon2-cffi>=21.1->jupyter-server<3,>=2.4.0->jupyterlab->jupyter==1.1.1->-r ../requirements.txt (line 5)) (2.22)\n",
      "Requirement already satisfied: arrow>=0.15.0 in /Library/Frameworks/Python.framework/Versions/3.11/lib/python3.11/site-packages (from isoduration->jsonschema[format-nongpl]>=4.18.0->jupyter-events>=0.9.0->jupyter-server<3,>=2.4.0->jupyterlab->jupyter==1.1.1->-r ../requirements.txt (line 5)) (1.3.0)\n",
      "Requirement already satisfied: types-python-dateutil>=2.8.10 in /Library/Frameworks/Python.framework/Versions/3.11/lib/python3.11/site-packages (from arrow>=0.15.0->isoduration->jsonschema[format-nongpl]>=4.18.0->jupyter-events>=0.9.0->jupyter-server<3,>=2.4.0->jupyterlab->jupyter==1.1.1->-r ../requirements.txt (line 5)) (2.9.0.20241003)\n"
     ]
    }
   ],
   "source": [
    "!pip install -r ../requirements.txt"
   ]
  },
  {
   "cell_type": "markdown",
   "id": "2ac40e4e-5f1c-44b5-a9e6-a54cd4928715",
   "metadata": {},
   "source": [
    "# Define project dependencies"
   ]
  },
  {
   "cell_type": "code",
   "execution_count": 47,
   "id": "2ed6528c-dc4b-4abf-82d1-7d6a2bdd76f5",
   "metadata": {},
   "outputs": [
    {
     "name": "stdout",
     "output_type": "stream",
     "text": [
      "The autoreload extension is already loaded. To reload it, use:\n",
      "  %reload_ext autoreload\n"
     ]
    }
   ],
   "source": [
    "%load_ext autoreload"
   ]
  },
  {
   "cell_type": "code",
   "execution_count": 48,
   "id": "69e48008-3832-4b04-9ff5-89315152848c",
   "metadata": {},
   "outputs": [
    {
     "name": "stdout",
     "output_type": "stream",
     "text": [
      "/Users/jordi/Documents/Profesional/Búsqueda de Trabajo/Barcelona 2024/DocPlanner/candidate_ranking\n"
     ]
    },
    {
     "name": "stderr",
     "output_type": "stream",
     "text": [
      "100%|█████████████████████████████████████████████████████████████████████████████| 500/500 [00:00<00:00, 4444.88it/s]\n",
      "100%|███████████████████████████████████████████████████████████████████████████| 3001/3001 [00:00<00:00, 3907.05it/s]\n"
     ]
    }
   ],
   "source": [
    "%autoreload\n",
    "import os\n",
    "import sys\n",
    "from typing import Any\n",
    "\n",
    "import pandas as pd\n",
    "from tqdm.notebook import tqdm\n",
    "from transformers import (\n",
    "    BertTokenizer,\n",
    "    BertForSequenceClassification,\n",
    "    pipeline,\n",
    "    Trainer,\n",
    "    TrainingArguments\n",
    ")\n",
    "from datasets import load_dataset\n",
    "\n",
    "\n",
    "curr_dir = os.getcwd()\n",
    "while os.path.basename(curr_dir) != \"candidate_ranking\":\n",
    "    curr_dir = os.path.dirname(curr_dir)\n",
    "sys.path.append(curr_dir)"
   ]
  },
  {
   "cell_type": "code",
   "execution_count": 49,
   "id": "7a8dcdc9-b499-49a9-a1de-c0e18f2068e6",
   "metadata": {},
   "outputs": [],
   "source": [
    "from src.codiesp import (\n",
    "    CODIESP,\n",
    "    TEST\n",
    ")\n",
    "from src.error_injector import corrupt_text\n",
    "from src.language_model import BioClinicalBert"
   ]
  },
  {
   "cell_type": "markdown",
   "id": "25f5a64a-17e0-489d-83fb-cd2b51867c4b",
   "metadata": {},
   "source": [
    "# Define experiment parameters"
   ]
  },
  {
   "cell_type": "code",
   "execution_count": 50,
   "id": "9ab2e87b-4e39-464b-8c5a-2b4594dd5be6",
   "metadata": {},
   "outputs": [
    {
     "name": "stderr",
     "output_type": "stream",
     "text": [
      "Some weights of BertForSequenceClassification were not initialized from the model checkpoint at emilyalsentzer/Bio_ClinicalBERT and are newly initialized: ['classifier.bias', 'classifier.weight']\n",
      "You should probably TRAIN this model on a down-stream task to be able to use it for predictions and inference.\n"
     ]
    }
   ],
   "source": [
    "BIOBERT = BioClinicalBert()"
   ]
  },
  {
   "cell_type": "code",
   "execution_count": 51,
   "id": "a9d11e17-8432-4d99-b017-39ed4a4da1be",
   "metadata": {},
   "outputs": [],
   "source": [
    "PATH_DATASET_TRAIN_SYNTHETIC = os.path.join(curr_dir, \"data\", \"codiesp.synthetic.train.csv\")\n",
    "PATH_DATASET_TEST_SYNTHETIC = os.path.join(curr_dir, \"data\", \"codiesp.synthetic.test.csv\")"
   ]
  },
  {
   "cell_type": "code",
   "execution_count": 52,
   "id": "8228df9a-cea7-4987-9523-9809d28cf43e",
   "metadata": {},
   "outputs": [
    {
     "data": {
      "text/html": [
       "<div>\n",
       "<style scoped>\n",
       "    .dataframe tbody tr th:only-of-type {\n",
       "        vertical-align: middle;\n",
       "    }\n",
       "\n",
       "    .dataframe tbody tr th {\n",
       "        vertical-align: top;\n",
       "    }\n",
       "\n",
       "    .dataframe thead th {\n",
       "        text-align: right;\n",
       "    }\n",
       "</style>\n",
       "<table border=\"1\" class=\"dataframe\">\n",
       "  <thead>\n",
       "    <tr style=\"text-align: right;\">\n",
       "      <th></th>\n",
       "      <th>text_path</th>\n",
       "      <th>text_id</th>\n",
       "      <th>sentence</th>\n",
       "    </tr>\n",
       "  </thead>\n",
       "  <tbody>\n",
       "    <tr>\n",
       "      <th>0</th>\n",
       "      <td>S1130-05582007000500007-1.txt</td>\n",
       "      <td>0</td>\n",
       "      <td>The patient is a 38-year-old male who attended...</td>\n",
       "    </tr>\n",
       "    <tr>\n",
       "      <th>1</th>\n",
       "      <td>S1130-05582007000500007-1.txt</td>\n",
       "      <td>0</td>\n",
       "      <td>1.</td>\n",
       "    </tr>\n",
       "    <tr>\n",
       "      <th>2</th>\n",
       "      <td>S1130-05582007000500007-1.txt</td>\n",
       "      <td>0</td>\n",
       "      <td>The pathological antecedents include being exa...</td>\n",
       "    </tr>\n",
       "    <tr>\n",
       "      <th>3</th>\n",
       "      <td>S1130-05582007000500007-1.txt</td>\n",
       "      <td>0</td>\n",
       "      <td>The examination revealed a right mandibular tu...</td>\n",
       "    </tr>\n",
       "    <tr>\n",
       "      <th>4</th>\n",
       "      <td>S1130-05582007000500007-1.txt</td>\n",
       "      <td>0</td>\n",
       "      <td>The orthopantomography showed a mixed lesion w...</td>\n",
       "    </tr>\n",
       "  </tbody>\n",
       "</table>\n",
       "</div>"
      ],
      "text/plain": [
       "                       text_path  text_id  \\\n",
       "0  S1130-05582007000500007-1.txt        0   \n",
       "1  S1130-05582007000500007-1.txt        0   \n",
       "2  S1130-05582007000500007-1.txt        0   \n",
       "3  S1130-05582007000500007-1.txt        0   \n",
       "4  S1130-05582007000500007-1.txt        0   \n",
       "\n",
       "                                            sentence  \n",
       "0  The patient is a 38-year-old male who attended...  \n",
       "1                                                 1.  \n",
       "2  The pathological antecedents include being exa...  \n",
       "3  The examination revealed a right mandibular tu...  \n",
       "4  The orthopantomography showed a mixed lesion w...  "
      ]
     },
     "execution_count": 52,
     "metadata": {},
     "output_type": "execute_result"
    }
   ],
   "source": [
    "CODIESP.head()"
   ]
  },
  {
   "cell_type": "markdown",
   "id": "d975ab27-7ee5-4017-994e-4910d5b86337",
   "metadata": {},
   "source": [
    "# Define helper objects"
   ]
  },
  {
   "cell_type": "markdown",
   "id": "726a43d6-babc-4ba7-8103-a9cdf62388ad",
   "metadata": {},
   "source": [
    "## Data annotation functions `positive_case`, `negative_case`, `zero`"
   ]
  },
  {
   "cell_type": "code",
   "execution_count": 53,
   "id": "26ac0f19-9d27-4051-9ec1-095a5bdd2a7a",
   "metadata": {},
   "outputs": [],
   "source": [
    "def positive_case(x: Any) -> int:\n",
    "    return 1\n",
    "\n",
    "def negative_case(x: Any) -> int:\n",
    "    return 0\n",
    "\n",
    "def zero(x: Any) -> int:\n",
    "    return 0"
   ]
  },
  {
   "cell_type": "markdown",
   "id": "b986f529-9146-473b-8498-36735933e850",
   "metadata": {},
   "source": [
    "# Synthesize train and test datasets by injecting simulated transcription errors\n",
    "\n",
    "We’ll write a function to:\n",
    "Randomly introduce errors (typos, swaps, deletions, insertions).\n",
    "Prioritize errors in medical entities if specified.\n",
    "Ensure a user-defined ratio of altered words."
   ]
  },
  {
   "cell_type": "markdown",
   "id": "8a58c5cf-a1dc-4b2c-8d6c-643603cfcbba",
   "metadata": {},
   "source": [
    "## Training set"
   ]
  },
  {
   "cell_type": "code",
   "execution_count": 54,
   "id": "3a58a95f-3212-4aa9-9959-587cd0b3dbed",
   "metadata": {},
   "outputs": [],
   "source": [
    "dataset = CODIESP.copy()\n",
    "corrupted_dataset = dataset.copy()"
   ]
  },
  {
   "cell_type": "code",
   "execution_count": 55,
   "id": "c1746b59-4582-492d-8588-544e639bd5b0",
   "metadata": {},
   "outputs": [],
   "source": [
    "dataset[\"label\"] = dataset[\"sentence\"].apply(negative_case)\n",
    "dataset[\"num_character_errors\"] = dataset[\"sentence\"].apply(zero)\n",
    "dataset[\"num_word_errors\"] = dataset[\"sentence\"].apply(zero)"
   ]
  },
  {
   "cell_type": "code",
   "execution_count": 56,
   "id": "ae720c25-5ab9-4240-a840-1656aa9feeb1",
   "metadata": {},
   "outputs": [],
   "source": [
    "error_rows = list(corrupted_dataset[\"sentence\"].apply(\n",
    "    lambda x: corrupt_text(x, word_error_probability=0.2, character_error_probability=0.2)\n",
    "))"
   ]
  },
  {
   "cell_type": "code",
   "execution_count": 57,
   "id": "15d24294-d7d2-45ea-afbb-575157ea8ee1",
   "metadata": {},
   "outputs": [
    {
     "data": {
      "text/html": [
       "<div>\n",
       "<style scoped>\n",
       "    .dataframe tbody tr th:only-of-type {\n",
       "        vertical-align: middle;\n",
       "    }\n",
       "\n",
       "    .dataframe tbody tr th {\n",
       "        vertical-align: top;\n",
       "    }\n",
       "\n",
       "    .dataframe thead th {\n",
       "        text-align: right;\n",
       "    }\n",
       "</style>\n",
       "<table border=\"1\" class=\"dataframe\">\n",
       "  <thead>\n",
       "    <tr style=\"text-align: right;\">\n",
       "      <th></th>\n",
       "      <th>sentence</th>\n",
       "      <th>num_character_errors</th>\n",
       "      <th>num_word_errors</th>\n",
       "    </tr>\n",
       "  </thead>\n",
       "  <tbody>\n",
       "    <tr>\n",
       "      <th>0</th>\n",
       "      <td>The patient is a 38-year-old male who attended...</td>\n",
       "      <td>3</td>\n",
       "      <td>0</td>\n",
       "    </tr>\n",
       "    <tr>\n",
       "      <th>1</th>\n",
       "      <td>.</td>\n",
       "      <td>1</td>\n",
       "      <td>0</td>\n",
       "    </tr>\n",
       "    <tr>\n",
       "      <th>2</th>\n",
       "      <td>The pathological antecedents include being exa...</td>\n",
       "      <td>3</td>\n",
       "      <td>0</td>\n",
       "    </tr>\n",
       "    <tr>\n",
       "      <th>3</th>\n",
       "      <td>Thf examination revealed  right mandibular tum...</td>\n",
       "      <td>5</td>\n",
       "      <td>1</td>\n",
       "    </tr>\n",
       "    <tr>\n",
       "      <th>4</th>\n",
       "      <td>The orthopantomography showed a mixed lesion w...</td>\n",
       "      <td>2</td>\n",
       "      <td>0</td>\n",
       "    </tr>\n",
       "    <tr>\n",
       "      <th>...</th>\n",
       "      <td>...</td>\n",
       "      <td>...</td>\n",
       "      <td>...</td>\n",
       "    </tr>\n",
       "    <tr>\n",
       "      <th>8027</th>\n",
       "      <td>In the denuded area, an amniotic memtrane rgaf...</td>\n",
       "      <td>6</td>\n",
       "      <td>0</td>\n",
       "    </tr>\n",
       "    <tr>\n",
       "      <th>8028</th>\n",
       "      <td>During follow-up therc waq a progressive reepi...</td>\n",
       "      <td>5</td>\n",
       "      <td>0</td>\n",
       "    </tr>\n",
       "    <tr>\n",
       "      <th>8029</th>\n",
       "      <td>Thgree weeks after surgery htere was a regular...</td>\n",
       "      <td>5</td>\n",
       "      <td>0</td>\n",
       "    </tr>\n",
       "    <tr>\n",
       "      <th>8030</th>\n",
       "      <td>The VA of thxe left improved to 4/10.</td>\n",
       "      <td>1</td>\n",
       "      <td>1</td>\n",
       "    </tr>\n",
       "    <tr>\n",
       "      <th>8031</th>\n",
       "      <td>No irecurrences were observed after 8 months f...</td>\n",
       "      <td>3</td>\n",
       "      <td>0</td>\n",
       "    </tr>\n",
       "  </tbody>\n",
       "</table>\n",
       "<p>8032 rows × 3 columns</p>\n",
       "</div>"
      ],
      "text/plain": [
       "                                               sentence  num_character_errors  \\\n",
       "0     The patient is a 38-year-old male who attended...                     3   \n",
       "1                                                     .                     1   \n",
       "2     The pathological antecedents include being exa...                     3   \n",
       "3     Thf examination revealed  right mandibular tum...                     5   \n",
       "4     The orthopantomography showed a mixed lesion w...                     2   \n",
       "...                                                 ...                   ...   \n",
       "8027  In the denuded area, an amniotic memtrane rgaf...                     6   \n",
       "8028  During follow-up therc waq a progressive reepi...                     5   \n",
       "8029  Thgree weeks after surgery htere was a regular...                     5   \n",
       "8030              The VA of thxe left improved to 4/10.                     1   \n",
       "8031  No irecurrences were observed after 8 months f...                     3   \n",
       "\n",
       "      num_word_errors  \n",
       "0                   0  \n",
       "1                   0  \n",
       "2                   0  \n",
       "3                   1  \n",
       "4                   0  \n",
       "...               ...  \n",
       "8027                0  \n",
       "8028                0  \n",
       "8029                0  \n",
       "8030                1  \n",
       "8031                0  \n",
       "\n",
       "[8032 rows x 3 columns]"
      ]
     },
     "execution_count": 57,
     "metadata": {},
     "output_type": "execute_result"
    }
   ],
   "source": [
    "error_columns_df = pd.DataFrame(error_rows, columns=[\"sentence\", \"num_character_errors\", \"num_word_errors\"])\n",
    "\n",
    "corrupted_dataset = pd.concat(\n",
    "    [corrupted_dataset.drop(\"sentence\", axis=1, inplace=True), error_columns_df],\n",
    "    axis=1\n",
    ")\n",
    "\n",
    "error_columns_df"
   ]
  },
  {
   "cell_type": "code",
   "execution_count": 58,
   "id": "d9d9ddd6-d92f-4b74-b74f-4f5bd7f38e4d",
   "metadata": {},
   "outputs": [],
   "source": [
    "corrupted_dataset[\"label\"] = corrupted_dataset.sentence.apply(positive_case)\n",
    "\n",
    "# Merge and shuffle dataset\n",
    "final_dataset = pd.concat([dataset, corrupted_dataset])\n",
    "final_dataset.to_csv(PATH_DATASET_TRAIN_SYNTHETIC, index=False)"
   ]
  },
  {
   "cell_type": "code",
   "execution_count": 59,
   "id": "553e05d5-8d31-415a-89eb-8b1d1a563e34",
   "metadata": {},
   "outputs": [
    {
     "data": {
      "text/html": [
       "<div>\n",
       "<style scoped>\n",
       "    .dataframe tbody tr th:only-of-type {\n",
       "        vertical-align: middle;\n",
       "    }\n",
       "\n",
       "    .dataframe tbody tr th {\n",
       "        vertical-align: top;\n",
       "    }\n",
       "\n",
       "    .dataframe thead th {\n",
       "        text-align: right;\n",
       "    }\n",
       "</style>\n",
       "<table border=\"1\" class=\"dataframe\">\n",
       "  <thead>\n",
       "    <tr style=\"text-align: right;\">\n",
       "      <th></th>\n",
       "      <th>sentence</th>\n",
       "      <th>num_character_errors</th>\n",
       "      <th>num_word_errors</th>\n",
       "      <th>label</th>\n",
       "    </tr>\n",
       "  </thead>\n",
       "  <tbody>\n",
       "    <tr>\n",
       "      <th>0</th>\n",
       "      <td>The patient is a 38-year-old male who attended...</td>\n",
       "      <td>3</td>\n",
       "      <td>0</td>\n",
       "      <td>1</td>\n",
       "    </tr>\n",
       "    <tr>\n",
       "      <th>1</th>\n",
       "      <td>.</td>\n",
       "      <td>1</td>\n",
       "      <td>0</td>\n",
       "      <td>1</td>\n",
       "    </tr>\n",
       "    <tr>\n",
       "      <th>2</th>\n",
       "      <td>The pathological antecedents include being exa...</td>\n",
       "      <td>3</td>\n",
       "      <td>0</td>\n",
       "      <td>1</td>\n",
       "    </tr>\n",
       "    <tr>\n",
       "      <th>3</th>\n",
       "      <td>Thf examination revealed  right mandibular tum...</td>\n",
       "      <td>5</td>\n",
       "      <td>1</td>\n",
       "      <td>1</td>\n",
       "    </tr>\n",
       "    <tr>\n",
       "      <th>4</th>\n",
       "      <td>The orthopantomography showed a mixed lesion w...</td>\n",
       "      <td>2</td>\n",
       "      <td>0</td>\n",
       "      <td>1</td>\n",
       "    </tr>\n",
       "    <tr>\n",
       "      <th>...</th>\n",
       "      <td>...</td>\n",
       "      <td>...</td>\n",
       "      <td>...</td>\n",
       "      <td>...</td>\n",
       "    </tr>\n",
       "    <tr>\n",
       "      <th>8027</th>\n",
       "      <td>In the denuded area, an amniotic memtrane rgaf...</td>\n",
       "      <td>6</td>\n",
       "      <td>0</td>\n",
       "      <td>1</td>\n",
       "    </tr>\n",
       "    <tr>\n",
       "      <th>8028</th>\n",
       "      <td>During follow-up therc waq a progressive reepi...</td>\n",
       "      <td>5</td>\n",
       "      <td>0</td>\n",
       "      <td>1</td>\n",
       "    </tr>\n",
       "    <tr>\n",
       "      <th>8029</th>\n",
       "      <td>Thgree weeks after surgery htere was a regular...</td>\n",
       "      <td>5</td>\n",
       "      <td>0</td>\n",
       "      <td>1</td>\n",
       "    </tr>\n",
       "    <tr>\n",
       "      <th>8030</th>\n",
       "      <td>The VA of thxe left improved to 4/10.</td>\n",
       "      <td>1</td>\n",
       "      <td>1</td>\n",
       "      <td>1</td>\n",
       "    </tr>\n",
       "    <tr>\n",
       "      <th>8031</th>\n",
       "      <td>No irecurrences were observed after 8 months f...</td>\n",
       "      <td>3</td>\n",
       "      <td>0</td>\n",
       "      <td>1</td>\n",
       "    </tr>\n",
       "  </tbody>\n",
       "</table>\n",
       "<p>8032 rows × 4 columns</p>\n",
       "</div>"
      ],
      "text/plain": [
       "                                               sentence  num_character_errors  \\\n",
       "0     The patient is a 38-year-old male who attended...                     3   \n",
       "1                                                     .                     1   \n",
       "2     The pathological antecedents include being exa...                     3   \n",
       "3     Thf examination revealed  right mandibular tum...                     5   \n",
       "4     The orthopantomography showed a mixed lesion w...                     2   \n",
       "...                                                 ...                   ...   \n",
       "8027  In the denuded area, an amniotic memtrane rgaf...                     6   \n",
       "8028  During follow-up therc waq a progressive reepi...                     5   \n",
       "8029  Thgree weeks after surgery htere was a regular...                     5   \n",
       "8030              The VA of thxe left improved to 4/10.                     1   \n",
       "8031  No irecurrences were observed after 8 months f...                     3   \n",
       "\n",
       "      num_word_errors  label  \n",
       "0                   0      1  \n",
       "1                   0      1  \n",
       "2                   0      1  \n",
       "3                   1      1  \n",
       "4                   0      1  \n",
       "...               ...    ...  \n",
       "8027                0      1  \n",
       "8028                0      1  \n",
       "8029                0      1  \n",
       "8030                1      1  \n",
       "8031                0      1  \n",
       "\n",
       "[8032 rows x 4 columns]"
      ]
     },
     "execution_count": 59,
     "metadata": {},
     "output_type": "execute_result"
    }
   ],
   "source": [
    "corrupted_dataset"
   ]
  },
  {
   "cell_type": "markdown",
   "id": "9873e591-f7c4-4d90-95e9-dd806a4daa69",
   "metadata": {},
   "source": [
    "Explanation:\n",
    "1. Medical terms from CANTEMIST are identified and corrupted preferentially based on entity_error_prob.\n",
    "2. Non-medical words are corrupted with a lower probability other_word_prob.\n",
    "3. The output dataset (corrupted_CANTEMIST.csv) contains:\n",
    "   1. Original sentences (label = 0)\n",
    "   2. Corrupted sentences (label = 1)"
   ]
  },
  {
   "cell_type": "markdown",
   "id": "b13a7d40-fc90-4432-91c5-8cce46eff444",
   "metadata": {},
   "source": [
    "## Test set\n",
    "\n",
    "We apply the same sequence of steps to add positive cases (errors) to the label set:"
   ]
  },
  {
   "cell_type": "code",
   "execution_count": 60,
   "id": "b4aadcf6-f65e-4554-b0d7-a5f43e0513fb",
   "metadata": {},
   "outputs": [],
   "source": [
    "test = TEST.copy()\n",
    "corrupted_test = test.copy()\n",
    "\n",
    "test[\"label\"] = test[\"sentence\"].apply(negative_case)\n",
    "\n",
    "error_rows_test = list(corrupted_test[\"sentence\"].apply(\n",
    "    lambda x: corrupt_text(x, word_error_probability=0.2, character_error_probability=0.2)\n",
    "))\n",
    "\n",
    "error_columns_test_df = pd.DataFrame(\n",
    "    error_rows_test,\n",
    "    columns=[\"sentence\", \"num_character_errors\", \"num_word_errors\"]\n",
    ")\n",
    "\n",
    "corrupted_test = pd.concat(\n",
    "    [corrupted_test.drop(\"sentence\", axis=1, inplace=True), error_columns_test_df],\n",
    "    axis=1\n",
    ")\n",
    "\n",
    "error_columns_test_df\n",
    "\n",
    "corrupted_test[\"label\"] = corrupted_dataset.sentence.apply(positive_case)\n",
    "\n",
    "# Merge and shuffle dataset\n",
    "final_test = pd.concat([test, corrupted_test])\n",
    "final_test.to_csv(PATH_DATASET_TEST_SYNTHETIC, index=False)"
   ]
  },
  {
   "cell_type": "markdown",
   "id": "2007bba3",
   "metadata": {},
   "source": [
    "# Training ClinicalBERT to Detect Errors\n",
    "\n",
    "Now, we’ll train ClinicalBERT on the synthetic dataset to detect transcription errors."
   ]
  },
  {
   "cell_type": "code",
   "execution_count": 61,
   "id": "ffa2bcd1",
   "metadata": {},
   "outputs": [
    {
     "data": {
      "application/vnd.jupyter.widget-view+json": {
       "model_id": "e2832a4275ec41c4a849aa6d8f8d371a",
       "version_major": 2,
       "version_minor": 0
      },
      "text/plain": [
       "Generating train split: 0 examples [00:00, ? examples/s]"
      ]
     },
     "metadata": {},
     "output_type": "display_data"
    },
    {
     "name": "stdout",
     "output_type": "stream",
     "text": [
      "DatasetDict({\n",
      "    train: Dataset({\n",
      "        features: ['text_path', 'text_id', 'sentence', 'label', 'num_character_errors', 'num_word_errors'],\n",
      "        num_rows: 12851\n",
      "    })\n",
      "    test: Dataset({\n",
      "        features: ['text_path', 'text_id', 'sentence', 'label', 'num_character_errors', 'num_word_errors'],\n",
      "        num_rows: 3213\n",
      "    })\n",
      "})\n"
     ]
    }
   ],
   "source": [
    "# Load ClinicalBERT\n",
    "\n",
    "\n",
    "# Load dataset\n",
    "dataset = load_dataset(\"csv\", data_files={\"train\": PATH_DATASET_SYNTHETIC})\n",
    "dataset = dataset[\"train\"].train_test_split(test_size=0.2)\n",
    "\n",
    "print(dataset)"
   ]
  },
  {
   "cell_type": "code",
   "execution_count": null,
   "id": "baf4d4bf-42dc-4f57-9938-0c149f9f1ca5",
   "metadata": {},
   "outputs": [
    {
     "data": {
      "application/vnd.jupyter.widget-view+json": {
       "model_id": "99ecbf9ffc9e43b7a4f53e843046e2c6",
       "version_major": 2,
       "version_minor": 0
      },
      "text/plain": [
       "Map:   0%|          | 0/12851 [00:00<?, ? examples/s]"
      ]
     },
     "metadata": {},
     "output_type": "display_data"
    },
    {
     "data": {
      "application/vnd.jupyter.widget-view+json": {
       "model_id": "994a6b4f9ec04414bb228ed3506e71d1",
       "version_major": 2,
       "version_minor": 0
      },
      "text/plain": [
       "Map:   0%|          | 0/3213 [00:00<?, ? examples/s]"
      ]
     },
     "metadata": {},
     "output_type": "display_data"
    },
    {
     "name": "stderr",
     "output_type": "stream",
     "text": [
      "/Users/jordi/Documents/Profesional/Búsqueda de Trabajo/Barcelona 2024/ADP/lib/python3.11/site-packages/transformers/training_args.py:1575: FutureWarning: `evaluation_strategy` is deprecated and will be removed in version 4.46 of 🤗 Transformers. Use `eval_strategy` instead\n",
      "  warnings.warn(\n"
     ]
    },
    {
     "data": {
      "text/html": [
       "\n",
       "    <div>\n",
       "      \n",
       "      <progress value='169' max='4821' style='width:300px; height:20px; vertical-align: middle;'></progress>\n",
       "      [ 169/4821 00:47 < 21:54, 3.54 it/s, Epoch 0.10/3]\n",
       "    </div>\n",
       "    <table border=\"1\" class=\"dataframe\">\n",
       "  <thead>\n",
       " <tr style=\"text-align: left;\">\n",
       "      <th>Epoch</th>\n",
       "      <th>Training Loss</th>\n",
       "      <th>Validation Loss</th>\n",
       "    </tr>\n",
       "  </thead>\n",
       "  <tbody>\n",
       "  </tbody>\n",
       "</table><p>"
      ],
      "text/plain": [
       "<IPython.core.display.HTML object>"
      ]
     },
     "metadata": {},
     "output_type": "display_data"
    }
   ],
   "source": [
    "tokenized_datasets = dataset.map(BIOBERT.tokenize, batched=True)\n",
    "\n",
    "# Training settings\n",
    "training_args = TrainingArguments(\n",
    "    output_dir=\"./error_detection\",\n",
    "    evaluation_strategy=\"epoch\",\n",
    "    save_strategy=\"epoch\",\n",
    "    per_device_train_batch_size=8,\n",
    "    per_device_eval_batch_size=8,\n",
    "    num_train_epochs=3,\n",
    ")\n",
    "\n",
    "trainer = Trainer(\n",
    "    model=BIOBERT.model,\n",
    "    args=training_args,\n",
    "    train_dataset=tokenized_datasets[\"train\"],\n",
    "    eval_dataset=tokenized_datasets[\"test\"],\n",
    ")\n",
    "\n",
    "# Train model\n",
    "trainer.train()"
   ]
  },
  {
   "cell_type": "markdown",
   "id": "01842bb2-e565-4209-858e-de4b93ff2f67",
   "metadata": {},
   "source": [
    "# Proof of concept: error Detection on new transcriptions\n",
    "\n",
    "Once trained, ClinicalBERT can now classify new transcriptions for errors."
   ]
  },
  {
   "cell_type": "code",
   "execution_count": null,
   "id": "432d924d-df93-4e9f-801b-66311756dd52",
   "metadata": {},
   "outputs": [],
   "source": [
    "error_detector = pipeline(\"text-classification\", model=BIOBERT.model, tokenizer=BIOBERT.tokenizer)\n",
    "\n",
    "test_text = \"The patient has dyspnaea and needs immdeiate attention.\"\n",
    "score = error_detector(test_text)\n",
    "print(score)  # [{'label': '1' (error), 'score': 0.95}]\n"
   ]
  },
  {
   "cell_type": "code",
   "execution_count": null,
   "id": "674a27bb-00e6-4879-9b63-7ef50e73d175",
   "metadata": {},
   "outputs": [],
   "source": [
    "test_text = \"The patient has dyspnea and needs immediate attention.\"\n",
    "score = error_detector(test_text)\n",
    "score"
   ]
  },
  {
   "cell_type": "markdown",
   "id": "fdf72f80-515f-45bf-8418-4d9651c0b42b",
   "metadata": {},
   "source": [
    "- A high probability means the model detects errors.\n",
    "- A low probability means the transcription is likely correct."
   ]
  },
  {
   "cell_type": "markdown",
   "id": "61ffaedb-404a-4e28-981b-9c25fced58c3",
   "metadata": {},
   "source": [
    "# Quantitative evaluation"
   ]
  },
  {
   "cell_type": "code",
   "execution_count": null,
   "id": "81fba819-8e6e-4046-baa5-d2fb040755cc",
   "metadata": {},
   "outputs": [],
   "source": [
    "test[\"prediction\"] = test[\"sentence\"].apply(error_detector)['label']"
   ]
  },
  {
   "cell_type": "code",
   "execution_count": null,
   "id": "f57d4042-c6dd-4457-a8dd-19e5b608552c",
   "metadata": {},
   "outputs": [],
   "source": [
    "test[[\"label\", \"prediction\"]].corr()"
   ]
  },
  {
   "cell_type": "markdown",
   "id": "81274906-d635-486c-a3ab-1589e6285a77",
   "metadata": {},
   "source": [
    "# Next Steps\n",
    "\n",
    "1. Evaluate performance: Compute F1-score, precision, recall to ensure good error detection.\n",
    "2. Refine error generation: Introduce more realistic mistakes (homophones, phonetic errors).\n",
    "3. Fine-tune for specific error types: Add subcategories like misrecognized words vs. omitted words."
   ]
  },
  {
   "cell_type": "code",
   "execution_count": null,
   "id": "01f7a71c-56dc-4acd-bd21-cfbf2bca0b08",
   "metadata": {},
   "outputs": [],
   "source": []
  }
 ],
 "metadata": {
  "kernelspec": {
   "display_name": "adp_task",
   "language": "python",
   "name": "adp_task"
  },
  "language_info": {
   "codemirror_mode": {
    "name": "ipython",
    "version": 3
   },
   "file_extension": ".py",
   "mimetype": "text/x-python",
   "name": "python",
   "nbconvert_exporter": "python",
   "pygments_lexer": "ipython3",
   "version": "3.11.9"
  }
 },
 "nbformat": 4,
 "nbformat_minor": 5
}
